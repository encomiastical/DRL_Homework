{
 "cells": [
  {
   "cell_type": "code",
   "execution_count": 1,
   "metadata": {},
   "outputs": [
    {
     "name": "stderr",
     "output_type": "stream",
     "text": [
      "A.L.E: Arcade Learning Environment (version 0.8.1+53f58b7)\n",
      "[Powered by Stella]\n",
      "A.L.E: Arcade Learning Environment (version 0.8.1+53f58b7)\n",
      "[Powered by Stella]\n",
      "A.L.E: Arcade Learning Environment (version 0.8.1+53f58b7)\n",
      "[Powered by Stella]\n",
      "A.L.E: Arcade Learning Environment (version 0.8.1+53f58b7)\n",
      "[Powered by Stella]\n"
     ]
    }
   ],
   "source": [
    "import gymnasium as gym\n",
    "NUM_ENVS = 3\n",
    "envs = gym.vector.make('ALE/Breakout-v5', num_envs=NUM_ENVS)#, render_mode='human')"
   ]
  },
  {
   "cell_type": "code",
   "execution_count": 2,
   "metadata": {},
   "outputs": [
    {
     "name": "stderr",
     "output_type": "stream",
     "text": [
      "WARNING:absl:At this time, the v2.11+ optimizer `tf.keras.optimizers.Adam` runs slowly on M1/M2 Macs, please use the legacy Keras optimizer instead, located at `tf.keras.optimizers.legacy.Adam`.\n"
     ]
    }
   ],
   "source": [
    "import tensorflow as tf\n",
    "\n",
    "# Define the CNN model\n",
    "def create_model():\n",
    "    model = tf.keras.models.Sequential([\n",
    "        tf.keras.layers.Conv2D(32, (3, 3), activation='relu', input_shape=(210, 160, 3)),\n",
    "        tf.keras.layers.BatchNormalization(),\n",
    "        tf.keras.layers.MaxPooling2D((2, 2)),\n",
    "        tf.keras.layers.Conv2D(64, (3, 3), activation='relu'),\n",
    "        tf.keras.layers.BatchNormalization(),\n",
    "        tf.keras.layers.MaxPooling2D((2, 2)),\n",
    "        tf.keras.layers.Conv2D(64, (3, 3), activation='relu'),\n",
    "        tf.keras.layers.BatchNormalization(),\n",
    "        tf.keras.layers.Flatten(),\n",
    "        tf.keras.layers.Dense(64, activation='relu'),\n",
    "        tf.keras.layers.Dense(4, activation='softmax')\n",
    "    ])\n",
    "    return model\n",
    "\n",
    "# Create the model\n",
    "model = create_model()\n",
    "optimizer = tf.keras.optimizers.Adam()\n",
    "# Copy the model\n",
    "target_network = tf.keras.models.clone_model(model)\n",
    "\n"
   ]
  },
  {
   "cell_type": "code",
   "execution_count": null,
   "metadata": {},
   "outputs": [],
   "source": []
  },
  {
   "cell_type": "code",
   "execution_count": 15,
   "metadata": {},
   "outputs": [
    {
     "name": "stdout",
     "output_type": "stream",
     "text": [
      "(3, 210, 160, 3)\n",
      "max_steps=1000000\n",
      "n: 0 tf.Tensor(0.25, shape=(), dtype=float32)\n"
     ]
    },
    {
     "name": "stderr",
     "output_type": "stream",
     "text": [
      "/var/folders/mt/0n8phlt50rn7h35xhgh97mw80000gn/T/ipykernel_30589/3025377550.py:31: VisibleDeprecationWarning: Creating an ndarray from ragged nested sequences (which is a list-or-tuple of lists-or-tuples-or ndarrays with different lengths or shapes) is deprecated. If you meant to do this, you must specify 'dtype=object' when creating the ndarray.\n",
      "  target_network.set_weights((1 - TAU) * np.array(target_network.get_weights()) + TAU * np.array(model.get_weights()))\n"
     ]
    },
    {
     "name": "stdout",
     "output_type": "stream",
     "text": [
      "n: 1 tf.Tensor(0.25, shape=(), dtype=float32)\n",
      "n: 2 tf.Tensor(0.25, shape=(), dtype=float32)\n",
      "n: 3 tf.Tensor(0.25, shape=(), dtype=float32)\n",
      "n: 4 tf.Tensor(0.25, shape=(), dtype=float32)\n",
      "n: 5 tf.Tensor(0.25, shape=(), dtype=float32)\n",
      "n: 6 tf.Tensor(0.25, shape=(), dtype=float32)\n",
      "n: 7 tf.Tensor(0.25, shape=(), dtype=float32)\n",
      "n: 8 tf.Tensor(0.25, shape=(), dtype=float32)\n",
      "n: 9 tf.Tensor(0.25, shape=(), dtype=float32)\n",
      "max_steps=999999\n",
      "AA tf.Tensor(0.25, shape=(), dtype=float32)\n",
      "n: 0 tf.Tensor(0.25, shape=(), dtype=float32)\n"
     ]
    },
    {
     "name": "stderr",
     "output_type": "stream",
     "text": [
      "/var/folders/mt/0n8phlt50rn7h35xhgh97mw80000gn/T/ipykernel_30589/3025377550.py:31: VisibleDeprecationWarning: Creating an ndarray from ragged nested sequences (which is a list-or-tuple of lists-or-tuples-or ndarrays with different lengths or shapes) is deprecated. If you meant to do this, you must specify 'dtype=object' when creating the ndarray.\n",
      "  target_network.set_weights((1 - TAU) * np.array(target_network.get_weights()) + TAU * np.array(model.get_weights()))\n"
     ]
    },
    {
     "name": "stdout",
     "output_type": "stream",
     "text": [
      "n: 1 tf.Tensor(0.25, shape=(), dtype=float32)\n",
      "n: 2 tf.Tensor(0.25, shape=(), dtype=float32)\n",
      "n: 3 tf.Tensor(0.25, shape=(), dtype=float32)\n",
      "n: 4 tf.Tensor(0.25, shape=(), dtype=float32)\n",
      "n: 5 tf.Tensor(0.25, shape=(), dtype=float32)\n",
      "n: 6 tf.Tensor(0.25, shape=(), dtype=float32)\n",
      "n: 7 tf.Tensor(0.25, shape=(), dtype=float32)\n",
      "n: 8 tf.Tensor(0.25, shape=(), dtype=float32)\n",
      "n: 9 tf.Tensor(0.25, shape=(), dtype=float32)\n",
      "max_steps=999998\n",
      "AA tf.Tensor(0.25, shape=(), dtype=float32)\n",
      "n: 0 tf.Tensor(0.25, shape=(), dtype=float32)\n"
     ]
    },
    {
     "name": "stderr",
     "output_type": "stream",
     "text": [
      "/var/folders/mt/0n8phlt50rn7h35xhgh97mw80000gn/T/ipykernel_30589/3025377550.py:31: VisibleDeprecationWarning: Creating an ndarray from ragged nested sequences (which is a list-or-tuple of lists-or-tuples-or ndarrays with different lengths or shapes) is deprecated. If you meant to do this, you must specify 'dtype=object' when creating the ndarray.\n",
      "  target_network.set_weights((1 - TAU) * np.array(target_network.get_weights()) + TAU * np.array(model.get_weights()))\n"
     ]
    },
    {
     "name": "stdout",
     "output_type": "stream",
     "text": [
      "n: 1 tf.Tensor(0.25, shape=(), dtype=float32)\n",
      "n: 2 tf.Tensor(0.25, shape=(), dtype=float32)\n",
      "n: 3 tf.Tensor(0.25, shape=(), dtype=float32)\n",
      "n: 4 tf.Tensor(0.25, shape=(), dtype=float32)\n",
      "n: 5 tf.Tensor(0.25, shape=(), dtype=float32)\n",
      "n: 6 tf.Tensor(0.25, shape=(), dtype=float32)\n",
      "n: 7 tf.Tensor(0.25, shape=(), dtype=float32)\n",
      "n: 8 tf.Tensor(0.25, shape=(), dtype=float32)\n",
      "n: 9 tf.Tensor(0.25, shape=(), dtype=float32)\n",
      "max_steps=999997\n",
      "AA tf.Tensor(0.25, shape=(), dtype=float32)\n",
      "n: 0 tf.Tensor(0.25, shape=(), dtype=float32)\n"
     ]
    },
    {
     "name": "stderr",
     "output_type": "stream",
     "text": [
      "/var/folders/mt/0n8phlt50rn7h35xhgh97mw80000gn/T/ipykernel_30589/3025377550.py:31: VisibleDeprecationWarning: Creating an ndarray from ragged nested sequences (which is a list-or-tuple of lists-or-tuples-or ndarrays with different lengths or shapes) is deprecated. If you meant to do this, you must specify 'dtype=object' when creating the ndarray.\n",
      "  target_network.set_weights((1 - TAU) * np.array(target_network.get_weights()) + TAU * np.array(model.get_weights()))\n"
     ]
    },
    {
     "name": "stdout",
     "output_type": "stream",
     "text": [
      "n: 1 tf.Tensor(0.25, shape=(), dtype=float32)\n",
      "n: 2 tf.Tensor(0.25, shape=(), dtype=float32)\n",
      "n: 3 tf.Tensor(0.25, shape=(), dtype=float32)\n",
      "n: 4 tf.Tensor(0.25, shape=(), dtype=float32)\n",
      "n: 5 tf.Tensor(0.25, shape=(), dtype=float32)\n",
      "n: 6 tf.Tensor(0.25, shape=(), dtype=float32)\n",
      "n: 7 tf.Tensor(0.25, shape=(), dtype=float32)\n",
      "n: 8 tf.Tensor(0.25, shape=(), dtype=float32)\n",
      "n: 9 tf.Tensor(0.25, shape=(), dtype=float32)\n",
      "max_steps=999996\n",
      "AA tf.Tensor(0.25, shape=(), dtype=float32)\n",
      "n: 0 tf.Tensor(0.25, shape=(), dtype=float32)\n"
     ]
    },
    {
     "name": "stderr",
     "output_type": "stream",
     "text": [
      "/var/folders/mt/0n8phlt50rn7h35xhgh97mw80000gn/T/ipykernel_30589/3025377550.py:31: VisibleDeprecationWarning: Creating an ndarray from ragged nested sequences (which is a list-or-tuple of lists-or-tuples-or ndarrays with different lengths or shapes) is deprecated. If you meant to do this, you must specify 'dtype=object' when creating the ndarray.\n",
      "  target_network.set_weights((1 - TAU) * np.array(target_network.get_weights()) + TAU * np.array(model.get_weights()))\n"
     ]
    },
    {
     "name": "stdout",
     "output_type": "stream",
     "text": [
      "n: 1 tf.Tensor(0.25, shape=(), dtype=float32)\n",
      "n: 2 tf.Tensor(0.25, shape=(), dtype=float32)\n",
      "n: 3 tf.Tensor(0.25, shape=(), dtype=float32)\n",
      "n: 4 tf.Tensor(0.25, shape=(), dtype=float32)\n",
      "n: 5 tf.Tensor(0.25, shape=(), dtype=float32)\n",
      "n: 6 tf.Tensor(0.25, shape=(), dtype=float32)\n",
      "n: 7 tf.Tensor(0.25, shape=(), dtype=float32)\n",
      "n: 8 tf.Tensor(0.25, shape=(), dtype=float32)\n",
      "n: 9 tf.Tensor(0.25, shape=(), dtype=float32)\n",
      "max_steps=999995\n",
      "AA tf.Tensor(0.25, shape=(), dtype=float32)\n",
      "n: 0 tf.Tensor(0.25, shape=(), dtype=float32)\n"
     ]
    },
    {
     "name": "stderr",
     "output_type": "stream",
     "text": [
      "/var/folders/mt/0n8phlt50rn7h35xhgh97mw80000gn/T/ipykernel_30589/3025377550.py:31: VisibleDeprecationWarning: Creating an ndarray from ragged nested sequences (which is a list-or-tuple of lists-or-tuples-or ndarrays with different lengths or shapes) is deprecated. If you meant to do this, you must specify 'dtype=object' when creating the ndarray.\n",
      "  target_network.set_weights((1 - TAU) * np.array(target_network.get_weights()) + TAU * np.array(model.get_weights()))\n"
     ]
    },
    {
     "name": "stdout",
     "output_type": "stream",
     "text": [
      "n: 1 tf.Tensor(0.25, shape=(), dtype=float32)\n",
      "n: 2 tf.Tensor(0.25, shape=(), dtype=float32)\n",
      "n: 3 tf.Tensor(0.25, shape=(), dtype=float32)\n",
      "n: 4 tf.Tensor(0.25, shape=(), dtype=float32)\n",
      "n: 5 tf.Tensor(0.25, shape=(), dtype=float32)\n",
      "n: 6 tf.Tensor(0.25, shape=(), dtype=float32)\n",
      "n: 7 tf.Tensor(0.25, shape=(), dtype=float32)\n",
      "n: 8 tf.Tensor(0.25, shape=(), dtype=float32)\n",
      "n: 9 tf.Tensor(0.25, shape=(), dtype=float32)\n",
      "max_steps=999994\n",
      "AA tf.Tensor(0.25, shape=(), dtype=float32)\n",
      "n: 0 tf.Tensor(0.25, shape=(), dtype=float32)\n"
     ]
    },
    {
     "name": "stderr",
     "output_type": "stream",
     "text": [
      "/var/folders/mt/0n8phlt50rn7h35xhgh97mw80000gn/T/ipykernel_30589/3025377550.py:31: VisibleDeprecationWarning: Creating an ndarray from ragged nested sequences (which is a list-or-tuple of lists-or-tuples-or ndarrays with different lengths or shapes) is deprecated. If you meant to do this, you must specify 'dtype=object' when creating the ndarray.\n",
      "  target_network.set_weights((1 - TAU) * np.array(target_network.get_weights()) + TAU * np.array(model.get_weights()))\n"
     ]
    },
    {
     "name": "stdout",
     "output_type": "stream",
     "text": [
      "n: 1 tf.Tensor(0.25, shape=(), dtype=float32)\n",
      "n: 2 tf.Tensor(0.25, shape=(), dtype=float32)\n",
      "n: 3 tf.Tensor(0.25, shape=(), dtype=float32)\n",
      "n: 4 tf.Tensor(0.25, shape=(), dtype=float32)\n",
      "n: 5 tf.Tensor(0.25, shape=(), dtype=float32)\n",
      "n: 6 tf.Tensor(0.25, shape=(), dtype=float32)\n",
      "n: 7 tf.Tensor(0.25, shape=(), dtype=float32)\n",
      "n: 8 tf.Tensor(0.25, shape=(), dtype=float32)\n",
      "n: 9 tf.Tensor(0.25, shape=(), dtype=float32)\n",
      "max_steps=999993\n",
      "AA tf.Tensor(0.25, shape=(), dtype=float32)\n"
     ]
    },
    {
     "name": "stderr",
     "output_type": "stream",
     "text": [
      "/var/folders/mt/0n8phlt50rn7h35xhgh97mw80000gn/T/ipykernel_30589/3025377550.py:31: VisibleDeprecationWarning: Creating an ndarray from ragged nested sequences (which is a list-or-tuple of lists-or-tuples-or ndarrays with different lengths or shapes) is deprecated. If you meant to do this, you must specify 'dtype=object' when creating the ndarray.\n",
      "  target_network.set_weights((1 - TAU) * np.array(target_network.get_weights()) + TAU * np.array(model.get_weights()))\n"
     ]
    },
    {
     "name": "stdout",
     "output_type": "stream",
     "text": [
      "n: 0 tf.Tensor(0.25, shape=(), dtype=float32)\n",
      "n: 1 tf.Tensor(0.25, shape=(), dtype=float32)\n",
      "n: 2 tf.Tensor(0.25, shape=(), dtype=float32)\n",
      "n: 3 tf.Tensor(0.25, shape=(), dtype=float32)\n",
      "n: 4 tf.Tensor(0.25, shape=(), dtype=float32)\n",
      "n: 5 tf.Tensor(0.25, shape=(), dtype=float32)\n",
      "n: 6 tf.Tensor(0.25, shape=(), dtype=float32)\n",
      "n: 7 tf.Tensor(0.25, shape=(), dtype=float32)\n",
      "n: 8 tf.Tensor(0.25, shape=(), dtype=float32)\n",
      "n: 9 tf.Tensor(0.25, shape=(), dtype=float32)\n",
      "max_steps=999992\n",
      "AA tf.Tensor(0.25, shape=(), dtype=float32)\n"
     ]
    },
    {
     "name": "stderr",
     "output_type": "stream",
     "text": [
      "/var/folders/mt/0n8phlt50rn7h35xhgh97mw80000gn/T/ipykernel_30589/3025377550.py:31: VisibleDeprecationWarning: Creating an ndarray from ragged nested sequences (which is a list-or-tuple of lists-or-tuples-or ndarrays with different lengths or shapes) is deprecated. If you meant to do this, you must specify 'dtype=object' when creating the ndarray.\n",
      "  target_network.set_weights((1 - TAU) * np.array(target_network.get_weights()) + TAU * np.array(model.get_weights()))\n"
     ]
    },
    {
     "name": "stdout",
     "output_type": "stream",
     "text": [
      "n: 0 tf.Tensor(0.25, shape=(), dtype=float32)\n",
      "n: 1 tf.Tensor(0.25, shape=(), dtype=float32)\n",
      "n: 2 tf.Tensor(0.25, shape=(), dtype=float32)\n",
      "n: 3 tf.Tensor(0.25, shape=(), dtype=float32)\n",
      "n: 4 tf.Tensor(0.25, shape=(), dtype=float32)\n",
      "n: 5 tf.Tensor(0.25, shape=(), dtype=float32)\n",
      "n: 6 tf.Tensor(0.25, shape=(), dtype=float32)\n",
      "n: 7 tf.Tensor(0.25, shape=(), dtype=float32)\n",
      "n: 8 tf.Tensor(0.25, shape=(), dtype=float32)\n",
      "n: 9 tf.Tensor(0.25, shape=(), dtype=float32)\n",
      "max_steps=999991\n",
      "AA tf.Tensor(0.25, shape=(), dtype=float32)\n",
      "n: 0 tf.Tensor(0.25, shape=(), dtype=float32)\n"
     ]
    },
    {
     "name": "stderr",
     "output_type": "stream",
     "text": [
      "/var/folders/mt/0n8phlt50rn7h35xhgh97mw80000gn/T/ipykernel_30589/3025377550.py:31: VisibleDeprecationWarning: Creating an ndarray from ragged nested sequences (which is a list-or-tuple of lists-or-tuples-or ndarrays with different lengths or shapes) is deprecated. If you meant to do this, you must specify 'dtype=object' when creating the ndarray.\n",
      "  target_network.set_weights((1 - TAU) * np.array(target_network.get_weights()) + TAU * np.array(model.get_weights()))\n"
     ]
    },
    {
     "name": "stdout",
     "output_type": "stream",
     "text": [
      "n: 1 tf.Tensor(0.25, shape=(), dtype=float32)\n",
      "n: 2 tf.Tensor(0.25, shape=(), dtype=float32)\n",
      "n: 3 tf.Tensor(0.25, shape=(), dtype=float32)\n",
      "n: 4 tf.Tensor(0.25, shape=(), dtype=float32)\n",
      "n: 5 tf.Tensor(0.25, shape=(), dtype=float32)\n",
      "n: 6 tf.Tensor(0.25, shape=(), dtype=float32)\n",
      "n: 7 tf.Tensor(0.25, shape=(), dtype=float32)\n",
      "n: 8 tf.Tensor(0.25, shape=(), dtype=float32)\n",
      "n: 9 tf.Tensor(0.25, shape=(), dtype=float32)\n",
      "max_steps=999990\n",
      "AA tf.Tensor(0.25, shape=(), dtype=float32)\n"
     ]
    },
    {
     "name": "stderr",
     "output_type": "stream",
     "text": [
      "/var/folders/mt/0n8phlt50rn7h35xhgh97mw80000gn/T/ipykernel_30589/3025377550.py:31: VisibleDeprecationWarning: Creating an ndarray from ragged nested sequences (which is a list-or-tuple of lists-or-tuples-or ndarrays with different lengths or shapes) is deprecated. If you meant to do this, you must specify 'dtype=object' when creating the ndarray.\n",
      "  target_network.set_weights((1 - TAU) * np.array(target_network.get_weights()) + TAU * np.array(model.get_weights()))\n"
     ]
    },
    {
     "name": "stdout",
     "output_type": "stream",
     "text": [
      "n: 0 tf.Tensor(0.25, shape=(), dtype=float32)\n",
      "n: 1 tf.Tensor(0.25, shape=(), dtype=float32)\n",
      "n: 2 tf.Tensor(0.25, shape=(), dtype=float32)\n",
      "n: 3 tf.Tensor(0.25, shape=(), dtype=float32)\n",
      "n: 4 tf.Tensor(0.25, shape=(), dtype=float32)\n",
      "n: 5 tf.Tensor(0.25, shape=(), dtype=float32)\n",
      "n: 6 tf.Tensor(0.25, shape=(), dtype=float32)\n",
      "n: 7 tf.Tensor(0.25, shape=(), dtype=float32)\n",
      "n: 8 tf.Tensor(0.25, shape=(), dtype=float32)\n",
      "n: 9 tf.Tensor(0.25, shape=(), dtype=float32)\n",
      "max_steps=999989\n",
      "AA tf.Tensor(0.25, shape=(), dtype=float32)\n",
      "n: 0 tf.Tensor(0.25, shape=(), dtype=float32)\n"
     ]
    },
    {
     "name": "stderr",
     "output_type": "stream",
     "text": [
      "/var/folders/mt/0n8phlt50rn7h35xhgh97mw80000gn/T/ipykernel_30589/3025377550.py:31: VisibleDeprecationWarning: Creating an ndarray from ragged nested sequences (which is a list-or-tuple of lists-or-tuples-or ndarrays with different lengths or shapes) is deprecated. If you meant to do this, you must specify 'dtype=object' when creating the ndarray.\n",
      "  target_network.set_weights((1 - TAU) * np.array(target_network.get_weights()) + TAU * np.array(model.get_weights()))\n"
     ]
    },
    {
     "name": "stdout",
     "output_type": "stream",
     "text": [
      "n: 1 tf.Tensor(0.25, shape=(), dtype=float32)\n",
      "n: 2 tf.Tensor(0.25, shape=(), dtype=float32)\n",
      "n: 3 tf.Tensor(0.25, shape=(), dtype=float32)\n",
      "n: 4 tf.Tensor(0.25, shape=(), dtype=float32)\n",
      "n: 5 tf.Tensor(0.25, shape=(), dtype=float32)\n",
      "n: 6 tf.Tensor(0.25, shape=(), dtype=float32)\n",
      "n: 7 tf.Tensor(0.25, shape=(), dtype=float32)\n",
      "n: 8 tf.Tensor(0.25, shape=(), dtype=float32)\n",
      "n: 9 tf.Tensor(0.25, shape=(), dtype=float32)\n",
      "max_steps=999988\n",
      "AA tf.Tensor(0.25, shape=(), dtype=float32)\n",
      "n: 0 tf.Tensor(0.25, shape=(), dtype=float32)\n"
     ]
    },
    {
     "name": "stderr",
     "output_type": "stream",
     "text": [
      "/var/folders/mt/0n8phlt50rn7h35xhgh97mw80000gn/T/ipykernel_30589/3025377550.py:31: VisibleDeprecationWarning: Creating an ndarray from ragged nested sequences (which is a list-or-tuple of lists-or-tuples-or ndarrays with different lengths or shapes) is deprecated. If you meant to do this, you must specify 'dtype=object' when creating the ndarray.\n",
      "  target_network.set_weights((1 - TAU) * np.array(target_network.get_weights()) + TAU * np.array(model.get_weights()))\n"
     ]
    },
    {
     "name": "stdout",
     "output_type": "stream",
     "text": [
      "n: 1 tf.Tensor(0.25, shape=(), dtype=float32)\n",
      "n: 2 tf.Tensor(0.25, shape=(), dtype=float32)\n",
      "n: 3 tf.Tensor(0.25, shape=(), dtype=float32)\n",
      "n: 4 tf.Tensor(0.25, shape=(), dtype=float32)\n",
      "n: 5 tf.Tensor(0.25, shape=(), dtype=float32)\n",
      "n: 6 tf.Tensor(0.25, shape=(), dtype=float32)\n",
      "n: 7 tf.Tensor(0.25, shape=(), dtype=float32)\n",
      "n: 8 tf.Tensor(0.25, shape=(), dtype=float32)\n",
      "n: 9 tf.Tensor(0.25, shape=(), dtype=float32)\n",
      "max_steps=999987\n",
      "AA tf.Tensor(0.25, shape=(), dtype=float32)\n",
      "n: 0 tf.Tensor(0.25, shape=(), dtype=float32)\n"
     ]
    },
    {
     "name": "stderr",
     "output_type": "stream",
     "text": [
      "/var/folders/mt/0n8phlt50rn7h35xhgh97mw80000gn/T/ipykernel_30589/3025377550.py:31: VisibleDeprecationWarning: Creating an ndarray from ragged nested sequences (which is a list-or-tuple of lists-or-tuples-or ndarrays with different lengths or shapes) is deprecated. If you meant to do this, you must specify 'dtype=object' when creating the ndarray.\n",
      "  target_network.set_weights((1 - TAU) * np.array(target_network.get_weights()) + TAU * np.array(model.get_weights()))\n"
     ]
    },
    {
     "name": "stdout",
     "output_type": "stream",
     "text": [
      "n: 1 tf.Tensor(0.25, shape=(), dtype=float32)\n",
      "n: 2 tf.Tensor(0.25, shape=(), dtype=float32)\n",
      "n: 3 tf.Tensor(0.25, shape=(), dtype=float32)\n",
      "n: 4 tf.Tensor(0.25, shape=(), dtype=float32)\n",
      "n: 5 tf.Tensor(0.25, shape=(), dtype=float32)\n",
      "n: 6 tf.Tensor(0.25, shape=(), dtype=float32)\n",
      "n: 7 tf.Tensor(0.25, shape=(), dtype=float32)\n",
      "n: 8 tf.Tensor(0.25, shape=(), dtype=float32)\n",
      "n: 9 tf.Tensor(0.25, shape=(), dtype=float32)\n",
      "max_steps=999986\n",
      "AA tf.Tensor(0.25, shape=(), dtype=float32)\n"
     ]
    },
    {
     "name": "stderr",
     "output_type": "stream",
     "text": [
      "/var/folders/mt/0n8phlt50rn7h35xhgh97mw80000gn/T/ipykernel_30589/3025377550.py:31: VisibleDeprecationWarning: Creating an ndarray from ragged nested sequences (which is a list-or-tuple of lists-or-tuples-or ndarrays with different lengths or shapes) is deprecated. If you meant to do this, you must specify 'dtype=object' when creating the ndarray.\n",
      "  target_network.set_weights((1 - TAU) * np.array(target_network.get_weights()) + TAU * np.array(model.get_weights()))\n"
     ]
    },
    {
     "name": "stdout",
     "output_type": "stream",
     "text": [
      "n: 0 tf.Tensor(0.25, shape=(), dtype=float32)\n",
      "n: 1 tf.Tensor(0.25, shape=(), dtype=float32)\n",
      "n: 2 tf.Tensor(0.25, shape=(), dtype=float32)\n",
      "n: 3 tf.Tensor(0.25, shape=(), dtype=float32)\n",
      "n: 4 tf.Tensor(0.25, shape=(), dtype=float32)\n",
      "n: 5 tf.Tensor(0.25, shape=(), dtype=float32)\n",
      "n: 6 tf.Tensor(0.25, shape=(), dtype=float32)\n",
      "n: 7 tf.Tensor(0.25, shape=(), dtype=float32)\n",
      "n: 8 tf.Tensor(0.25, shape=(), dtype=float32)\n",
      "n: 9 tf.Tensor(0.25, shape=(), dtype=float32)\n",
      "max_steps=999985\n",
      "AA tf.Tensor(0.25, shape=(), dtype=float32)\n"
     ]
    },
    {
     "name": "stderr",
     "output_type": "stream",
     "text": [
      "/var/folders/mt/0n8phlt50rn7h35xhgh97mw80000gn/T/ipykernel_30589/3025377550.py:31: VisibleDeprecationWarning: Creating an ndarray from ragged nested sequences (which is a list-or-tuple of lists-or-tuples-or ndarrays with different lengths or shapes) is deprecated. If you meant to do this, you must specify 'dtype=object' when creating the ndarray.\n",
      "  target_network.set_weights((1 - TAU) * np.array(target_network.get_weights()) + TAU * np.array(model.get_weights()))\n"
     ]
    },
    {
     "name": "stdout",
     "output_type": "stream",
     "text": [
      "n: 0 tf.Tensor(0.25, shape=(), dtype=float32)\n",
      "n: 1 tf.Tensor(0.25, shape=(), dtype=float32)\n",
      "n: 2 tf.Tensor(0.25, shape=(), dtype=float32)\n",
      "n: 3 tf.Tensor(0.25, shape=(), dtype=float32)\n",
      "n: 4 tf.Tensor(0.25, shape=(), dtype=float32)\n",
      "n: 5 tf.Tensor(0.25, shape=(), dtype=float32)\n",
      "n: 6 tf.Tensor(0.25, shape=(), dtype=float32)\n",
      "n: 7 tf.Tensor(0.25, shape=(), dtype=float32)\n",
      "n: 8 tf.Tensor(0.25, shape=(), dtype=float32)\n",
      "n: 9 tf.Tensor(0.25, shape=(), dtype=float32)\n",
      "max_steps=999984\n",
      "AA tf.Tensor(0.25, shape=(), dtype=float32)\n"
     ]
    },
    {
     "name": "stderr",
     "output_type": "stream",
     "text": [
      "/var/folders/mt/0n8phlt50rn7h35xhgh97mw80000gn/T/ipykernel_30589/3025377550.py:31: VisibleDeprecationWarning: Creating an ndarray from ragged nested sequences (which is a list-or-tuple of lists-or-tuples-or ndarrays with different lengths or shapes) is deprecated. If you meant to do this, you must specify 'dtype=object' when creating the ndarray.\n",
      "  target_network.set_weights((1 - TAU) * np.array(target_network.get_weights()) + TAU * np.array(model.get_weights()))\n"
     ]
    },
    {
     "name": "stdout",
     "output_type": "stream",
     "text": [
      "n: 0 tf.Tensor(0.25, shape=(), dtype=float32)\n",
      "n: 1 tf.Tensor(0.25, shape=(), dtype=float32)\n",
      "n: 2 tf.Tensor(0.25, shape=(), dtype=float32)\n",
      "n: 3 tf.Tensor(0.25, shape=(), dtype=float32)\n",
      "n: 4 tf.Tensor(0.25, shape=(), dtype=float32)\n",
      "n: 5 tf.Tensor(0.25, shape=(), dtype=float32)\n",
      "n: 6 tf.Tensor(0.25, shape=(), dtype=float32)\n",
      "n: 7 tf.Tensor(0.25, shape=(), dtype=float32)\n",
      "n: 8 tf.Tensor(0.25, shape=(), dtype=float32)\n",
      "n: 9 tf.Tensor(0.25, shape=(), dtype=float32)\n",
      "max_steps=999983\n",
      "AA tf.Tensor(0.25, shape=(), dtype=float32)\n"
     ]
    },
    {
     "name": "stderr",
     "output_type": "stream",
     "text": [
      "/var/folders/mt/0n8phlt50rn7h35xhgh97mw80000gn/T/ipykernel_30589/3025377550.py:31: VisibleDeprecationWarning: Creating an ndarray from ragged nested sequences (which is a list-or-tuple of lists-or-tuples-or ndarrays with different lengths or shapes) is deprecated. If you meant to do this, you must specify 'dtype=object' when creating the ndarray.\n",
      "  target_network.set_weights((1 - TAU) * np.array(target_network.get_weights()) + TAU * np.array(model.get_weights()))\n"
     ]
    },
    {
     "name": "stdout",
     "output_type": "stream",
     "text": [
      "n: 0 tf.Tensor(0.25, shape=(), dtype=float32)\n",
      "n: 1 tf.Tensor(0.25, shape=(), dtype=float32)\n",
      "n: 2 tf.Tensor(0.25, shape=(), dtype=float32)\n",
      "n: 3 tf.Tensor(0.25, shape=(), dtype=float32)\n",
      "n: 4 tf.Tensor(0.25, shape=(), dtype=float32)\n",
      "n: 5 tf.Tensor(0.25, shape=(), dtype=float32)\n",
      "n: 6 tf.Tensor(0.25, shape=(), dtype=float32)\n",
      "n: 7 tf.Tensor(0.25, shape=(), dtype=float32)\n",
      "n: 8 tf.Tensor(0.25, shape=(), dtype=float32)\n",
      "n: 9 tf.Tensor(0.25, shape=(), dtype=float32)\n",
      "max_steps=999982\n",
      "AA tf.Tensor(0.25, shape=(), dtype=float32)\n"
     ]
    },
    {
     "name": "stderr",
     "output_type": "stream",
     "text": [
      "/var/folders/mt/0n8phlt50rn7h35xhgh97mw80000gn/T/ipykernel_30589/3025377550.py:31: VisibleDeprecationWarning: Creating an ndarray from ragged nested sequences (which is a list-or-tuple of lists-or-tuples-or ndarrays with different lengths or shapes) is deprecated. If you meant to do this, you must specify 'dtype=object' when creating the ndarray.\n",
      "  target_network.set_weights((1 - TAU) * np.array(target_network.get_weights()) + TAU * np.array(model.get_weights()))\n"
     ]
    },
    {
     "name": "stdout",
     "output_type": "stream",
     "text": [
      "n: 0 tf.Tensor(0.25, shape=(), dtype=float32)\n",
      "n: 1 tf.Tensor(0.25, shape=(), dtype=float32)\n",
      "n: 2 tf.Tensor(0.25, shape=(), dtype=float32)\n",
      "n: 3 tf.Tensor(0.25, shape=(), dtype=float32)\n",
      "n: 4 tf.Tensor(0.25, shape=(), dtype=float32)\n",
      "n: 5 tf.Tensor(0.25, shape=(), dtype=float32)\n",
      "n: 6 tf.Tensor(0.25, shape=(), dtype=float32)\n",
      "n: 7 tf.Tensor(0.25, shape=(), dtype=float32)\n",
      "n: 8 tf.Tensor(0.25, shape=(), dtype=float32)\n",
      "n: 9 tf.Tensor(0.25, shape=(), dtype=float32)\n",
      "max_steps=999981\n",
      "AA tf.Tensor(0.25, shape=(), dtype=float32)\n"
     ]
    },
    {
     "name": "stderr",
     "output_type": "stream",
     "text": [
      "/var/folders/mt/0n8phlt50rn7h35xhgh97mw80000gn/T/ipykernel_30589/3025377550.py:31: VisibleDeprecationWarning: Creating an ndarray from ragged nested sequences (which is a list-or-tuple of lists-or-tuples-or ndarrays with different lengths or shapes) is deprecated. If you meant to do this, you must specify 'dtype=object' when creating the ndarray.\n",
      "  target_network.set_weights((1 - TAU) * np.array(target_network.get_weights()) + TAU * np.array(model.get_weights()))\n"
     ]
    },
    {
     "name": "stdout",
     "output_type": "stream",
     "text": [
      "n: 0 tf.Tensor(0.25, shape=(), dtype=float32)\n",
      "n: 1 tf.Tensor(0.25, shape=(), dtype=float32)\n",
      "n: 2 tf.Tensor(0.25, shape=(), dtype=float32)\n",
      "n: 3 tf.Tensor(0.25, shape=(), dtype=float32)\n",
      "n: 4 tf.Tensor(0.25, shape=(), dtype=float32)\n",
      "n: 5 tf.Tensor(0.25, shape=(), dtype=float32)\n",
      "n: 6 tf.Tensor(0.25, shape=(), dtype=float32)\n",
      "n: 7 tf.Tensor(0.25, shape=(), dtype=float32)\n",
      "n: 8 tf.Tensor(0.25, shape=(), dtype=float32)\n",
      "n: 9 tf.Tensor(0.25, shape=(), dtype=float32)\n",
      "max_steps=999980\n",
      "AA tf.Tensor(0.25, shape=(), dtype=float32)\n"
     ]
    },
    {
     "name": "stderr",
     "output_type": "stream",
     "text": [
      "/var/folders/mt/0n8phlt50rn7h35xhgh97mw80000gn/T/ipykernel_30589/3025377550.py:31: VisibleDeprecationWarning: Creating an ndarray from ragged nested sequences (which is a list-or-tuple of lists-or-tuples-or ndarrays with different lengths or shapes) is deprecated. If you meant to do this, you must specify 'dtype=object' when creating the ndarray.\n",
      "  target_network.set_weights((1 - TAU) * np.array(target_network.get_weights()) + TAU * np.array(model.get_weights()))\n"
     ]
    },
    {
     "name": "stdout",
     "output_type": "stream",
     "text": [
      "n: 0 tf.Tensor(0.25, shape=(), dtype=float32)\n",
      "n: 1 tf.Tensor(0.25, shape=(), dtype=float32)\n",
      "n: 2 tf.Tensor(0.25, shape=(), dtype=float32)\n",
      "n: 3 tf.Tensor(0.25, shape=(), dtype=float32)\n",
      "n: 4 tf.Tensor(0.25, shape=(), dtype=float32)\n",
      "n: 5 tf.Tensor(0.25, shape=(), dtype=float32)\n",
      "n: 6 tf.Tensor(0.25, shape=(), dtype=float32)\n",
      "n: 7 tf.Tensor(0.25, shape=(), dtype=float32)\n",
      "n: 8 tf.Tensor(0.25, shape=(), dtype=float32)\n",
      "n: 9 tf.Tensor(0.25, shape=(), dtype=float32)\n",
      "max_steps=999979\n",
      "AA tf.Tensor(0.25, shape=(), dtype=float32)\n"
     ]
    },
    {
     "name": "stderr",
     "output_type": "stream",
     "text": [
      "/var/folders/mt/0n8phlt50rn7h35xhgh97mw80000gn/T/ipykernel_30589/3025377550.py:31: VisibleDeprecationWarning: Creating an ndarray from ragged nested sequences (which is a list-or-tuple of lists-or-tuples-or ndarrays with different lengths or shapes) is deprecated. If you meant to do this, you must specify 'dtype=object' when creating the ndarray.\n",
      "  target_network.set_weights((1 - TAU) * np.array(target_network.get_weights()) + TAU * np.array(model.get_weights()))\n"
     ]
    },
    {
     "name": "stdout",
     "output_type": "stream",
     "text": [
      "n: 0 tf.Tensor(0.25, shape=(), dtype=float32)\n",
      "n: 1 tf.Tensor(0.25, shape=(), dtype=float32)\n",
      "n: 2 tf.Tensor(0.25, shape=(), dtype=float32)\n",
      "n: 3 tf.Tensor(0.25, shape=(), dtype=float32)\n",
      "n: 4 tf.Tensor(0.25, shape=(), dtype=float32)\n",
      "n: 5 tf.Tensor(0.25, shape=(), dtype=float32)\n",
      "n: 6 tf.Tensor(0.25, shape=(), dtype=float32)\n",
      "n: 7 tf.Tensor(0.25, shape=(), dtype=float32)\n",
      "n: 8 tf.Tensor(0.25, shape=(), dtype=float32)\n",
      "n: 9 tf.Tensor(0.25, shape=(), dtype=float32)\n",
      "max_steps=999978\n",
      "AA tf.Tensor(0.25, shape=(), dtype=float32)\n"
     ]
    },
    {
     "name": "stderr",
     "output_type": "stream",
     "text": [
      "/var/folders/mt/0n8phlt50rn7h35xhgh97mw80000gn/T/ipykernel_30589/3025377550.py:31: VisibleDeprecationWarning: Creating an ndarray from ragged nested sequences (which is a list-or-tuple of lists-or-tuples-or ndarrays with different lengths or shapes) is deprecated. If you meant to do this, you must specify 'dtype=object' when creating the ndarray.\n",
      "  target_network.set_weights((1 - TAU) * np.array(target_network.get_weights()) + TAU * np.array(model.get_weights()))\n"
     ]
    },
    {
     "name": "stdout",
     "output_type": "stream",
     "text": [
      "n: 0 tf.Tensor(0.25, shape=(), dtype=float32)\n",
      "n: 1 tf.Tensor(0.25, shape=(), dtype=float32)\n",
      "n: 2 tf.Tensor(0.25, shape=(), dtype=float32)\n",
      "n: 3 tf.Tensor(0.25, shape=(), dtype=float32)\n",
      "n: 4 tf.Tensor(0.25, shape=(), dtype=float32)\n",
      "n: 5 tf.Tensor(0.25, shape=(), dtype=float32)\n",
      "n: 6 tf.Tensor(0.25, shape=(), dtype=float32)\n",
      "n: 7 tf.Tensor(0.25, shape=(), dtype=float32)\n",
      "n: 8 tf.Tensor(0.25, shape=(), dtype=float32)\n",
      "n: 9 tf.Tensor(0.25, shape=(), dtype=float32)\n",
      "max_steps=999977\n",
      "AA tf.Tensor(0.25, shape=(), dtype=float32)\n"
     ]
    },
    {
     "name": "stderr",
     "output_type": "stream",
     "text": [
      "/var/folders/mt/0n8phlt50rn7h35xhgh97mw80000gn/T/ipykernel_30589/3025377550.py:31: VisibleDeprecationWarning: Creating an ndarray from ragged nested sequences (which is a list-or-tuple of lists-or-tuples-or ndarrays with different lengths or shapes) is deprecated. If you meant to do this, you must specify 'dtype=object' when creating the ndarray.\n",
      "  target_network.set_weights((1 - TAU) * np.array(target_network.get_weights()) + TAU * np.array(model.get_weights()))\n"
     ]
    },
    {
     "name": "stdout",
     "output_type": "stream",
     "text": [
      "n: 0 tf.Tensor(0.25, shape=(), dtype=float32)\n",
      "n: 1 tf.Tensor(0.25, shape=(), dtype=float32)\n",
      "n: 2 tf.Tensor(0.25, shape=(), dtype=float32)\n",
      "n: 3 tf.Tensor(0.25, shape=(), dtype=float32)\n",
      "n: 4 tf.Tensor(0.25, shape=(), dtype=float32)\n",
      "n: 5 tf.Tensor(0.25, shape=(), dtype=float32)\n",
      "n: 6 tf.Tensor(0.25, shape=(), dtype=float32)\n",
      "n: 7 tf.Tensor(0.25, shape=(), dtype=float32)\n",
      "n: 8 tf.Tensor(0.25, shape=(), dtype=float32)\n",
      "n: 9 tf.Tensor(0.25, shape=(), dtype=float32)\n",
      "max_steps=999976\n",
      "AA tf.Tensor(0.25, shape=(), dtype=float32)\n"
     ]
    },
    {
     "name": "stderr",
     "output_type": "stream",
     "text": [
      "/var/folders/mt/0n8phlt50rn7h35xhgh97mw80000gn/T/ipykernel_30589/3025377550.py:31: VisibleDeprecationWarning: Creating an ndarray from ragged nested sequences (which is a list-or-tuple of lists-or-tuples-or ndarrays with different lengths or shapes) is deprecated. If you meant to do this, you must specify 'dtype=object' when creating the ndarray.\n",
      "  target_network.set_weights((1 - TAU) * np.array(target_network.get_weights()) + TAU * np.array(model.get_weights()))\n"
     ]
    },
    {
     "name": "stdout",
     "output_type": "stream",
     "text": [
      "n: 0 tf.Tensor(0.25, shape=(), dtype=float32)\n",
      "n: 1 tf.Tensor(0.25, shape=(), dtype=float32)\n",
      "n: 2 tf.Tensor(0.25, shape=(), dtype=float32)\n",
      "n: 3 tf.Tensor(0.25, shape=(), dtype=float32)\n",
      "n: 4 tf.Tensor(0.25, shape=(), dtype=float32)\n",
      "n: 5 tf.Tensor(0.25, shape=(), dtype=float32)\n",
      "n: 6 tf.Tensor(0.25, shape=(), dtype=float32)\n",
      "n: 7 tf.Tensor(0.25, shape=(), dtype=float32)\n",
      "n: 8 tf.Tensor(0.25, shape=(), dtype=float32)\n",
      "n: 9 tf.Tensor(0.25, shape=(), dtype=float32)\n",
      "max_steps=999975\n",
      "AA tf.Tensor(0.25, shape=(), dtype=float32)\n"
     ]
    },
    {
     "name": "stderr",
     "output_type": "stream",
     "text": [
      "/var/folders/mt/0n8phlt50rn7h35xhgh97mw80000gn/T/ipykernel_30589/3025377550.py:31: VisibleDeprecationWarning: Creating an ndarray from ragged nested sequences (which is a list-or-tuple of lists-or-tuples-or ndarrays with different lengths or shapes) is deprecated. If you meant to do this, you must specify 'dtype=object' when creating the ndarray.\n",
      "  target_network.set_weights((1 - TAU) * np.array(target_network.get_weights()) + TAU * np.array(model.get_weights()))\n"
     ]
    },
    {
     "name": "stdout",
     "output_type": "stream",
     "text": [
      "n: 0 tf.Tensor(0.25, shape=(), dtype=float32)\n",
      "n: 1 tf.Tensor(0.25, shape=(), dtype=float32)\n",
      "n: 2 tf.Tensor(0.25, shape=(), dtype=float32)\n",
      "n: 3 tf.Tensor(0.25, shape=(), dtype=float32)\n",
      "n: 4 tf.Tensor(0.25, shape=(), dtype=float32)\n",
      "n: 5 tf.Tensor(0.25, shape=(), dtype=float32)\n",
      "n: 6 tf.Tensor(0.25, shape=(), dtype=float32)\n",
      "n: 7 tf.Tensor(0.25, shape=(), dtype=float32)\n",
      "n: 8 tf.Tensor(0.25, shape=(), dtype=float32)\n",
      "n: 9 tf.Tensor(0.25, shape=(), dtype=float32)\n",
      "max_steps=999974\n",
      "AA tf.Tensor(0.25, shape=(), dtype=float32)\n"
     ]
    },
    {
     "name": "stderr",
     "output_type": "stream",
     "text": [
      "/var/folders/mt/0n8phlt50rn7h35xhgh97mw80000gn/T/ipykernel_30589/3025377550.py:31: VisibleDeprecationWarning: Creating an ndarray from ragged nested sequences (which is a list-or-tuple of lists-or-tuples-or ndarrays with different lengths or shapes) is deprecated. If you meant to do this, you must specify 'dtype=object' when creating the ndarray.\n",
      "  target_network.set_weights((1 - TAU) * np.array(target_network.get_weights()) + TAU * np.array(model.get_weights()))\n"
     ]
    },
    {
     "name": "stdout",
     "output_type": "stream",
     "text": [
      "n: 0 tf.Tensor(0.25, shape=(), dtype=float32)\n",
      "n: 1 tf.Tensor(0.25, shape=(), dtype=float32)\n",
      "n: 2 tf.Tensor(0.25, shape=(), dtype=float32)\n",
      "n: 3 tf.Tensor(0.25, shape=(), dtype=float32)\n",
      "n: 4 tf.Tensor(0.25, shape=(), dtype=float32)\n",
      "n: 5 tf.Tensor(0.25, shape=(), dtype=float32)\n",
      "n: 6 tf.Tensor(0.25, shape=(), dtype=float32)\n",
      "n: 7 tf.Tensor(0.25, shape=(), dtype=float32)\n",
      "n: 8 tf.Tensor(0.25, shape=(), dtype=float32)\n",
      "n: 9 tf.Tensor(0.25, shape=(), dtype=float32)\n",
      "max_steps=999973\n",
      "AA tf.Tensor(0.25, shape=(), dtype=float32)\n"
     ]
    },
    {
     "name": "stderr",
     "output_type": "stream",
     "text": [
      "/var/folders/mt/0n8phlt50rn7h35xhgh97mw80000gn/T/ipykernel_30589/3025377550.py:31: VisibleDeprecationWarning: Creating an ndarray from ragged nested sequences (which is a list-or-tuple of lists-or-tuples-or ndarrays with different lengths or shapes) is deprecated. If you meant to do this, you must specify 'dtype=object' when creating the ndarray.\n",
      "  target_network.set_weights((1 - TAU) * np.array(target_network.get_weights()) + TAU * np.array(model.get_weights()))\n"
     ]
    },
    {
     "name": "stdout",
     "output_type": "stream",
     "text": [
      "n: 0 tf.Tensor(0.25, shape=(), dtype=float32)\n",
      "n: 1 tf.Tensor(0.25, shape=(), dtype=float32)\n",
      "n: 2 tf.Tensor(0.25, shape=(), dtype=float32)\n",
      "n: 3 tf.Tensor(0.25, shape=(), dtype=float32)\n",
      "n: 4 tf.Tensor(0.25, shape=(), dtype=float32)\n",
      "n: 5 tf.Tensor(0.25, shape=(), dtype=float32)\n",
      "n: 6 tf.Tensor(0.25, shape=(), dtype=float32)\n",
      "n: 7 tf.Tensor(0.25, shape=(), dtype=float32)\n",
      "n: 8 tf.Tensor(0.25, shape=(), dtype=float32)\n",
      "n: 9 tf.Tensor(0.25, shape=(), dtype=float32)\n",
      "max_steps=999972\n",
      "AA tf.Tensor(0.25, shape=(), dtype=float32)\n"
     ]
    },
    {
     "name": "stderr",
     "output_type": "stream",
     "text": [
      "/var/folders/mt/0n8phlt50rn7h35xhgh97mw80000gn/T/ipykernel_30589/3025377550.py:31: VisibleDeprecationWarning: Creating an ndarray from ragged nested sequences (which is a list-or-tuple of lists-or-tuples-or ndarrays with different lengths or shapes) is deprecated. If you meant to do this, you must specify 'dtype=object' when creating the ndarray.\n",
      "  target_network.set_weights((1 - TAU) * np.array(target_network.get_weights()) + TAU * np.array(model.get_weights()))\n"
     ]
    },
    {
     "name": "stdout",
     "output_type": "stream",
     "text": [
      "n: 0 tf.Tensor(0.25, shape=(), dtype=float32)\n",
      "n: 1 tf.Tensor(0.25, shape=(), dtype=float32)\n",
      "n: 2 tf.Tensor(0.25, shape=(), dtype=float32)\n",
      "n: 3 tf.Tensor(0.25, shape=(), dtype=float32)\n",
      "n: 4 tf.Tensor(0.25, shape=(), dtype=float32)\n",
      "n: 5 tf.Tensor(0.25, shape=(), dtype=float32)\n",
      "n: 6 tf.Tensor(0.25, shape=(), dtype=float32)\n",
      "n: 7 tf.Tensor(0.25, shape=(), dtype=float32)\n",
      "n: 8 tf.Tensor(0.25, shape=(), dtype=float32)\n",
      "n: 9 tf.Tensor(0.25, shape=(), dtype=float32)\n",
      "max_steps=999971\n",
      "AA tf.Tensor(0.25, shape=(), dtype=float32)\n"
     ]
    },
    {
     "name": "stderr",
     "output_type": "stream",
     "text": [
      "/var/folders/mt/0n8phlt50rn7h35xhgh97mw80000gn/T/ipykernel_30589/3025377550.py:31: VisibleDeprecationWarning: Creating an ndarray from ragged nested sequences (which is a list-or-tuple of lists-or-tuples-or ndarrays with different lengths or shapes) is deprecated. If you meant to do this, you must specify 'dtype=object' when creating the ndarray.\n",
      "  target_network.set_weights((1 - TAU) * np.array(target_network.get_weights()) + TAU * np.array(model.get_weights()))\n"
     ]
    },
    {
     "name": "stdout",
     "output_type": "stream",
     "text": [
      "n: 0 tf.Tensor(0.25, shape=(), dtype=float32)\n",
      "n: 1 tf.Tensor(0.25, shape=(), dtype=float32)\n",
      "n: 2 tf.Tensor(0.25, shape=(), dtype=float32)\n",
      "n: 3 tf.Tensor(0.25, shape=(), dtype=float32)\n",
      "n: 4 tf.Tensor(0.25, shape=(), dtype=float32)\n",
      "n: 5 tf.Tensor(0.25, shape=(), dtype=float32)\n",
      "n: 6 tf.Tensor(0.25, shape=(), dtype=float32)\n",
      "n: 7 tf.Tensor(0.25, shape=(), dtype=float32)\n",
      "n: 8 tf.Tensor(0.25, shape=(), dtype=float32)\n",
      "n: 9 tf.Tensor(0.25, shape=(), dtype=float32)\n",
      "max_steps=999970\n",
      "AA tf.Tensor(0.25, shape=(), dtype=float32)\n"
     ]
    },
    {
     "name": "stderr",
     "output_type": "stream",
     "text": [
      "/var/folders/mt/0n8phlt50rn7h35xhgh97mw80000gn/T/ipykernel_30589/3025377550.py:31: VisibleDeprecationWarning: Creating an ndarray from ragged nested sequences (which is a list-or-tuple of lists-or-tuples-or ndarrays with different lengths or shapes) is deprecated. If you meant to do this, you must specify 'dtype=object' when creating the ndarray.\n",
      "  target_network.set_weights((1 - TAU) * np.array(target_network.get_weights()) + TAU * np.array(model.get_weights()))\n"
     ]
    },
    {
     "name": "stdout",
     "output_type": "stream",
     "text": [
      "n: 0 tf.Tensor(0.25, shape=(), dtype=float32)\n",
      "n: 1 tf.Tensor(0.25, shape=(), dtype=float32)\n",
      "n: 2 tf.Tensor(0.25, shape=(), dtype=float32)\n",
      "n: 3 tf.Tensor(0.25, shape=(), dtype=float32)\n",
      "n: 4 tf.Tensor(0.25, shape=(), dtype=float32)\n",
      "n: 5 tf.Tensor(0.25, shape=(), dtype=float32)\n",
      "n: 6 tf.Tensor(0.25, shape=(), dtype=float32)\n",
      "n: 7 tf.Tensor(0.25, shape=(), dtype=float32)\n",
      "n: 8 tf.Tensor(0.25, shape=(), dtype=float32)\n",
      "n: 9 tf.Tensor(0.25, shape=(), dtype=float32)\n",
      "max_steps=999969\n",
      "AA tf.Tensor(0.25, shape=(), dtype=float32)\n"
     ]
    },
    {
     "name": "stderr",
     "output_type": "stream",
     "text": [
      "/var/folders/mt/0n8phlt50rn7h35xhgh97mw80000gn/T/ipykernel_30589/3025377550.py:31: VisibleDeprecationWarning: Creating an ndarray from ragged nested sequences (which is a list-or-tuple of lists-or-tuples-or ndarrays with different lengths or shapes) is deprecated. If you meant to do this, you must specify 'dtype=object' when creating the ndarray.\n",
      "  target_network.set_weights((1 - TAU) * np.array(target_network.get_weights()) + TAU * np.array(model.get_weights()))\n"
     ]
    },
    {
     "name": "stdout",
     "output_type": "stream",
     "text": [
      "n: 0 tf.Tensor(0.25, shape=(), dtype=float32)\n",
      "n: 1 tf.Tensor(0.25, shape=(), dtype=float32)\n",
      "n: 2 tf.Tensor(0.25, shape=(), dtype=float32)\n",
      "n: 3 tf.Tensor(0.25, shape=(), dtype=float32)\n",
      "n: 4 tf.Tensor(0.25, shape=(), dtype=float32)\n",
      "n: 5 tf.Tensor(0.25, shape=(), dtype=float32)\n",
      "n: 6 tf.Tensor(0.25, shape=(), dtype=float32)\n",
      "n: 7 tf.Tensor(0.25, shape=(), dtype=float32)\n",
      "n: 8 tf.Tensor(0.25, shape=(), dtype=float32)\n",
      "n: 9 tf.Tensor(0.25, shape=(), dtype=float32)\n",
      "max_steps=999968\n",
      "AA tf.Tensor(0.25, shape=(), dtype=float32)\n"
     ]
    },
    {
     "name": "stderr",
     "output_type": "stream",
     "text": [
      "/var/folders/mt/0n8phlt50rn7h35xhgh97mw80000gn/T/ipykernel_30589/3025377550.py:31: VisibleDeprecationWarning: Creating an ndarray from ragged nested sequences (which is a list-or-tuple of lists-or-tuples-or ndarrays with different lengths or shapes) is deprecated. If you meant to do this, you must specify 'dtype=object' when creating the ndarray.\n",
      "  target_network.set_weights((1 - TAU) * np.array(target_network.get_weights()) + TAU * np.array(model.get_weights()))\n"
     ]
    },
    {
     "name": "stdout",
     "output_type": "stream",
     "text": [
      "n: 0 tf.Tensor(0.25, shape=(), dtype=float32)\n",
      "n: 1 tf.Tensor(0.25, shape=(), dtype=float32)\n",
      "n: 2 tf.Tensor(0.25, shape=(), dtype=float32)\n",
      "n: 3 tf.Tensor(0.25, shape=(), dtype=float32)\n",
      "n: 4 tf.Tensor(0.25, shape=(), dtype=float32)\n",
      "n: 5 tf.Tensor(0.25, shape=(), dtype=float32)\n",
      "n: 6 tf.Tensor(0.25, shape=(), dtype=float32)\n",
      "n: 7 tf.Tensor(0.25, shape=(), dtype=float32)\n",
      "n: 8 tf.Tensor(0.25, shape=(), dtype=float32)\n",
      "n: 9 tf.Tensor(0.25, shape=(), dtype=float32)\n",
      "max_steps=999967\n",
      "AA tf.Tensor(0.25, shape=(), dtype=float32)\n"
     ]
    },
    {
     "name": "stderr",
     "output_type": "stream",
     "text": [
      "/var/folders/mt/0n8phlt50rn7h35xhgh97mw80000gn/T/ipykernel_30589/3025377550.py:31: VisibleDeprecationWarning: Creating an ndarray from ragged nested sequences (which is a list-or-tuple of lists-or-tuples-or ndarrays with different lengths or shapes) is deprecated. If you meant to do this, you must specify 'dtype=object' when creating the ndarray.\n",
      "  target_network.set_weights((1 - TAU) * np.array(target_network.get_weights()) + TAU * np.array(model.get_weights()))\n"
     ]
    },
    {
     "name": "stdout",
     "output_type": "stream",
     "text": [
      "n: 0 tf.Tensor(0.25, shape=(), dtype=float32)\n",
      "n: 1 tf.Tensor(0.25, shape=(), dtype=float32)\n",
      "n: 2 tf.Tensor(0.25, shape=(), dtype=float32)\n",
      "n: 3 tf.Tensor(0.25, shape=(), dtype=float32)\n",
      "n: 4 tf.Tensor(0.25, shape=(), dtype=float32)\n",
      "n: 5 tf.Tensor(0.25, shape=(), dtype=float32)\n",
      "n: 6 tf.Tensor(0.25, shape=(), dtype=float32)\n",
      "n: 7 tf.Tensor(0.25, shape=(), dtype=float32)\n",
      "n: 8 tf.Tensor(0.25, shape=(), dtype=float32)\n",
      "n: 9 tf.Tensor(0.25, shape=(), dtype=float32)\n",
      "max_steps=999966\n",
      "AA tf.Tensor(0.25, shape=(), dtype=float32)\n"
     ]
    },
    {
     "name": "stderr",
     "output_type": "stream",
     "text": [
      "/var/folders/mt/0n8phlt50rn7h35xhgh97mw80000gn/T/ipykernel_30589/3025377550.py:31: VisibleDeprecationWarning: Creating an ndarray from ragged nested sequences (which is a list-or-tuple of lists-or-tuples-or ndarrays with different lengths or shapes) is deprecated. If you meant to do this, you must specify 'dtype=object' when creating the ndarray.\n",
      "  target_network.set_weights((1 - TAU) * np.array(target_network.get_weights()) + TAU * np.array(model.get_weights()))\n"
     ]
    },
    {
     "name": "stdout",
     "output_type": "stream",
     "text": [
      "n: 0 tf.Tensor(0.25, shape=(), dtype=float32)\n",
      "n: 1 tf.Tensor(0.25, shape=(), dtype=float32)\n",
      "n: 2 tf.Tensor(0.25, shape=(), dtype=float32)\n",
      "n: 3 tf.Tensor(0.25, shape=(), dtype=float32)\n",
      "n: 4 tf.Tensor(0.25, shape=(), dtype=float32)\n",
      "n: 5 tf.Tensor(0.25, shape=(), dtype=float32)\n",
      "n: 6 tf.Tensor(0.25, shape=(), dtype=float32)\n",
      "n: 7 tf.Tensor(0.25, shape=(), dtype=float32)\n",
      "n: 8 tf.Tensor(0.25, shape=(), dtype=float32)\n",
      "n: 9 tf.Tensor(0.25, shape=(), dtype=float32)\n",
      "max_steps=999965\n",
      "AA tf.Tensor(0.25, shape=(), dtype=float32)\n"
     ]
    },
    {
     "name": "stderr",
     "output_type": "stream",
     "text": [
      "/var/folders/mt/0n8phlt50rn7h35xhgh97mw80000gn/T/ipykernel_30589/3025377550.py:31: VisibleDeprecationWarning: Creating an ndarray from ragged nested sequences (which is a list-or-tuple of lists-or-tuples-or ndarrays with different lengths or shapes) is deprecated. If you meant to do this, you must specify 'dtype=object' when creating the ndarray.\n",
      "  target_network.set_weights((1 - TAU) * np.array(target_network.get_weights()) + TAU * np.array(model.get_weights()))\n"
     ]
    },
    {
     "name": "stdout",
     "output_type": "stream",
     "text": [
      "n: 0 tf.Tensor(0.25, shape=(), dtype=float32)\n",
      "n: 1 tf.Tensor(0.25, shape=(), dtype=float32)\n",
      "n: 2 tf.Tensor(0.25, shape=(), dtype=float32)\n",
      "n: 3 tf.Tensor(0.25, shape=(), dtype=float32)\n",
      "n: 4 tf.Tensor(0.25, shape=(), dtype=float32)\n",
      "n: 5 tf.Tensor(0.25, shape=(), dtype=float32)\n",
      "n: 6 tf.Tensor(0.25, shape=(), dtype=float32)\n",
      "n: 7 tf.Tensor(0.25, shape=(), dtype=float32)\n",
      "n: 8 tf.Tensor(0.25, shape=(), dtype=float32)\n",
      "n: 9 tf.Tensor(0.25, shape=(), dtype=float32)\n",
      "max_steps=999964\n",
      "AA tf.Tensor(0.25, shape=(), dtype=float32)\n"
     ]
    },
    {
     "name": "stderr",
     "output_type": "stream",
     "text": [
      "/var/folders/mt/0n8phlt50rn7h35xhgh97mw80000gn/T/ipykernel_30589/3025377550.py:31: VisibleDeprecationWarning: Creating an ndarray from ragged nested sequences (which is a list-or-tuple of lists-or-tuples-or ndarrays with different lengths or shapes) is deprecated. If you meant to do this, you must specify 'dtype=object' when creating the ndarray.\n",
      "  target_network.set_weights((1 - TAU) * np.array(target_network.get_weights()) + TAU * np.array(model.get_weights()))\n"
     ]
    },
    {
     "name": "stdout",
     "output_type": "stream",
     "text": [
      "n: 0 tf.Tensor(0.25, shape=(), dtype=float32)\n",
      "n: 1 tf.Tensor(0.25, shape=(), dtype=float32)\n",
      "n: 2 tf.Tensor(0.25, shape=(), dtype=float32)\n",
      "n: 3 tf.Tensor(0.25, shape=(), dtype=float32)\n",
      "n: 4 tf.Tensor(0.25, shape=(), dtype=float32)\n",
      "n: 5 tf.Tensor(0.25, shape=(), dtype=float32)\n",
      "n: 6 tf.Tensor(0.25, shape=(), dtype=float32)\n",
      "n: 7 tf.Tensor(0.25, shape=(), dtype=float32)\n",
      "n: 8 tf.Tensor(0.25, shape=(), dtype=float32)\n",
      "n: 9 tf.Tensor(0.25, shape=(), dtype=float32)\n",
      "max_steps=999963\n",
      "AA tf.Tensor(0.25, shape=(), dtype=float32)\n"
     ]
    },
    {
     "name": "stderr",
     "output_type": "stream",
     "text": [
      "/var/folders/mt/0n8phlt50rn7h35xhgh97mw80000gn/T/ipykernel_30589/3025377550.py:31: VisibleDeprecationWarning: Creating an ndarray from ragged nested sequences (which is a list-or-tuple of lists-or-tuples-or ndarrays with different lengths or shapes) is deprecated. If you meant to do this, you must specify 'dtype=object' when creating the ndarray.\n",
      "  target_network.set_weights((1 - TAU) * np.array(target_network.get_weights()) + TAU * np.array(model.get_weights()))\n"
     ]
    },
    {
     "name": "stdout",
     "output_type": "stream",
     "text": [
      "n: 0 tf.Tensor(0.25, shape=(), dtype=float32)\n",
      "n: 1 tf.Tensor(0.25, shape=(), dtype=float32)\n",
      "n: 2 tf.Tensor(0.25, shape=(), dtype=float32)\n",
      "n: 3 tf.Tensor(0.25, shape=(), dtype=float32)\n",
      "n: 4 tf.Tensor(0.25, shape=(), dtype=float32)\n",
      "n: 5 tf.Tensor(0.25, shape=(), dtype=float32)\n",
      "n: 6 tf.Tensor(0.25, shape=(), dtype=float32)\n",
      "n: 7 tf.Tensor(0.25, shape=(), dtype=float32)\n",
      "n: 8 tf.Tensor(0.25, shape=(), dtype=float32)\n",
      "n: 9 tf.Tensor(0.25, shape=(), dtype=float32)\n",
      "max_steps=999962\n",
      "AA tf.Tensor(0.25, shape=(), dtype=float32)\n"
     ]
    },
    {
     "name": "stderr",
     "output_type": "stream",
     "text": [
      "/var/folders/mt/0n8phlt50rn7h35xhgh97mw80000gn/T/ipykernel_30589/3025377550.py:31: VisibleDeprecationWarning: Creating an ndarray from ragged nested sequences (which is a list-or-tuple of lists-or-tuples-or ndarrays with different lengths or shapes) is deprecated. If you meant to do this, you must specify 'dtype=object' when creating the ndarray.\n",
      "  target_network.set_weights((1 - TAU) * np.array(target_network.get_weights()) + TAU * np.array(model.get_weights()))\n"
     ]
    },
    {
     "name": "stdout",
     "output_type": "stream",
     "text": [
      "n: 0 tf.Tensor(0.25, shape=(), dtype=float32)\n",
      "n: 1 tf.Tensor(0.25, shape=(), dtype=float32)\n",
      "n: 2 tf.Tensor(0.25, shape=(), dtype=float32)\n",
      "n: 3 tf.Tensor(0.25, shape=(), dtype=float32)\n",
      "n: 4 tf.Tensor(0.25, shape=(), dtype=float32)\n",
      "n: 5 tf.Tensor(0.25, shape=(), dtype=float32)\n",
      "n: 6 tf.Tensor(0.25, shape=(), dtype=float32)\n",
      "n: 7 tf.Tensor(0.25, shape=(), dtype=float32)\n",
      "n: 8 tf.Tensor(0.25, shape=(), dtype=float32)\n",
      "n: 9 tf.Tensor(0.25, shape=(), dtype=float32)\n",
      "max_steps=999961\n",
      "AA tf.Tensor(0.25, shape=(), dtype=float32)\n"
     ]
    },
    {
     "name": "stderr",
     "output_type": "stream",
     "text": [
      "/var/folders/mt/0n8phlt50rn7h35xhgh97mw80000gn/T/ipykernel_30589/3025377550.py:31: VisibleDeprecationWarning: Creating an ndarray from ragged nested sequences (which is a list-or-tuple of lists-or-tuples-or ndarrays with different lengths or shapes) is deprecated. If you meant to do this, you must specify 'dtype=object' when creating the ndarray.\n",
      "  target_network.set_weights((1 - TAU) * np.array(target_network.get_weights()) + TAU * np.array(model.get_weights()))\n"
     ]
    },
    {
     "name": "stdout",
     "output_type": "stream",
     "text": [
      "n: 0 tf.Tensor(0.25, shape=(), dtype=float32)\n",
      "n: 1 tf.Tensor(0.25, shape=(), dtype=float32)\n",
      "n: 2 tf.Tensor(0.25, shape=(), dtype=float32)\n",
      "n: 3 tf.Tensor(0.25, shape=(), dtype=float32)\n",
      "n: 4 tf.Tensor(0.25, shape=(), dtype=float32)\n",
      "n: 5 tf.Tensor(0.25, shape=(), dtype=float32)\n",
      "n: 6 tf.Tensor(0.25, shape=(), dtype=float32)\n",
      "n: 7 tf.Tensor(0.25, shape=(), dtype=float32)\n",
      "n: 8 tf.Tensor(0.25, shape=(), dtype=float32)\n",
      "n: 9 tf.Tensor(0.25, shape=(), dtype=float32)\n",
      "max_steps=999960\n",
      "AA tf.Tensor(0.25, shape=(), dtype=float32)\n"
     ]
    },
    {
     "name": "stderr",
     "output_type": "stream",
     "text": [
      "/var/folders/mt/0n8phlt50rn7h35xhgh97mw80000gn/T/ipykernel_30589/3025377550.py:31: VisibleDeprecationWarning: Creating an ndarray from ragged nested sequences (which is a list-or-tuple of lists-or-tuples-or ndarrays with different lengths or shapes) is deprecated. If you meant to do this, you must specify 'dtype=object' when creating the ndarray.\n",
      "  target_network.set_weights((1 - TAU) * np.array(target_network.get_weights()) + TAU * np.array(model.get_weights()))\n"
     ]
    },
    {
     "name": "stdout",
     "output_type": "stream",
     "text": [
      "n: 0 tf.Tensor(0.25, shape=(), dtype=float32)\n",
      "n: 1 tf.Tensor(0.25, shape=(), dtype=float32)\n",
      "n: 2 tf.Tensor(0.25, shape=(), dtype=float32)\n",
      "n: 3 tf.Tensor(0.25, shape=(), dtype=float32)\n",
      "n: 4 tf.Tensor(0.25, shape=(), dtype=float32)\n",
      "n: 5 tf.Tensor(0.25, shape=(), dtype=float32)\n",
      "n: 6 tf.Tensor(0.25, shape=(), dtype=float32)\n",
      "n: 7 tf.Tensor(0.25, shape=(), dtype=float32)\n",
      "n: 8 tf.Tensor(0.25, shape=(), dtype=float32)\n",
      "n: 9 tf.Tensor(0.25, shape=(), dtype=float32)\n",
      "max_steps=999959\n",
      "AA tf.Tensor(0.25, shape=(), dtype=float32)\n"
     ]
    },
    {
     "name": "stderr",
     "output_type": "stream",
     "text": [
      "/var/folders/mt/0n8phlt50rn7h35xhgh97mw80000gn/T/ipykernel_30589/3025377550.py:31: VisibleDeprecationWarning: Creating an ndarray from ragged nested sequences (which is a list-or-tuple of lists-or-tuples-or ndarrays with different lengths or shapes) is deprecated. If you meant to do this, you must specify 'dtype=object' when creating the ndarray.\n",
      "  target_network.set_weights((1 - TAU) * np.array(target_network.get_weights()) + TAU * np.array(model.get_weights()))\n"
     ]
    },
    {
     "name": "stdout",
     "output_type": "stream",
     "text": [
      "n: 0 tf.Tensor(0.25, shape=(), dtype=float32)\n",
      "n: 1 tf.Tensor(0.25, shape=(), dtype=float32)\n",
      "n: 2 tf.Tensor(0.25, shape=(), dtype=float32)\n",
      "n: 3 tf.Tensor(0.25, shape=(), dtype=float32)\n",
      "n: 4 tf.Tensor(0.25, shape=(), dtype=float32)\n",
      "n: 5 tf.Tensor(0.25, shape=(), dtype=float32)\n",
      "n: 6 tf.Tensor(0.25, shape=(), dtype=float32)\n",
      "n: 7 tf.Tensor(0.25, shape=(), dtype=float32)\n",
      "n: 8 tf.Tensor(0.25, shape=(), dtype=float32)\n",
      "n: 9 tf.Tensor(0.25, shape=(), dtype=float32)\n",
      "max_steps=999958\n",
      "AA tf.Tensor(0.25, shape=(), dtype=float32)\n"
     ]
    },
    {
     "name": "stderr",
     "output_type": "stream",
     "text": [
      "/var/folders/mt/0n8phlt50rn7h35xhgh97mw80000gn/T/ipykernel_30589/3025377550.py:31: VisibleDeprecationWarning: Creating an ndarray from ragged nested sequences (which is a list-or-tuple of lists-or-tuples-or ndarrays with different lengths or shapes) is deprecated. If you meant to do this, you must specify 'dtype=object' when creating the ndarray.\n",
      "  target_network.set_weights((1 - TAU) * np.array(target_network.get_weights()) + TAU * np.array(model.get_weights()))\n"
     ]
    },
    {
     "name": "stdout",
     "output_type": "stream",
     "text": [
      "n: 0 tf.Tensor(0.25, shape=(), dtype=float32)\n",
      "n: 1 tf.Tensor(0.25, shape=(), dtype=float32)\n",
      "n: 2 tf.Tensor(0.25, shape=(), dtype=float32)\n",
      "n: 3 tf.Tensor(0.25, shape=(), dtype=float32)\n",
      "n: 4 tf.Tensor(0.25, shape=(), dtype=float32)\n",
      "n: 5 tf.Tensor(0.25, shape=(), dtype=float32)\n",
      "n: 6 tf.Tensor(0.25, shape=(), dtype=float32)\n",
      "n: 7 tf.Tensor(0.25, shape=(), dtype=float32)\n",
      "n: 8 tf.Tensor(0.25, shape=(), dtype=float32)\n",
      "n: 9 tf.Tensor(0.25, shape=(), dtype=float32)\n",
      "max_steps=999957\n",
      "AA tf.Tensor(0.25, shape=(), dtype=float32)\n"
     ]
    },
    {
     "name": "stderr",
     "output_type": "stream",
     "text": [
      "/var/folders/mt/0n8phlt50rn7h35xhgh97mw80000gn/T/ipykernel_30589/3025377550.py:31: VisibleDeprecationWarning: Creating an ndarray from ragged nested sequences (which is a list-or-tuple of lists-or-tuples-or ndarrays with different lengths or shapes) is deprecated. If you meant to do this, you must specify 'dtype=object' when creating the ndarray.\n",
      "  target_network.set_weights((1 - TAU) * np.array(target_network.get_weights()) + TAU * np.array(model.get_weights()))\n"
     ]
    },
    {
     "name": "stdout",
     "output_type": "stream",
     "text": [
      "n: 0 tf.Tensor(0.25, shape=(), dtype=float32)\n",
      "n: 1 tf.Tensor(0.25, shape=(), dtype=float32)\n",
      "n: 2 tf.Tensor(0.25, shape=(), dtype=float32)\n",
      "n: 3 tf.Tensor(0.25, shape=(), dtype=float32)\n",
      "n: 4 tf.Tensor(0.25, shape=(), dtype=float32)\n",
      "n: 5 tf.Tensor(0.25, shape=(), dtype=float32)\n",
      "n: 6 tf.Tensor(0.25, shape=(), dtype=float32)\n",
      "n: 7 tf.Tensor(0.25, shape=(), dtype=float32)\n",
      "n: 8 tf.Tensor(0.25, shape=(), dtype=float32)\n",
      "n: 9 tf.Tensor(0.25, shape=(), dtype=float32)\n",
      "max_steps=999956\n",
      "AA tf.Tensor(0.25, shape=(), dtype=float32)\n"
     ]
    },
    {
     "name": "stderr",
     "output_type": "stream",
     "text": [
      "/var/folders/mt/0n8phlt50rn7h35xhgh97mw80000gn/T/ipykernel_30589/3025377550.py:31: VisibleDeprecationWarning: Creating an ndarray from ragged nested sequences (which is a list-or-tuple of lists-or-tuples-or ndarrays with different lengths or shapes) is deprecated. If you meant to do this, you must specify 'dtype=object' when creating the ndarray.\n",
      "  target_network.set_weights((1 - TAU) * np.array(target_network.get_weights()) + TAU * np.array(model.get_weights()))\n"
     ]
    },
    {
     "name": "stdout",
     "output_type": "stream",
     "text": [
      "n: 0 tf.Tensor(0.25, shape=(), dtype=float32)\n",
      "n: 1 tf.Tensor(0.25, shape=(), dtype=float32)\n",
      "n: 2 tf.Tensor(0.25, shape=(), dtype=float32)\n",
      "n: 3 tf.Tensor(0.25, shape=(), dtype=float32)\n",
      "n: 4 tf.Tensor(0.25, shape=(), dtype=float32)\n",
      "n: 5 tf.Tensor(0.25, shape=(), dtype=float32)\n",
      "n: 6 tf.Tensor(0.25, shape=(), dtype=float32)\n",
      "n: 7 tf.Tensor(0.25, shape=(), dtype=float32)\n",
      "n: 8 tf.Tensor(0.25, shape=(), dtype=float32)\n",
      "n: 9 tf.Tensor(0.25, shape=(), dtype=float32)\n",
      "max_steps=999955\n",
      "AA tf.Tensor(0.25, shape=(), dtype=float32)\n"
     ]
    },
    {
     "name": "stderr",
     "output_type": "stream",
     "text": [
      "/var/folders/mt/0n8phlt50rn7h35xhgh97mw80000gn/T/ipykernel_30589/3025377550.py:31: VisibleDeprecationWarning: Creating an ndarray from ragged nested sequences (which is a list-or-tuple of lists-or-tuples-or ndarrays with different lengths or shapes) is deprecated. If you meant to do this, you must specify 'dtype=object' when creating the ndarray.\n",
      "  target_network.set_weights((1 - TAU) * np.array(target_network.get_weights()) + TAU * np.array(model.get_weights()))\n"
     ]
    },
    {
     "name": "stdout",
     "output_type": "stream",
     "text": [
      "n: 0 tf.Tensor(0.25, shape=(), dtype=float32)\n",
      "n: 1 tf.Tensor(0.25, shape=(), dtype=float32)\n",
      "n: 2 tf.Tensor(0.25, shape=(), dtype=float32)\n",
      "n: 3 tf.Tensor(0.25, shape=(), dtype=float32)\n",
      "n: 4 tf.Tensor(0.25, shape=(), dtype=float32)\n",
      "n: 5 tf.Tensor(0.25, shape=(), dtype=float32)\n",
      "n: 6 tf.Tensor(0.25, shape=(), dtype=float32)\n",
      "n: 7 tf.Tensor(0.25, shape=(), dtype=float32)\n",
      "n: 8 tf.Tensor(0.25, shape=(), dtype=float32)\n",
      "n: 9 tf.Tensor(0.25, shape=(), dtype=float32)\n",
      "max_steps=999954\n",
      "AA tf.Tensor(0.25, shape=(), dtype=float32)\n"
     ]
    },
    {
     "name": "stderr",
     "output_type": "stream",
     "text": [
      "/var/folders/mt/0n8phlt50rn7h35xhgh97mw80000gn/T/ipykernel_30589/3025377550.py:31: VisibleDeprecationWarning: Creating an ndarray from ragged nested sequences (which is a list-or-tuple of lists-or-tuples-or ndarrays with different lengths or shapes) is deprecated. If you meant to do this, you must specify 'dtype=object' when creating the ndarray.\n",
      "  target_network.set_weights((1 - TAU) * np.array(target_network.get_weights()) + TAU * np.array(model.get_weights()))\n"
     ]
    },
    {
     "name": "stdout",
     "output_type": "stream",
     "text": [
      "n: 0 tf.Tensor(0.25, shape=(), dtype=float32)\n",
      "n: 1 tf.Tensor(0.25, shape=(), dtype=float32)\n",
      "n: 2 tf.Tensor(0.25, shape=(), dtype=float32)\n",
      "n: 3 tf.Tensor(0.25, shape=(), dtype=float32)\n",
      "n: 4 tf.Tensor(0.25, shape=(), dtype=float32)\n",
      "n: 5 tf.Tensor(0.25, shape=(), dtype=float32)\n",
      "n: 6 tf.Tensor(0.25, shape=(), dtype=float32)\n",
      "n: 7 tf.Tensor(0.25, shape=(), dtype=float32)\n",
      "n: 8 tf.Tensor(0.25, shape=(), dtype=float32)\n",
      "n: 9 tf.Tensor(0.25, shape=(), dtype=float32)\n",
      "max_steps=999953\n",
      "AA tf.Tensor(0.25, shape=(), dtype=float32)\n"
     ]
    },
    {
     "name": "stderr",
     "output_type": "stream",
     "text": [
      "/var/folders/mt/0n8phlt50rn7h35xhgh97mw80000gn/T/ipykernel_30589/3025377550.py:31: VisibleDeprecationWarning: Creating an ndarray from ragged nested sequences (which is a list-or-tuple of lists-or-tuples-or ndarrays with different lengths or shapes) is deprecated. If you meant to do this, you must specify 'dtype=object' when creating the ndarray.\n",
      "  target_network.set_weights((1 - TAU) * np.array(target_network.get_weights()) + TAU * np.array(model.get_weights()))\n"
     ]
    },
    {
     "name": "stdout",
     "output_type": "stream",
     "text": [
      "n: 0 tf.Tensor(0.25, shape=(), dtype=float32)\n",
      "n: 1 tf.Tensor(0.25, shape=(), dtype=float32)\n",
      "n: 2 tf.Tensor(0.25, shape=(), dtype=float32)\n",
      "n: 3 tf.Tensor(0.25, shape=(), dtype=float32)\n",
      "n: 4 tf.Tensor(0.25, shape=(), dtype=float32)\n",
      "n: 5 tf.Tensor(0.25, shape=(), dtype=float32)\n",
      "n: 6 tf.Tensor(0.25, shape=(), dtype=float32)\n",
      "n: 7 tf.Tensor(0.25, shape=(), dtype=float32)\n",
      "n: 8 tf.Tensor(0.25, shape=(), dtype=float32)\n",
      "n: 9 tf.Tensor(0.25, shape=(), dtype=float32)\n",
      "max_steps=999952\n",
      "AA tf.Tensor(0.25, shape=(), dtype=float32)\n"
     ]
    },
    {
     "name": "stderr",
     "output_type": "stream",
     "text": [
      "/var/folders/mt/0n8phlt50rn7h35xhgh97mw80000gn/T/ipykernel_30589/3025377550.py:31: VisibleDeprecationWarning: Creating an ndarray from ragged nested sequences (which is a list-or-tuple of lists-or-tuples-or ndarrays with different lengths or shapes) is deprecated. If you meant to do this, you must specify 'dtype=object' when creating the ndarray.\n",
      "  target_network.set_weights((1 - TAU) * np.array(target_network.get_weights()) + TAU * np.array(model.get_weights()))\n"
     ]
    },
    {
     "name": "stdout",
     "output_type": "stream",
     "text": [
      "n: 0 tf.Tensor(0.25, shape=(), dtype=float32)\n",
      "n: 1 tf.Tensor(0.25, shape=(), dtype=float32)\n",
      "n: 2 tf.Tensor(0.25, shape=(), dtype=float32)\n",
      "n: 3 tf.Tensor(0.25, shape=(), dtype=float32)\n",
      "n: 4 tf.Tensor(0.25, shape=(), dtype=float32)\n",
      "n: 5 tf.Tensor(0.25, shape=(), dtype=float32)\n",
      "n: 6 tf.Tensor(0.25, shape=(), dtype=float32)\n",
      "n: 7 tf.Tensor(0.25, shape=(), dtype=float32)\n",
      "n: 8 tf.Tensor(0.25, shape=(), dtype=float32)\n",
      "n: 9 tf.Tensor(0.25, shape=(), dtype=float32)\n",
      "max_steps=999951\n",
      "AA tf.Tensor(0.25, shape=(), dtype=float32)\n"
     ]
    },
    {
     "name": "stderr",
     "output_type": "stream",
     "text": [
      "/var/folders/mt/0n8phlt50rn7h35xhgh97mw80000gn/T/ipykernel_30589/3025377550.py:31: VisibleDeprecationWarning: Creating an ndarray from ragged nested sequences (which is a list-or-tuple of lists-or-tuples-or ndarrays with different lengths or shapes) is deprecated. If you meant to do this, you must specify 'dtype=object' when creating the ndarray.\n",
      "  target_network.set_weights((1 - TAU) * np.array(target_network.get_weights()) + TAU * np.array(model.get_weights()))\n"
     ]
    },
    {
     "name": "stdout",
     "output_type": "stream",
     "text": [
      "n: 0 tf.Tensor(0.25, shape=(), dtype=float32)\n",
      "n: 1 tf.Tensor(0.25, shape=(), dtype=float32)\n",
      "n: 2 tf.Tensor(0.25, shape=(), dtype=float32)\n",
      "n: 3 tf.Tensor(0.25, shape=(), dtype=float32)\n",
      "n: 4 tf.Tensor(0.25, shape=(), dtype=float32)\n",
      "n: 5 tf.Tensor(0.25, shape=(), dtype=float32)\n",
      "n: 6 tf.Tensor(0.25, shape=(), dtype=float32)\n",
      "n: 7 tf.Tensor(0.25, shape=(), dtype=float32)\n",
      "n: 8 tf.Tensor(0.25, shape=(), dtype=float32)\n",
      "n: 9 tf.Tensor(0.25, shape=(), dtype=float32)\n"
     ]
    },
    {
     "ename": "KeyboardInterrupt",
     "evalue": "",
     "output_type": "error",
     "traceback": [
      "\u001b[0;31m---------------------------------------------------------------------------\u001b[0m",
      "\u001b[0;31mKeyboardInterrupt\u001b[0m                         Traceback (most recent call last)",
      "Cell \u001b[0;32mIn[15], line 69\u001b[0m\n\u001b[1;32m     67\u001b[0m             selected_q_values \u001b[39m=\u001b[39m tf\u001b[39m.\u001b[39mreduce_sum(predictions \u001b[39m*\u001b[39m tf\u001b[39m.\u001b[39mone_hot(mb_actions, depth\u001b[39m=\u001b[39m\u001b[39m4\u001b[39m), axis\u001b[39m=\u001b[39m\u001b[39m1\u001b[39m)\n\u001b[1;32m     68\u001b[0m             loss_value \u001b[39m=\u001b[39m tf\u001b[39m.\u001b[39mreduce_mean((target_q_values \u001b[39m-\u001b[39m selected_q_values) \u001b[39m*\u001b[39m\u001b[39m*\u001b[39m \u001b[39m2\u001b[39m)\n\u001b[0;32m---> 69\u001b[0m         gradients \u001b[39m=\u001b[39m tape\u001b[39m.\u001b[39;49mgradient(loss_value, model\u001b[39m.\u001b[39;49mtrainable_variables)\n\u001b[1;32m     70\u001b[0m         optimizer\u001b[39m.\u001b[39mapply_gradients(\u001b[39mzip\u001b[39m(gradients, model\u001b[39m.\u001b[39mtrainable_variables))\n\u001b[1;32m     72\u001b[0m max_steps \u001b[39m-\u001b[39m\u001b[39m=\u001b[39m \u001b[39m1\u001b[39m\n",
      "File \u001b[0;32m/opt/homebrew/lib/python3.11/site-packages/tensorflow/python/eager/backprop.py:1063\u001b[0m, in \u001b[0;36mGradientTape.gradient\u001b[0;34m(self, target, sources, output_gradients, unconnected_gradients)\u001b[0m\n\u001b[1;32m   1057\u001b[0m   output_gradients \u001b[39m=\u001b[39m (\n\u001b[1;32m   1058\u001b[0m       composite_tensor_gradient\u001b[39m.\u001b[39mget_flat_tensors_for_gradients(\n\u001b[1;32m   1059\u001b[0m           output_gradients))\n\u001b[1;32m   1060\u001b[0m   output_gradients \u001b[39m=\u001b[39m [\u001b[39mNone\u001b[39;00m \u001b[39mif\u001b[39;00m x \u001b[39mis\u001b[39;00m \u001b[39mNone\u001b[39;00m \u001b[39melse\u001b[39;00m ops\u001b[39m.\u001b[39mconvert_to_tensor(x)\n\u001b[1;32m   1061\u001b[0m                       \u001b[39mfor\u001b[39;00m x \u001b[39min\u001b[39;00m output_gradients]\n\u001b[0;32m-> 1063\u001b[0m flat_grad \u001b[39m=\u001b[39m imperative_grad\u001b[39m.\u001b[39;49mimperative_grad(\n\u001b[1;32m   1064\u001b[0m     \u001b[39mself\u001b[39;49m\u001b[39m.\u001b[39;49m_tape,\n\u001b[1;32m   1065\u001b[0m     flat_targets,\n\u001b[1;32m   1066\u001b[0m     flat_sources,\n\u001b[1;32m   1067\u001b[0m     output_gradients\u001b[39m=\u001b[39;49moutput_gradients,\n\u001b[1;32m   1068\u001b[0m     sources_raw\u001b[39m=\u001b[39;49mflat_sources_raw,\n\u001b[1;32m   1069\u001b[0m     unconnected_gradients\u001b[39m=\u001b[39;49munconnected_gradients)\n\u001b[1;32m   1071\u001b[0m \u001b[39mif\u001b[39;00m \u001b[39mnot\u001b[39;00m \u001b[39mself\u001b[39m\u001b[39m.\u001b[39m_persistent:\n\u001b[1;32m   1072\u001b[0m   \u001b[39m# Keep track of watched variables before setting tape to None\u001b[39;00m\n\u001b[1;32m   1073\u001b[0m   \u001b[39mself\u001b[39m\u001b[39m.\u001b[39m_watched_variables \u001b[39m=\u001b[39m \u001b[39mself\u001b[39m\u001b[39m.\u001b[39m_tape\u001b[39m.\u001b[39mwatched_variables()\n",
      "File \u001b[0;32m/opt/homebrew/lib/python3.11/site-packages/tensorflow/python/eager/imperative_grad.py:67\u001b[0m, in \u001b[0;36mimperative_grad\u001b[0;34m(tape, target, sources, output_gradients, sources_raw, unconnected_gradients)\u001b[0m\n\u001b[1;32m     63\u001b[0m \u001b[39mexcept\u001b[39;00m \u001b[39mValueError\u001b[39;00m:\n\u001b[1;32m     64\u001b[0m   \u001b[39mraise\u001b[39;00m \u001b[39mValueError\u001b[39;00m(\n\u001b[1;32m     65\u001b[0m       \u001b[39m\"\u001b[39m\u001b[39mUnknown value for unconnected_gradients: \u001b[39m\u001b[39m%r\u001b[39;00m\u001b[39m\"\u001b[39m \u001b[39m%\u001b[39m unconnected_gradients)\n\u001b[0;32m---> 67\u001b[0m \u001b[39mreturn\u001b[39;00m pywrap_tfe\u001b[39m.\u001b[39;49mTFE_Py_TapeGradient(\n\u001b[1;32m     68\u001b[0m     tape\u001b[39m.\u001b[39;49m_tape,  \u001b[39m# pylint: disable=protected-access\u001b[39;49;00m\n\u001b[1;32m     69\u001b[0m     target,\n\u001b[1;32m     70\u001b[0m     sources,\n\u001b[1;32m     71\u001b[0m     output_gradients,\n\u001b[1;32m     72\u001b[0m     sources_raw,\n\u001b[1;32m     73\u001b[0m     compat\u001b[39m.\u001b[39;49mas_str(unconnected_gradients\u001b[39m.\u001b[39;49mvalue))\n",
      "File \u001b[0;32m/opt/homebrew/lib/python3.11/site-packages/tensorflow/python/eager/backprop.py:146\u001b[0m, in \u001b[0;36m_gradient_function\u001b[0;34m(op_name, attr_tuple, num_inputs, inputs, outputs, out_grads, skip_input_indices, forward_pass_name_scope)\u001b[0m\n\u001b[1;32m    144\u001b[0m     gradient_name_scope \u001b[39m+\u001b[39m\u001b[39m=\u001b[39m forward_pass_name_scope \u001b[39m+\u001b[39m \u001b[39m\"\u001b[39m\u001b[39m/\u001b[39m\u001b[39m\"\u001b[39m\n\u001b[1;32m    145\u001b[0m   \u001b[39mwith\u001b[39;00m ops\u001b[39m.\u001b[39mname_scope(gradient_name_scope):\n\u001b[0;32m--> 146\u001b[0m     \u001b[39mreturn\u001b[39;00m grad_fn(mock_op, \u001b[39m*\u001b[39;49mout_grads)\n\u001b[1;32m    147\u001b[0m \u001b[39melse\u001b[39;00m:\n\u001b[1;32m    148\u001b[0m   \u001b[39mreturn\u001b[39;00m grad_fn(mock_op, \u001b[39m*\u001b[39mout_grads)\n",
      "File \u001b[0;32m/opt/homebrew/lib/python3.11/site-packages/tensorflow/python/ops/nn_grad.py:926\u001b[0m, in \u001b[0;36m_FusedBatchNormV3Grad\u001b[0;34m(op, *grad)\u001b[0m\n\u001b[1;32m    924\u001b[0m \u001b[39m@ops\u001b[39m\u001b[39m.\u001b[39mRegisterGradient(\u001b[39m\"\u001b[39m\u001b[39mFusedBatchNormV3\u001b[39m\u001b[39m\"\u001b[39m)\n\u001b[1;32m    925\u001b[0m \u001b[39mdef\u001b[39;00m \u001b[39m_FusedBatchNormV3Grad\u001b[39m(op, \u001b[39m*\u001b[39mgrad):\n\u001b[0;32m--> 926\u001b[0m   \u001b[39mreturn\u001b[39;00m _BaseFusedBatchNormGrad(op, \u001b[39m2\u001b[39;49m, \u001b[39m*\u001b[39;49mgrad)\n",
      "File \u001b[0;32m/opt/homebrew/lib/python3.11/site-packages/tensorflow/python/ops/nn_grad.py:906\u001b[0m, in \u001b[0;36m_BaseFusedBatchNormGrad\u001b[0;34m(op, version, *grad)\u001b[0m\n\u001b[1;32m    904\u001b[0m \u001b[39mif\u001b[39;00m version \u001b[39m==\u001b[39m \u001b[39m2\u001b[39m:\n\u001b[1;32m    905\u001b[0m   args[\u001b[39m\"\u001b[39m\u001b[39mreserve_space_3\u001b[39m\u001b[39m\"\u001b[39m] \u001b[39m=\u001b[39m op\u001b[39m.\u001b[39moutputs[\u001b[39m5\u001b[39m]\n\u001b[0;32m--> 906\u001b[0m dx, dscale, doffset, _, _ \u001b[39m=\u001b[39m grad_fun(\u001b[39m*\u001b[39;49m\u001b[39m*\u001b[39;49margs)\n\u001b[1;32m    907\u001b[0m \u001b[39mif\u001b[39;00m data_format \u001b[39m==\u001b[39m \u001b[39mb\u001b[39m\u001b[39m\"\u001b[39m\u001b[39mNCHW\u001b[39m\u001b[39m\"\u001b[39m:\n\u001b[1;32m    908\u001b[0m   dx \u001b[39m=\u001b[39m array_ops\u001b[39m.\u001b[39mtranspose(dx, [\u001b[39m0\u001b[39m, \u001b[39m3\u001b[39m, \u001b[39m1\u001b[39m, \u001b[39m2\u001b[39m])\n",
      "File \u001b[0;32m/opt/homebrew/lib/python3.11/site-packages/tensorflow/python/ops/gen_nn_ops.py:4627\u001b[0m, in \u001b[0;36mfused_batch_norm_grad_v3\u001b[0;34m(y_backprop, x, scale, reserve_space_1, reserve_space_2, reserve_space_3, epsilon, data_format, is_training, name)\u001b[0m\n\u001b[1;32m   4625\u001b[0m \u001b[39mif\u001b[39;00m tld\u001b[39m.\u001b[39mis_eager:\n\u001b[1;32m   4626\u001b[0m   \u001b[39mtry\u001b[39;00m:\n\u001b[0;32m-> 4627\u001b[0m     _result \u001b[39m=\u001b[39m pywrap_tfe\u001b[39m.\u001b[39;49mTFE_Py_FastPathExecute(\n\u001b[1;32m   4628\u001b[0m       _ctx, \u001b[39m\"\u001b[39;49m\u001b[39mFusedBatchNormGradV3\u001b[39;49m\u001b[39m\"\u001b[39;49m, name, y_backprop, x, scale,\n\u001b[1;32m   4629\u001b[0m       reserve_space_1, reserve_space_2, reserve_space_3, \u001b[39m\"\u001b[39;49m\u001b[39mepsilon\u001b[39;49m\u001b[39m\"\u001b[39;49m, epsilon,\n\u001b[1;32m   4630\u001b[0m       \u001b[39m\"\u001b[39;49m\u001b[39mdata_format\u001b[39;49m\u001b[39m\"\u001b[39;49m, data_format, \u001b[39m\"\u001b[39;49m\u001b[39mis_training\u001b[39;49m\u001b[39m\"\u001b[39;49m, is_training)\n\u001b[1;32m   4631\u001b[0m     _result \u001b[39m=\u001b[39m _FusedBatchNormGradV3Output\u001b[39m.\u001b[39m_make(_result)\n\u001b[1;32m   4632\u001b[0m     \u001b[39mreturn\u001b[39;00m _result\n",
      "\u001b[0;31mKeyboardInterrupt\u001b[0m: "
     ]
    }
   ],
   "source": [
    "from collections import deque\n",
    "import numpy as np\n",
    "import random\n",
    "import imageio\n",
    "\n",
    "max_steps = 1_000_000\n",
    "N = 10\n",
    "K = 10\n",
    "EPSILON = 0.2\n",
    "MINI_BATCH_SIZE = 10\n",
    "GAMMA = 0.5\n",
    "TAU = 0.9\n",
    "converged = False\n",
    "\n",
    "# Create the replay buffer\n",
    "buffer_size = 10000  # Define the size of the replay buffer\n",
    "buffer = deque(maxlen=buffer_size)\n",
    "\n",
    "observation, info = envs.reset()\n",
    "print(observation.shape)\n",
    "\n",
    "\n",
    "\n",
    "while not converged and max_steps > 0:\n",
    "    print(f\"{max_steps=}\")\n",
    "    if len(buffer) > 1:\n",
    "        print(\"AA\", loss_value)\n",
    "        # Save the frames as an MP4 video\n",
    "        output_path = 'output.mp4'\n",
    "        imageio.mimwrite(output_path, [o for o, _, _, _ in buffer], fps=5, macro_block_size=None)\n",
    "    target_network.set_weights((1 - TAU) * np.array(target_network.get_weights()) + TAU * np.array(model.get_weights()))\n",
    "    for n in range(N):\n",
    "        print(f\"n: {n}\", loss_value)\n",
    "        # sample s, a, r, s' and add it to replay buffer\n",
    "        action = np.argmax(model(observation), axis=0)\n",
    "        action = [random.choice(range(4)) if random.random() < EPSILON else a for a in action]\n",
    "        new_observation, reward, terminated, truncated, info = envs.step(action)\n",
    "        if terminated.any() or truncated.any():\n",
    "            observation, info = envs.reset()\n",
    "        # extract individual environments\n",
    "        for j in range(NUM_ENVS):\n",
    "            buffer.append((observation[j], action[j] , reward[j], new_observation[j]))\n",
    "        observation = new_observation\n",
    "\n",
    "        for k in range(K):\n",
    "            # sample minibatch from batch\n",
    "            mini_batch = random.sample(buffer, MINI_BATCH_SIZE if MINI_BATCH_SIZE<=len(buffer) else len(buffer))\n",
    "            mb_observations = []\n",
    "            mb_actions = []\n",
    "            mb_rewards = []\n",
    "            mb_new_observations = []\n",
    "            for o, a, r, no in mini_batch:\n",
    "                mb_observations.append(o)\n",
    "                mb_actions.append(a)\n",
    "                mb_rewards.append(r)\n",
    "                mb_new_observations.append(no)\n",
    "            # Convert lists to numpy arrays or TensorFlow tensors\n",
    "            mb_observations = np.array(mb_observations)\n",
    "            mb_actions = np.array(mb_actions)\n",
    "            mb_rewards = np.array(mb_rewards)\n",
    "            mb_new_observations = np.array(mb_new_observations)\n",
    "            # obtain target Q-values (labels)\n",
    "            target_q_values = GAMMA * np.max(target_network(mb_new_observations), axis=1) + mb_rewards\n",
    "            # Perform forward and backward pass\n",
    "            with tf.GradientTape() as tape:\n",
    "                predictions = model(mb_observations)\n",
    "                selected_q_values = tf.reduce_sum(predictions * tf.one_hot(mb_actions, depth=4), axis=1)\n",
    "                loss_value = tf.reduce_mean((target_q_values - selected_q_values) ** 2)\n",
    "            gradients = tape.gradient(loss_value, model.trainable_variables)\n",
    "            optimizer.apply_gradients(zip(gradients, model.trainable_variables))\n",
    "            \n",
    "    max_steps -= 1\n",
    "\n",
    "\n",
    "\n",
    "\n",
    "envs.close()"
   ]
  },
  {
   "cell_type": "code",
   "execution_count": null,
   "metadata": {},
   "outputs": [],
   "source": []
  },
  {
   "cell_type": "code",
   "execution_count": null,
   "metadata": {},
   "outputs": [],
   "source": []
  }
 ],
 "metadata": {
  "kernelspec": {
   "display_name": "Python 3",
   "language": "python",
   "name": "python3"
  },
  "language_info": {
   "codemirror_mode": {
    "name": "ipython",
    "version": 3
   },
   "file_extension": ".py",
   "mimetype": "text/x-python",
   "name": "python",
   "nbconvert_exporter": "python",
   "pygments_lexer": "ipython3",
   "version": "3.11.2"
  },
  "orig_nbformat": 4
 },
 "nbformat": 4,
 "nbformat_minor": 2
}
