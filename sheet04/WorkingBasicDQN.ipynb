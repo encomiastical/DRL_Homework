{
 "cells": [
  {
   "cell_type": "code",
   "execution_count": 1,
   "metadata": {},
   "outputs": [
    {
     "name": "stderr",
     "output_type": "stream",
     "text": [
      "2023-06-13 19:14:37.554967: I tensorflow/core/platform/cpu_feature_guard.cc:182] This TensorFlow binary is optimized to use available CPU instructions in performance-critical operations.\n",
      "To enable the following instructions: SSE4.1 SSE4.2 AVX AVX2 FMA, in other operations, rebuild TensorFlow with the appropriate compiler flags.\n",
      "2023-06-13 19:14:39.878587: I tensorflow/core/common_runtime/process_util.cc:146] Creating new thread pool with default inter op setting: 2. Tune using inter_op_parallelism_threads for best performance.\n"
     ]
    }
   ],
   "source": [
    "import gymnasium as gym\n",
    "import tensorflow as tf\n",
    "import numpy as np\n",
    "import random\n",
    "\n",
    "# Define the CNN model\n",
    "def create_model():\n",
    "    #inputs = tf.keras.Input(shape=(4,))\n",
    "    inputs = tf.keras.Input(shape=(8,)) #changed\n",
    "    x = tf.keras.layers.Dense(128, activation=\"relu\")(inputs)\n",
    "    x = tf.keras.layers.Dense(128, activation=\"relu\")(x)\n",
    "    #outputs = tf.keras.layers.Dense(2, activation=\"relu\")(x)\n",
    "    outputs = tf.keras.layers.Dense(4, activation=\"relu\")(x) #changed\n",
    "    model = tf.keras.Model(inputs=inputs, outputs=outputs, name=\"LunarLander\")\n",
    "    return model\n",
    "\n",
    "optimizer = tf.keras.optimizers.Adam(learning_rate = 0.001)\n",
    "\n"
   ]
  },
  {
   "cell_type": "code",
   "execution_count": 2,
   "metadata": {},
   "outputs": [],
   "source": [
    "class Environment:\n",
    "    def __init__(self, NUM_ENVS, EPSILON = 0.2):\n",
    "        self.num_envs = NUM_ENVS\n",
    "        #self.envs = envs = gym.vector.make('CartPole-v1', num_envs=NUM_ENVS)#, render_mode='human') #changed\n",
    "        self.envs = envs = gym.vector.make('LunarLander-v2', num_envs=NUM_ENVS)\n",
    "        self.current_state, _ = self.envs.reset()\n",
    "        self.epsilon = EPSILON\n",
    "\n",
    "    def sample(self, model):\n",
    "        q_values = model(self.current_state) #get q values for current state\n",
    "        action = np.argmax(q_values, axis=1) #get action that maximizes q-value #potential error?\n",
    "        action = [random.choice(range(4)) if random.random() < self.epsilon else a for a in action] #choose epsilon greedy #changed\n",
    "        new_observation, reward, terminated, truncated, info = self.envs.step(action)\n",
    "        old_observation = self.current_state\n",
    "\n",
    "        self.current_state = new_observation\n",
    "        return (old_observation, action, reward, new_observation, terminated)\n"
   ]
  },
  {
   "cell_type": "code",
   "execution_count": 3,
   "metadata": {},
   "outputs": [],
   "source": [
    "class Buffer:\n",
    "    def __init__(self, max_size):\n",
    "        self.buffer = []\n",
    "        self.max_size = max_size\n",
    "\n",
    "    def add_to_buffer(self, samples):\n",
    "        #unpack the different environments\n",
    "        old_obs_ = samples[0]\n",
    "        actions_ = samples[1]\n",
    "        rewards_ = samples[2]\n",
    "        new_obs_ = samples[3]\n",
    "        terminateds_ = samples[4]\n",
    "        for o, a, r, no, t in zip(old_obs_, actions_, rewards_, new_obs_, terminateds_):\n",
    "            self.buffer.append((o, a, r, no, t))\n",
    "        if len(self.buffer) > self.max_size:\n",
    "            self.buffer = self.buffer[-self.max_size:]\n",
    "\n",
    "    def sample_minibatch(self, batch_size):\n",
    "        r = random.sample(self.buffer, min(len(self.buffer), batch_size))\n",
    "        return r\n",
    "        "
   ]
  },
  {
   "cell_type": "code",
   "execution_count": 4,
   "metadata": {},
   "outputs": [],
   "source": [
    "TAU = 0.01\n",
    "N = 5\n",
    "K = 3\n",
    "MINI_BATCH_SIZE = 64\n",
    "CONVERGED = False\n",
    "#MAX_STEPS = 2000#0\n",
    "MAX_STEPS = 2000\n",
    "GAMMA = 0.98\n"
   ]
  },
  {
   "cell_type": "code",
   "execution_count": 5,
   "metadata": {},
   "outputs": [
    {
     "name": "stdout",
     "output_type": "stream",
     "text": [
      "last loss tf.Tensor(89.74527, shape=(), dtype=float32) in step 100\n",
      "last loss tf.Tensor(42.746784, shape=(), dtype=float32) in step 200\n",
      "last loss tf.Tensor(73.68666, shape=(), dtype=float32) in step 300\n",
      "last loss tf.Tensor(35.2081, shape=(), dtype=float32) in step 400\n",
      "last loss tf.Tensor(11.929905, shape=(), dtype=float32) in step 500\n",
      "last loss tf.Tensor(14.597083, shape=(), dtype=float32) in step 600\n",
      "last loss tf.Tensor(45.5531, shape=(), dtype=float32) in step 700\n",
      "last loss tf.Tensor(203.23941, shape=(), dtype=float32) in step 800\n",
      "last loss tf.Tensor(14.746721, shape=(), dtype=float32) in step 900\n",
      "last loss tf.Tensor(0.49103487, shape=(), dtype=float32) in step 1000\n",
      "last loss tf.Tensor(28.29597, shape=(), dtype=float32) in step 1100\n",
      "last loss tf.Tensor(17.140133, shape=(), dtype=float32) in step 1200\n",
      "last loss tf.Tensor(6.564639, shape=(), dtype=float32) in step 1300\n",
      "last loss tf.Tensor(25.736004, shape=(), dtype=float32) in step 1400\n",
      "last loss tf.Tensor(279.30627, shape=(), dtype=float32) in step 1500\n",
      "last loss tf.Tensor(40.12767, shape=(), dtype=float32) in step 1600\n",
      "last loss tf.Tensor(0.9240286, shape=(), dtype=float32) in step 1700\n",
      "last loss tf.Tensor(7.173709, shape=(), dtype=float32) in step 1800\n",
      "last loss tf.Tensor(57.834328, shape=(), dtype=float32) in step 1900\n",
      "last loss tf.Tensor(46.46247, shape=(), dtype=float32) in step 2000\n"
     ]
    }
   ],
   "source": [
    "\n",
    "envs = Environment(7)\n",
    "\n",
    "# Create the model\n",
    "Q_theta = create_model()\n",
    "Q_target = tf.keras.models.clone_model(Q_theta)\n",
    "\n",
    "kabuff = Buffer(100000)\n",
    "\n",
    "STEPS = 0\n",
    "while not CONVERGED and STEPS < MAX_STEPS:\n",
    "    STEPS += 1\n",
    "    \n",
    "    Q_target.set_weights(Q_theta.get_weights())\n",
    "    \n",
    "    for n in range(N):\n",
    "        kabuff.add_to_buffer(envs.sample(Q_theta))\n",
    "        for k in range(K):\n",
    "            #sample s,a,r,s' minibatch from buffer\n",
    "            minibatch = kabuff.sample_minibatch(MINI_BATCH_SIZE)\n",
    "\n",
    "            new_states = [sample[3] for sample in minibatch]\n",
    "            rewards = [sample[2] for sample in minibatch]\n",
    "            actions = [sample[1] for sample in minibatch]\n",
    "            old_states = [sample[0] for sample in minibatch]\n",
    "            terminateds = [sample[4] for sample in minibatch]\n",
    "\n",
    "            new_states = np.array(new_states)\n",
    "            rewards = np.array(rewards)\n",
    "            actions = np.array(actions)\n",
    "            old_states = np.array(old_states)\n",
    "            terminateds = np.array(terminateds)\n",
    "            #everything seems fine\n",
    "\n",
    "            Q_target_values = Q_target(new_states)\n",
    "            #print(\"new states:\", new_states)\n",
    "            #print(\"Q_target_values\", Q_target_values)\n",
    "            #print(\"----------------------------------------------------------------------\")\n",
    "            #weirdly learns many zeros\n",
    "            max_Q_target_values = np.array([max(action_values) for action_values in Q_target_values])\n",
    "            target_q_values = rewards + GAMMA * max_Q_target_values #this calculation works\n",
    "\n",
    "            for i, tqv in enumerate(target_q_values):\n",
    "                if terminateds[i]:\n",
    "                    target_q_values[i] = rewards[i]\n",
    "\n",
    "            with tf.GradientTape() as tape:\n",
    "                predictions = Q_theta(old_states)\n",
    "                #print(predictions)\n",
    "                selected_q_values = tf.gather(predictions, actions, batch_dims=1)\n",
    "                loss_value = tf.reduce_mean(tf.square(selected_q_values-target_q_values))\n",
    "            gradients = tape.gradient(loss_value, Q_theta.trainable_variables)\n",
    "            optimizer.apply_gradients(zip(gradients, Q_theta.trainable_variables))\n",
    "    if STEPS % 100 == 0:\n",
    "        print(\"last loss \" + str(loss_value) + \" in step \" + str(STEPS))"
   ]
  },
  {
   "cell_type": "code",
   "execution_count": 6,
   "metadata": {},
   "outputs": [
    {
     "name": "stdout",
     "output_type": "stream",
     "text": [
      "WARNING:tensorflow:Compiled the loaded model, but the compiled metrics have yet to be built. `model.compile_metrics` will be empty until you train or evaluate the model.\n",
      "INFO:tensorflow:Assets written to: some_basic_model/assets\n"
     ]
    }
   ],
   "source": [
    "Q_theta.save('some_basic_model')"
   ]
  },
  {
   "cell_type": "code",
   "execution_count": null,
   "metadata": {},
   "outputs": [],
   "source": [
    "Q_theta = keras.models.load_model(\"some_basic_model\")"
   ]
  },
  {
   "cell_type": "code",
   "execution_count": 7,
   "metadata": {},
   "outputs": [],
   "source": [
    "test_env = gym.make('LunarLander-v2', render_mode='human')\n",
    "#test_env = gym.make('CartPole-v1', render_mode='human')\n",
    "obs, inf = test_env.reset()\n"
   ]
  },
  {
   "cell_type": "code",
   "execution_count": 10,
   "metadata": {},
   "outputs": [
    {
     "ename": "",
     "evalue": "",
     "output_type": "error",
     "traceback": [
      "\u001b[1;31mThe Kernel crashed while executing code in the the current cell or a previous cell. Please review the code in the cell(s) to identify a possible cause of the failure. Click <a href='https://aka.ms/vscodeJupyterKernelCrash'>here</a> for more info. View Jupyter <a href='command:jupyter.viewOutput'>log</a> for further details."
     ]
    }
   ],
   "source": [
    "for i in range(1000):\n",
    "    qs = Q_theta(tf.expand_dims(obs, 0))\n",
    "    act = np.argmax(qs)\n",
    "    obs, _, terminated, _, _ = test_env.step(act)\n",
    "    if(terminated):\n",
    "        obs, _ = test_env.reset()"
   ]
  },
  {
   "cell_type": "code",
   "execution_count": null,
   "metadata": {},
   "outputs": [],
   "source": []
  }
 ],
 "metadata": {
  "kernelspec": {
   "display_name": "Python 3 (ipykernel)",
   "language": "python",
   "name": "python3"
  },
  "language_info": {
   "codemirror_mode": {
    "name": "ipython",
    "version": 3
   },
   "file_extension": ".py",
   "mimetype": "text/x-python",
   "name": "python",
   "nbconvert_exporter": "python",
   "pygments_lexer": "ipython3",
   "version": "3.11.3"
  }
 },
 "nbformat": 4,
 "nbformat_minor": 2
}
