{
 "cells": [
  {
   "cell_type": "code",
   "execution_count": 2,
   "metadata": {},
   "outputs": [
    {
     "name": "stderr",
     "output_type": "stream",
     "text": [
      "2023-06-15 09:33:33.244552: I tensorflow/core/platform/cpu_feature_guard.cc:182] This TensorFlow binary is optimized to use available CPU instructions in performance-critical operations.\n",
      "To enable the following instructions: SSE4.1 SSE4.2 AVX AVX2 FMA, in other operations, rebuild TensorFlow with the appropriate compiler flags.\n"
     ]
    }
   ],
   "source": [
    "import gymnasium as gym\n",
    "import tensorflow as tf\n",
    "from tensorflow.keras.regularizers import l2\n",
    "import numpy as np\n",
    "import random\n",
    "import pickle\n",
    "\n",
    "tf.random.set_seed(1111)\n",
    "np.random.seed(2222)\n",
    "\n",
    "\n",
    "N = 10 #outer loop\n",
    "K = 3 #inner loop\n",
    "MINI_BATCH_SIZE = 20\n",
    "CONVERGED = False\n",
    "MAX_STEPS = 1500\n",
    "GAMMA = 0.99\n",
    "regularization_factor = 0.001\n",
    "epsilon = 1.0\n",
    "minimum_epsilon = 0.01\n",
    "epsilon_decay = 0.999\n",
    "NUM_ENVS = 3\n"
   ]
  },
  {
   "cell_type": "code",
   "execution_count": 2,
   "metadata": {},
   "outputs": [
    {
     "name": "stderr",
     "output_type": "stream",
     "text": [
      "2023-06-15 09:11:39.881517: I tensorflow/core/common_runtime/process_util.cc:146] Creating new thread pool with default inter op setting: 2. Tune using inter_op_parallelism_threads for best performance.\n"
     ]
    }
   ],
   "source": [
    "# Define the CNN model\n",
    "def create_model(regularization_factor):\n",
    "    #inputs = tf.keras.Input(shape=(4,))\n",
    "    inputs = tf.keras.Input(shape=(8,)) #changed\n",
    "    x = tf.keras.layers.Dense(64, activation=\"relu\", kernel_regularizer=l2(regularization_factor))(inputs)\n",
    "    x = tf.keras.layers.Dense(64, activation=\"relu\", kernel_regularizer=l2(regularization_factor))(x)\n",
    "    x = tf.keras.layers.Dense(64, activation=\"relu\", kernel_regularizer=l2(regularization_factor))(x)\n",
    "    #outputs = tf.keras.layers.Dense(2, activation=\"relu\")(x)\n",
    "    outputs = tf.keras.layers.Dense(4, activation=\"relu\")(x) #changed\n",
    "    model = tf.keras.Model(inputs=inputs, outputs=outputs, name=\"LunarLander\")\n",
    "    return model\n",
    "\n",
    "optimizer = tf.keras.optimizers.Adam(learning_rate = 0.001)\n",
    "\n"
   ]
  },
  {
   "cell_type": "code",
   "execution_count": 3,
   "metadata": {},
   "outputs": [],
   "source": [
    "class Environment:\n",
    "    def __init__(self, NUM_ENVS):\n",
    "        self.num_envs = NUM_ENVS\n",
    "        #self.envs = envs = gym.vector.make('CartPole-v1', num_envs=NUM_ENVS) #changed\n",
    "        self.envs = envs = gym.vector.make('LunarLander-v2', num_envs=NUM_ENVS)\n",
    "        self.current_state, _ = self.envs.reset()\n",
    "\n",
    "    def sample(self, model, epsilon):\n",
    "        q_values = model(self.current_state) #get q values for current state\n",
    "        action = np.argmax(q_values, axis=1) #get action that maximizes q-value\n",
    "        action = [self.envs.single_action_space.sample() if random.random() < epsilon else a for a in action] #choose epsilon greedy\n",
    "        new_observation, reward, terminated, _, _ = self.envs.step(action)\n",
    "        old_observation = self.current_state\n",
    "\n",
    "        self.current_state = new_observation #update current state after environment did step\n",
    "        return (old_observation, action, reward, new_observation, terminated)\n"
   ]
  },
  {
   "cell_type": "code",
   "execution_count": 4,
   "metadata": {},
   "outputs": [],
   "source": [
    "class Buffer:\n",
    "    def __init__(self, max_size, path=None):\n",
    "        self.buffer = []\n",
    "        self.max_size = max_size\n",
    "        if path:\n",
    "            self.load_from_file(path)\n",
    "\n",
    "    def add_to_buffer(self, samples):\n",
    "        #unpack the different environments\n",
    "        old_obs_ = samples[0]\n",
    "        actions_ = samples[1]\n",
    "        rewards_ = samples[2]\n",
    "        new_obs_ = samples[3]\n",
    "        terminateds_ = samples[4]\n",
    "        for o, a, r, no, t in zip(old_obs_, actions_, rewards_, new_obs_, terminateds_):\n",
    "            self.buffer.append((o, a, r, no, t))\n",
    "        if len(self.buffer) > self.max_size:\n",
    "            self.buffer = self.buffer[-self.max_size:]\n",
    "\n",
    "    def sample_minibatch(self, batch_size):\n",
    "        r = random.sample(self.buffer, min(len(self.buffer), batch_size))\n",
    "        return r\n",
    "    \n",
    "    def load_from_file(self, path):\n",
    "        with open(path, 'rb') as f:\n",
    "            lst = pickle.load(f)\n",
    "        self.buffer += lst\n",
    "        if len(self.buffer) > self.max_size:\n",
    "            self.buffer = self.buffer[-self.max_size:]\n",
    "        "
   ]
  },
  {
   "cell_type": "code",
   "execution_count": 5,
   "metadata": {},
   "outputs": [
    {
     "name": "stdout",
     "output_type": "stream",
     "text": [
      "average return since last print: -137.46946394080123 in step 10\n",
      "average return since last print: -141.91894088563487 in step 20\n",
      "average return since last print: -121.01628730078365 in step 30\n",
      "average return since last print: -129.0927408695424 in step 40\n",
      "average return since last print: -134.85528805270624 in step 50\n",
      "average return since last print: -107.5575359039822 in step 60\n",
      "average return since last print: -116.75162645839568 in step 70\n",
      "average return since last print: -111.0486032007297 in step 80\n",
      "average return since last print: -106.04958905774419 in step 90\n",
      "average return since last print: -123.49657684520562 in step 100\n",
      "average return since last print: -120.91104775872488 in step 110\n",
      "average return since last print: -116.93533725782478 in step 120\n",
      "average return since last print: -123.85292832388876 in step 130\n",
      "average return since last print: -156.08288406381354 in step 140\n",
      "average return since last print: -136.214881973059 in step 150\n",
      "average return since last print: -118.72009403685986 in step 160\n",
      "average return since last print: -121.08794758649556 in step 170\n",
      "average return since last print: -127.40095581260728 in step 180\n",
      "average return since last print: -121.41904358398918 in step 190\n",
      "average return since last print: -121.76590912346589 in step 200\n",
      "average return since last print: -135.92542162131204 in step 210\n",
      "average return since last print: -143.84449539115852 in step 220\n",
      "average return since last print: -126.61833089331721 in step 230\n",
      "average return since last print: -138.23253316545438 in step 240\n",
      "average return since last print: -142.2676084664676 in step 250\n",
      "average return since last print: -132.31139490364066 in step 260\n",
      "average return since last print: -126.53569162259616 in step 270\n",
      "average return since last print: -145.06006308263093 in step 280\n",
      "average return since last print: -155.5892499769539 in step 290\n",
      "average return since last print: -163.90720176407848 in step 300\n"
     ]
    }
   ],
   "source": [
    "#init environments\n",
    "envs = Environment(NUM_ENVS)\n",
    "\n",
    "#just some approximatory metrics\n",
    "returns = np.zeros(NUM_ENVS)\n",
    "return_tracker = []\n",
    "\n",
    "# Create the model\n",
    "Q_theta = create_model(regularization_factor)\n",
    "Q_target = tf.keras.models.clone_model(Q_theta)\n",
    "\n",
    "# init buffer\n",
    "kabuff = Buffer(100000)\n",
    "# prefill buffer\n",
    "kabuff.load_from_file(\"kabuff.pkl\") #kabuff.pkl contains samples derived from a previous working policy\n",
    "\n",
    "STEPS = 0\n",
    "\n",
    "while not CONVERGED and STEPS < MAX_STEPS:\n",
    "    STEPS += 1\n",
    "    \n",
    "    Q_target.set_weights(Q_theta.get_weights()) #update target network to current training network interation\n",
    "    epsilon = max(minimum_epsilon, epsilon*epsilon_decay) #anneal the epsilon used for sampling\n",
    "    \n",
    "    for n in range(N):\n",
    "        \n",
    "        new_samples = envs.sample(Q_theta, epsilon) #sample from the environment\n",
    "        \n",
    "        #update return-metrics, reset returns if terminated\n",
    "        #envs.sample returns a tuple of NUM_ENVS long np.arrays corresponding to old_obs, actions, rewards, new_obs, terminated\n",
    "        #we add the rewards to our return counters\n",
    "        returns += new_samples[2] #new_samples[2] = rewards\n",
    "        for i, t in enumerate(new_samples[4]): #new_samples[4] = terminateds\n",
    "            if t:\n",
    "                #environment terminated, add to tracker and reset\n",
    "                return_tracker.append(returns[i])\n",
    "                returns[i] = 0\n",
    "\n",
    "        kabuff.add_to_buffer(new_samples) #add environment samples to the buffer\n",
    "\n",
    "        for k in range(K):\n",
    "            #sample s,a,r,s' minibatch from buffer\n",
    "            minibatch = kabuff.sample_minibatch(MINI_BATCH_SIZE)\n",
    "\n",
    "            #unpack the minibatch\n",
    "            new_states = np.array([sample[3] for sample in minibatch])\n",
    "            rewards = np.array([sample[2] for sample in minibatch])\n",
    "            actions = np.array([sample[1] for sample in minibatch])\n",
    "            old_states = np.array([sample[0] for sample in minibatch])\n",
    "            terminateds = np.array([sample[4] for sample in minibatch])\n",
    "\n",
    "\n",
    "            #DDQN\n",
    "            #Q_target_values = Q_target(new_states)\n",
    "            #max_Q_target_values = np.array([max(action_values) for action_values in Q_target_values])\n",
    "\n",
    "\n",
    "            Q_target_values = Q_target(new_states)\n",
    "            Q_theta_values = Q_theta(new_states)\n",
    "            max_Q_target_values = []\n",
    "            for target_action_vals, theta_action_vals in zip(Q_target_values, Q_theta_values):\n",
    "                Q_theta_max_index = np.argmax(theta_action_vals)\n",
    "                max_Q_target_value = target_action_vals[Q_theta_max_index]\n",
    "                max_Q_target_values.append(max_Q_target_value)\n",
    "            max_Q_target_values = np.array(max_Q_target_values)\n",
    "\n",
    "            #calculate the targets, don't add new Q_target_values if an environment just terminated\n",
    "            target_q_values = rewards + GAMMA * max_Q_target_values * (1-terminateds)\n",
    "\n",
    "            #training: do gradient descent of Q_theta in direction of target\n",
    "            with tf.GradientTape() as tape:\n",
    "                predictions = Q_theta(old_states)\n",
    "                selected_q_values = tf.gather(predictions, actions, batch_dims=1) #predictions of Q(old_states, actions)\n",
    "                loss_value = tf.reduce_mean(tf.square(selected_q_values-target_q_values)) #compute simple MSE loss\n",
    "            gradients = tape.gradient(loss_value, Q_theta.trainable_variables) #get\n",
    "            optimizer.apply_gradients(zip(gradients, Q_theta.trainable_variables)) #and apply gradients\n",
    "\n",
    "    #every 10 steps, print log message and reset returns\n",
    "    if STEPS % 10 == 0:\n",
    "        if(return_tracker):\n",
    "            print(\"average return since last print: \" + str(np.mean(return_tracker)) + \" in step \" + str(STEPS))\n",
    "            return_tracker = []\n",
    "        else:\n",
    "            print(\"no new returns in step \" + str(STEPS))"
   ]
  },
  {
   "cell_type": "code",
   "execution_count": 6,
   "metadata": {},
   "outputs": [
    {
     "name": "stdout",
     "output_type": "stream",
     "text": [
      "WARNING:tensorflow:Compiled the loaded model, but the compiled metrics have yet to be built. `model.compile_metrics` will be empty until you train or evaluate the model.\n",
      "INFO:tensorflow:Assets written to: final_model/assets\n"
     ]
    }
   ],
   "source": [
    "#Q_theta.save('final_model')"
   ]
  },
  {
   "cell_type": "code",
   "execution_count": 4,
   "metadata": {},
   "outputs": [
    {
     "name": "stdout",
     "output_type": "stream",
     "text": [
      "WARNING:tensorflow:No training configuration found in save file, so the model was *not* compiled. Compile it manually.\n"
     ]
    },
    {
     "name": "stderr",
     "output_type": "stream",
     "text": [
      "2023-06-15 09:33:42.560151: I tensorflow/core/common_runtime/process_util.cc:146] Creating new thread pool with default inter op setting: 2. Tune using inter_op_parallelism_threads for best performance.\n"
     ]
    }
   ],
   "source": [
    "Q_theta = tf.keras.models.load_model(\"fourth_try\")"
   ]
  },
  {
   "cell_type": "code",
   "execution_count": 5,
   "metadata": {},
   "outputs": [],
   "source": [
    "test_env = gym.make('LunarLander-v2', render_mode='human')\n",
    "#test_env = gym.make('CartPole-v1', render_mode='human')\n",
    "obs, inf = test_env.reset()\n"
   ]
  },
  {
   "cell_type": "code",
   "execution_count": 10,
   "metadata": {},
   "outputs": [
    {
     "ename": "",
     "evalue": "",
     "output_type": "error",
     "traceback": [
      "\u001b[1;31mThe Kernel crashed while executing code in the the current cell or a previous cell. Please review the code in the cell(s) to identify a possible cause of the failure. Click <a href='https://aka.ms/vscodeJupyterKernelCrash'>here</a> for more info. View Jupyter <a href='command:jupyter.viewOutput'>log</a> for further details."
     ]
    }
   ],
   "source": [
    "for i in range(1000):\n",
    "    qs = Q_theta(tf.expand_dims(obs, 0))\n",
    "    act = np.argmax(qs)\n",
    "    obs, _, terminated, _, _ = test_env.step(act)\n",
    "    if(terminated):\n",
    "        obs, _ = test_env.reset()"
   ]
  },
  {
   "cell_type": "code",
   "execution_count": null,
   "metadata": {},
   "outputs": [],
   "source": []
  }
 ],
 "metadata": {
  "kernelspec": {
   "display_name": "Python 3 (ipykernel)",
   "language": "python",
   "name": "python3"
  },
  "language_info": {
   "codemirror_mode": {
    "name": "ipython",
    "version": 3
   },
   "file_extension": ".py",
   "mimetype": "text/x-python",
   "name": "python",
   "nbconvert_exporter": "python",
   "pygments_lexer": "ipython3",
   "version": "3.11.3"
  }
 },
 "nbformat": 4,
 "nbformat_minor": 2
}
