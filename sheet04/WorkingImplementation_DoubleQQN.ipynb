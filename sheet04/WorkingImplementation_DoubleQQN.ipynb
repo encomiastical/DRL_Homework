{
 "cells": [
  {
   "cell_type": "code",
   "execution_count": 2,
   "metadata": {},
   "outputs": [
    {
     "name": "stderr",
     "output_type": "stream",
     "text": [
      "WARNING:absl:At this time, the v2.11+ optimizer `tf.keras.optimizers.Adam` runs slowly on M1/M2 Macs, please use the legacy Keras optimizer instead, located at `tf.keras.optimizers.legacy.Adam`.\n"
     ]
    }
   ],
   "source": [
    "import gymnasium as gym\n",
    "import tensorflow as tf\n",
    "from tensorflow.keras.regularizers import l2\n",
    "import numpy as np\n",
    "import random\n",
    "\n",
    "# Define the CNN model\n",
    "def create_model(regularization_factor):\n",
    "    #inputs = tf.keras.Input(shape=(4,))\n",
    "    inputs = tf.keras.Input(shape=(8,)) #changed\n",
    "    x = tf.keras.layers.Dense(64, activation=\"relu\", kernel_regularizer=l2(regularization_factor))(inputs)\n",
    "    x = tf.keras.layers.Dense(64, activation=\"relu\", kernel_regularizer=l2(regularization_factor))(x)\n",
    "    x = tf.keras.layers.Dense(64, activation=\"relu\", kernel_regularizer=l2(regularization_factor))(x)\n",
    "    #outputs = tf.keras.layers.Dense(2, activation=\"relu\")(x)\n",
    "    outputs = tf.keras.layers.Dense(4, activation=\"relu\")(x) #changed\n",
    "    model = tf.keras.Model(inputs=inputs, outputs=outputs, name=\"LunarLander\")\n",
    "    return model\n",
    "\n",
    "optimizer = tf.keras.optimizers.Adam(learning_rate = 0.001)\n",
    "\n"
   ]
  },
  {
   "cell_type": "code",
   "execution_count": 3,
   "metadata": {},
   "outputs": [],
   "source": [
    "class Environment:\n",
    "    def __init__(self, NUM_ENVS):\n",
    "        self.num_envs = NUM_ENVS\n",
    "        #self.envs = envs = gym.vector.make('CartPole-v1', num_envs=NUM_ENVS)#, render_mode='human') #changed\n",
    "        self.envs = envs = gym.vector.make('LunarLander-v2', num_envs=NUM_ENVS)\n",
    "        self.current_state, _ = self.envs.reset()\n",
    "\n",
    "    def sample(self, model, epsilon):\n",
    "        q_values = model(self.current_state) #get q values for current state\n",
    "        action = np.argmax(q_values, axis=1) #get action that maximizes q-value #potential error?\n",
    "        action = [random.choice(range(4)) if random.random() < epsilon else a for a in action] #choose epsilon greedy #changed\n",
    "        new_observation, reward, terminated, truncated, info = self.envs.step(action)\n",
    "        old_observation = self.current_state\n",
    "\n",
    "        self.current_state = new_observation\n",
    "        return (old_observation, action, reward, new_observation, terminated)\n"
   ]
  },
  {
   "cell_type": "code",
   "execution_count": 12,
   "metadata": {},
   "outputs": [],
   "source": [
    "import pickle\n",
    "\n",
    "class Buffer:\n",
    "    def __init__(self, max_size, path=None):\n",
    "        self.buffer = []\n",
    "        self.max_size = max_size\n",
    "        if path:\n",
    "            self.load_from_file(path)\n",
    "\n",
    "    def add_to_buffer(self, samples):\n",
    "        #unpack the different environments\n",
    "        old_obs_ = samples[0]\n",
    "        actions_ = samples[1]\n",
    "        rewards_ = samples[2]\n",
    "        new_obs_ = samples[3]\n",
    "        terminateds_ = samples[4]\n",
    "        for o, a, r, no, t in zip(old_obs_, actions_, rewards_, new_obs_, terminateds_):\n",
    "            self.buffer.append((o, a, r, no, t))\n",
    "        if len(self.buffer) > self.max_size:\n",
    "            self.buffer = self.buffer[-self.max_size:]\n",
    "\n",
    "    def sample_minibatch(self, batch_size):\n",
    "        r = random.sample(self.buffer, min(len(self.buffer), batch_size))\n",
    "        return r\n",
    "    \n",
    "    def load_from_file(self, path):\n",
    "        with open(path, 'rb') as f:\n",
    "            lst = pickle.load(f)\n",
    "        self.buffer += lst\n",
    "        if len(self.buffer) > self.max_size:\n",
    "            self.buffer = self.buffer[-self.max_size:]\n"
   ]
  },
  {
   "cell_type": "code",
   "execution_count": 13,
   "metadata": {},
   "outputs": [],
   "source": [
    "b = Buffer(10000, 'kabuff.pkl')"
   ]
  },
  {
   "cell_type": "code",
   "execution_count": 14,
   "metadata": {},
   "outputs": [
    {
     "data": {
      "text/plain": [
       "10000"
      ]
     },
     "execution_count": 14,
     "metadata": {},
     "output_type": "execute_result"
    }
   ],
   "source": [
    "len(b.buffer)"
   ]
  },
  {
   "cell_type": "code",
   "execution_count": 5,
   "metadata": {},
   "outputs": [],
   "source": [
    "TAU = 0.01\n",
    "N = 50\n",
    "K = 3\n",
    "MINI_BATCH_SIZE = 64\n",
    "CONVERGED = False\n",
    "#MAX_STEPS = 2000#0\n",
    "MAX_STEPS = 300\n",
    "GAMMA = 0.99\n",
    "regularization_factor = 0.001\n",
    "epsilon = 1.0\n",
    "minimum_epsilon = 0.01\n",
    "epsilon_decay = 0.99\n"
   ]
  },
  {
   "cell_type": "code",
   "execution_count": 6,
   "metadata": {},
   "outputs": [
    {
     "name": "stdout",
     "output_type": "stream",
     "text": [
      "last loss tf.Tensor(6.7166195, shape=(), dtype=float32) in step 10\n",
      "last loss tf.Tensor(160.92351, shape=(), dtype=float32) in step 20\n",
      "last loss tf.Tensor(38.680916, shape=(), dtype=float32) in step 30\n",
      "last loss tf.Tensor(4.627407, shape=(), dtype=float32) in step 40\n",
      "last loss tf.Tensor(162.02026, shape=(), dtype=float32) in step 50\n",
      "last loss tf.Tensor(161.13817, shape=(), dtype=float32) in step 60\n"
     ]
    },
    {
     "ename": "KeyboardInterrupt",
     "evalue": "",
     "output_type": "error",
     "traceback": [
      "\u001b[0;31m---------------------------------------------------------------------------\u001b[0m",
      "\u001b[0;31mKeyboardInterrupt\u001b[0m                         Traceback (most recent call last)",
      "Cell \u001b[0;32mIn[6], line 61\u001b[0m\n\u001b[1;32m     59\u001b[0m             selected_q_values \u001b[39m=\u001b[39m tf\u001b[39m.\u001b[39mgather(predictions, actions, batch_dims\u001b[39m=\u001b[39m\u001b[39m1\u001b[39m)\n\u001b[1;32m     60\u001b[0m             loss_value \u001b[39m=\u001b[39m tf\u001b[39m.\u001b[39mreduce_mean(tf\u001b[39m.\u001b[39msquare(selected_q_values\u001b[39m-\u001b[39mtarget_q_values))\n\u001b[0;32m---> 61\u001b[0m         gradients \u001b[39m=\u001b[39m tape\u001b[39m.\u001b[39;49mgradient(loss_value, Q_theta\u001b[39m.\u001b[39;49mtrainable_variables)\n\u001b[1;32m     62\u001b[0m         optimizer\u001b[39m.\u001b[39mapply_gradients(\u001b[39mzip\u001b[39m(gradients, Q_theta\u001b[39m.\u001b[39mtrainable_variables))\n\u001b[1;32m     63\u001b[0m \u001b[39mif\u001b[39;00m STEPS \u001b[39m%\u001b[39m \u001b[39m10\u001b[39m \u001b[39m==\u001b[39m \u001b[39m0\u001b[39m:\n",
      "File \u001b[0;32m/opt/homebrew/lib/python3.11/site-packages/tensorflow/python/eager/backprop.py:1063\u001b[0m, in \u001b[0;36mGradientTape.gradient\u001b[0;34m(self, target, sources, output_gradients, unconnected_gradients)\u001b[0m\n\u001b[1;32m   1057\u001b[0m   output_gradients \u001b[39m=\u001b[39m (\n\u001b[1;32m   1058\u001b[0m       composite_tensor_gradient\u001b[39m.\u001b[39mget_flat_tensors_for_gradients(\n\u001b[1;32m   1059\u001b[0m           output_gradients))\n\u001b[1;32m   1060\u001b[0m   output_gradients \u001b[39m=\u001b[39m [\u001b[39mNone\u001b[39;00m \u001b[39mif\u001b[39;00m x \u001b[39mis\u001b[39;00m \u001b[39mNone\u001b[39;00m \u001b[39melse\u001b[39;00m ops\u001b[39m.\u001b[39mconvert_to_tensor(x)\n\u001b[1;32m   1061\u001b[0m                       \u001b[39mfor\u001b[39;00m x \u001b[39min\u001b[39;00m output_gradients]\n\u001b[0;32m-> 1063\u001b[0m flat_grad \u001b[39m=\u001b[39m imperative_grad\u001b[39m.\u001b[39;49mimperative_grad(\n\u001b[1;32m   1064\u001b[0m     \u001b[39mself\u001b[39;49m\u001b[39m.\u001b[39;49m_tape,\n\u001b[1;32m   1065\u001b[0m     flat_targets,\n\u001b[1;32m   1066\u001b[0m     flat_sources,\n\u001b[1;32m   1067\u001b[0m     output_gradients\u001b[39m=\u001b[39;49moutput_gradients,\n\u001b[1;32m   1068\u001b[0m     sources_raw\u001b[39m=\u001b[39;49mflat_sources_raw,\n\u001b[1;32m   1069\u001b[0m     unconnected_gradients\u001b[39m=\u001b[39;49munconnected_gradients)\n\u001b[1;32m   1071\u001b[0m \u001b[39mif\u001b[39;00m \u001b[39mnot\u001b[39;00m \u001b[39mself\u001b[39m\u001b[39m.\u001b[39m_persistent:\n\u001b[1;32m   1072\u001b[0m   \u001b[39m# Keep track of watched variables before setting tape to None\u001b[39;00m\n\u001b[1;32m   1073\u001b[0m   \u001b[39mself\u001b[39m\u001b[39m.\u001b[39m_watched_variables \u001b[39m=\u001b[39m \u001b[39mself\u001b[39m\u001b[39m.\u001b[39m_tape\u001b[39m.\u001b[39mwatched_variables()\n",
      "File \u001b[0;32m/opt/homebrew/lib/python3.11/site-packages/tensorflow/python/eager/imperative_grad.py:67\u001b[0m, in \u001b[0;36mimperative_grad\u001b[0;34m(tape, target, sources, output_gradients, sources_raw, unconnected_gradients)\u001b[0m\n\u001b[1;32m     63\u001b[0m \u001b[39mexcept\u001b[39;00m \u001b[39mValueError\u001b[39;00m:\n\u001b[1;32m     64\u001b[0m   \u001b[39mraise\u001b[39;00m \u001b[39mValueError\u001b[39;00m(\n\u001b[1;32m     65\u001b[0m       \u001b[39m\"\u001b[39m\u001b[39mUnknown value for unconnected_gradients: \u001b[39m\u001b[39m%r\u001b[39;00m\u001b[39m\"\u001b[39m \u001b[39m%\u001b[39m unconnected_gradients)\n\u001b[0;32m---> 67\u001b[0m \u001b[39mreturn\u001b[39;00m pywrap_tfe\u001b[39m.\u001b[39;49mTFE_Py_TapeGradient(\n\u001b[1;32m     68\u001b[0m     tape\u001b[39m.\u001b[39;49m_tape,  \u001b[39m# pylint: disable=protected-access\u001b[39;49;00m\n\u001b[1;32m     69\u001b[0m     target,\n\u001b[1;32m     70\u001b[0m     sources,\n\u001b[1;32m     71\u001b[0m     output_gradients,\n\u001b[1;32m     72\u001b[0m     sources_raw,\n\u001b[1;32m     73\u001b[0m     compat\u001b[39m.\u001b[39;49mas_str(unconnected_gradients\u001b[39m.\u001b[39;49mvalue))\n",
      "File \u001b[0;32m/opt/homebrew/lib/python3.11/site-packages/tensorflow/python/eager/backprop.py:146\u001b[0m, in \u001b[0;36m_gradient_function\u001b[0;34m(op_name, attr_tuple, num_inputs, inputs, outputs, out_grads, skip_input_indices, forward_pass_name_scope)\u001b[0m\n\u001b[1;32m    144\u001b[0m     gradient_name_scope \u001b[39m+\u001b[39m\u001b[39m=\u001b[39m forward_pass_name_scope \u001b[39m+\u001b[39m \u001b[39m\"\u001b[39m\u001b[39m/\u001b[39m\u001b[39m\"\u001b[39m\n\u001b[1;32m    145\u001b[0m   \u001b[39mwith\u001b[39;00m ops\u001b[39m.\u001b[39mname_scope(gradient_name_scope):\n\u001b[0;32m--> 146\u001b[0m     \u001b[39mreturn\u001b[39;00m grad_fn(mock_op, \u001b[39m*\u001b[39;49mout_grads)\n\u001b[1;32m    147\u001b[0m \u001b[39melse\u001b[39;00m:\n\u001b[1;32m    148\u001b[0m   \u001b[39mreturn\u001b[39;00m grad_fn(mock_op, \u001b[39m*\u001b[39mout_grads)\n",
      "File \u001b[0;32m/opt/homebrew/lib/python3.11/site-packages/tensorflow/python/ops/array_grad.py:717\u001b[0m, in \u001b[0;36m_GatherV2Grad\u001b[0;34m(op, grad)\u001b[0m\n\u001b[1;32m    714\u001b[0m values_transpose \u001b[39m=\u001b[39m array_ops\u001b[39m.\u001b[39mtranspose(values, transpose_dims)\n\u001b[1;32m    715\u001b[0m params_shape_transpose \u001b[39m=\u001b[39m array_ops\u001b[39m.\u001b[39mgather(params_shape, transpose_dims)\n\u001b[0;32m--> 717\u001b[0m params_grad \u001b[39m=\u001b[39m _BatchGatherGrad(params_shape_transpose, values_transpose,\n\u001b[1;32m    718\u001b[0m                                indices, batch_dims, params_shape[axis])\n\u001b[1;32m    720\u001b[0m \u001b[39m# Inverts the above transpose by moving dimension batch_dims back to its\u001b[39;00m\n\u001b[1;32m    721\u001b[0m \u001b[39m# original position.\u001b[39;00m\n\u001b[1;32m    722\u001b[0m invert_transpose_dims \u001b[39m=\u001b[39m array_ops\u001b[39m.\u001b[39mconcat([\n\u001b[1;32m    723\u001b[0m     outer_batches_indices, batch_axis_indices \u001b[39m+\u001b[39m \u001b[39m1\u001b[39m, [batch_dims],\n\u001b[1;32m    724\u001b[0m     inner_axes_indices\n\u001b[1;32m    725\u001b[0m ], \u001b[39m0\u001b[39m)\n",
      "File \u001b[0;32m/opt/homebrew/lib/python3.11/site-packages/tensorflow/python/ops/array_grad.py:634\u001b[0m, in \u001b[0;36m_BatchGatherGrad\u001b[0;34m(params_shape, values, indices, batch_dims, gather_dim_size)\u001b[0m\n\u001b[1;32m    631\u001b[0m   flat_values_shape \u001b[39m=\u001b[39m array_ops\u001b[39m.\u001b[39mconcat([[\u001b[39m-\u001b[39m\u001b[39m1\u001b[39m], inner_shape], \u001b[39m0\u001b[39m)\n\u001b[1;32m    632\u001b[0m   gather_dim_size \u001b[39m*\u001b[39m\u001b[39m=\u001b[39m batch_size\n\u001b[0;32m--> 634\u001b[0m   indices \u001b[39m=\u001b[39m _GetBatchIndices(params_shape, indices, batch_dims)\n\u001b[1;32m    635\u001b[0m   values \u001b[39m=\u001b[39m array_ops\u001b[39m.\u001b[39mreshape(\n\u001b[1;32m    636\u001b[0m       _IndexedSlicesToTensorNoWarning(values), flat_values_shape)\n\u001b[1;32m    638\u001b[0m indices \u001b[39m=\u001b[39m array_ops\u001b[39m.\u001b[39mreshape(indices, indices_size)\n",
      "File \u001b[0;32m/opt/homebrew/lib/python3.11/site-packages/tensorflow/python/ops/array_grad.py:606\u001b[0m, in \u001b[0;36m_GetBatchIndices\u001b[0;34m(params_shape, indices, batch_dims)\u001b[0m\n\u001b[1;32m    604\u001b[0m dim_value \u001b[39m=\u001b[39m casted_params_shape[dim \u001b[39m-\u001b[39m \u001b[39m1\u001b[39m]\n\u001b[1;32m    605\u001b[0m accum_dim_value \u001b[39m*\u001b[39m\u001b[39m=\u001b[39m casted_params_shape[dim]\n\u001b[0;32m--> 606\u001b[0m start \u001b[39m=\u001b[39m array_ops\u001b[39m.\u001b[39;49mzeros((), dtype\u001b[39m=\u001b[39;49mindices_dtype)\n\u001b[1;32m    607\u001b[0m step \u001b[39m=\u001b[39m array_ops\u001b[39m.\u001b[39mones((), dtype\u001b[39m=\u001b[39mindices_dtype)\n\u001b[1;32m    608\u001b[0m dim_indices \u001b[39m=\u001b[39m math_ops\u001b[39m.\u001b[39mrange(start, dim_value, step)\n",
      "File \u001b[0;32m/opt/homebrew/lib/python3.11/site-packages/tensorflow/python/util/traceback_utils.py:150\u001b[0m, in \u001b[0;36mfilter_traceback.<locals>.error_handler\u001b[0;34m(*args, **kwargs)\u001b[0m\n\u001b[1;32m    148\u001b[0m filtered_tb \u001b[39m=\u001b[39m \u001b[39mNone\u001b[39;00m\n\u001b[1;32m    149\u001b[0m \u001b[39mtry\u001b[39;00m:\n\u001b[0;32m--> 150\u001b[0m   \u001b[39mreturn\u001b[39;00m fn(\u001b[39m*\u001b[39;49margs, \u001b[39m*\u001b[39;49m\u001b[39m*\u001b[39;49mkwargs)\n\u001b[1;32m    151\u001b[0m \u001b[39mexcept\u001b[39;00m \u001b[39mException\u001b[39;00m \u001b[39mas\u001b[39;00m e:\n\u001b[1;32m    152\u001b[0m   filtered_tb \u001b[39m=\u001b[39m _process_traceback_frames(e\u001b[39m.\u001b[39m__traceback__)\n",
      "File \u001b[0;32m/opt/homebrew/lib/python3.11/site-packages/tensorflow/python/util/dispatch.py:1176\u001b[0m, in \u001b[0;36madd_dispatch_support.<locals>.decorator.<locals>.op_dispatch_handler\u001b[0;34m(*args, **kwargs)\u001b[0m\n\u001b[1;32m   1174\u001b[0m \u001b[39m# Fallback dispatch system (dispatch v1):\u001b[39;00m\n\u001b[1;32m   1175\u001b[0m \u001b[39mtry\u001b[39;00m:\n\u001b[0;32m-> 1176\u001b[0m   \u001b[39mreturn\u001b[39;00m dispatch_target(\u001b[39m*\u001b[39;49margs, \u001b[39m*\u001b[39;49m\u001b[39m*\u001b[39;49mkwargs)\n\u001b[1;32m   1177\u001b[0m \u001b[39mexcept\u001b[39;00m (\u001b[39mTypeError\u001b[39;00m, \u001b[39mValueError\u001b[39;00m):\n\u001b[1;32m   1178\u001b[0m   \u001b[39m# Note: convert_to_eager_tensor currently raises a ValueError, not a\u001b[39;00m\n\u001b[1;32m   1179\u001b[0m   \u001b[39m# TypeError, when given unexpected types.  So we need to catch both.\u001b[39;00m\n\u001b[1;32m   1180\u001b[0m   result \u001b[39m=\u001b[39m dispatch(op_dispatch_handler, args, kwargs)\n",
      "File \u001b[0;32m/opt/homebrew/lib/python3.11/site-packages/tensorflow/python/ops/array_ops.py:2987\u001b[0m, in \u001b[0;36m_tag_zeros_tensor.<locals>.wrapped\u001b[0;34m(*args, **kwargs)\u001b[0m\n\u001b[1;32m   2986\u001b[0m \u001b[39mdef\u001b[39;00m \u001b[39mwrapped\u001b[39m(\u001b[39m*\u001b[39margs, \u001b[39m*\u001b[39m\u001b[39m*\u001b[39mkwargs):\n\u001b[0;32m-> 2987\u001b[0m   tensor \u001b[39m=\u001b[39m fun(\u001b[39m*\u001b[39;49margs, \u001b[39m*\u001b[39;49m\u001b[39m*\u001b[39;49mkwargs)\n\u001b[1;32m   2988\u001b[0m   tensor\u001b[39m.\u001b[39m_is_zeros_tensor \u001b[39m=\u001b[39m \u001b[39mTrue\u001b[39;00m\n\u001b[1;32m   2989\u001b[0m   \u001b[39mreturn\u001b[39;00m tensor\n",
      "File \u001b[0;32m/opt/homebrew/lib/python3.11/site-packages/tensorflow/python/ops/array_ops.py:3041\u001b[0m, in \u001b[0;36mzeros\u001b[0;34m(shape, dtype, name)\u001b[0m\n\u001b[1;32m   3038\u001b[0m       \u001b[39mreturn\u001b[39;00m output\n\u001b[1;32m   3040\u001b[0m   \u001b[39m# Go through tensor shapes to get int64-if-needed semantics\u001b[39;00m\n\u001b[0;32m-> 3041\u001b[0m   shape \u001b[39m=\u001b[39m constant_op\u001b[39m.\u001b[39;49m_tensor_shape_tensor_conversion_function(\n\u001b[1;32m   3042\u001b[0m       tensor_shape\u001b[39m.\u001b[39;49mTensorShape(shape))\n\u001b[1;32m   3043\u001b[0m \u001b[39mexcept\u001b[39;00m (\u001b[39mTypeError\u001b[39;00m, \u001b[39mValueError\u001b[39;00m, errors\u001b[39m.\u001b[39mUnimplementedError):\n\u001b[1;32m   3044\u001b[0m   \u001b[39m# Happens when shape is a list with tensor elements\u001b[39;00m\n\u001b[1;32m   3045\u001b[0m   shape \u001b[39m=\u001b[39m ops\u001b[39m.\u001b[39mconvert_to_tensor(shape, dtype\u001b[39m=\u001b[39mdtypes\u001b[39m.\u001b[39mint32)\n",
      "File \u001b[0;32m/opt/homebrew/lib/python3.11/site-packages/tensorflow/python/framework/constant_op.py:380\u001b[0m, in \u001b[0;36m_tensor_shape_tensor_conversion_function\u001b[0;34m(s, dtype, name, as_ref)\u001b[0m\n\u001b[1;32m    378\u001b[0m \u001b[39mif\u001b[39;00m name \u001b[39mis\u001b[39;00m \u001b[39mNone\u001b[39;00m:\n\u001b[1;32m    379\u001b[0m   name \u001b[39m=\u001b[39m \u001b[39m\"\u001b[39m\u001b[39mshape_as_tensor\u001b[39m\u001b[39m\"\u001b[39m\n\u001b[0;32m--> 380\u001b[0m \u001b[39mreturn\u001b[39;00m constant(s_list, dtype\u001b[39m=\u001b[39;49mdtype, name\u001b[39m=\u001b[39;49mname)\n",
      "File \u001b[0;32m/opt/homebrew/lib/python3.11/site-packages/tensorflow/python/framework/constant_op.py:268\u001b[0m, in \u001b[0;36mconstant\u001b[0;34m(value, dtype, shape, name)\u001b[0m\n\u001b[1;32m    171\u001b[0m \u001b[39m@tf_export\u001b[39m(\u001b[39m\"\u001b[39m\u001b[39mconstant\u001b[39m\u001b[39m\"\u001b[39m, v1\u001b[39m=\u001b[39m[])\n\u001b[1;32m    172\u001b[0m \u001b[39mdef\u001b[39;00m \u001b[39mconstant\u001b[39m(value, dtype\u001b[39m=\u001b[39m\u001b[39mNone\u001b[39;00m, shape\u001b[39m=\u001b[39m\u001b[39mNone\u001b[39;00m, name\u001b[39m=\u001b[39m\u001b[39m\"\u001b[39m\u001b[39mConst\u001b[39m\u001b[39m\"\u001b[39m):\n\u001b[1;32m    173\u001b[0m \u001b[39m  \u001b[39m\u001b[39m\"\"\"Creates a constant tensor from a tensor-like object.\u001b[39;00m\n\u001b[1;32m    174\u001b[0m \n\u001b[1;32m    175\u001b[0m \u001b[39m  Note: All eager `tf.Tensor` values are immutable (in contrast to\u001b[39;00m\n\u001b[0;32m   (...)\u001b[0m\n\u001b[1;32m    266\u001b[0m \u001b[39m    ValueError: if called on a symbolic tensor.\u001b[39;00m\n\u001b[1;32m    267\u001b[0m \u001b[39m  \"\"\"\u001b[39;00m\n\u001b[0;32m--> 268\u001b[0m   \u001b[39mreturn\u001b[39;00m _constant_impl(value, dtype, shape, name, verify_shape\u001b[39m=\u001b[39;49m\u001b[39mFalse\u001b[39;49;00m,\n\u001b[1;32m    269\u001b[0m                         allow_broadcast\u001b[39m=\u001b[39;49m\u001b[39mTrue\u001b[39;49;00m)\n",
      "File \u001b[0;32m/opt/homebrew/lib/python3.11/site-packages/tensorflow/python/framework/constant_op.py:280\u001b[0m, in \u001b[0;36m_constant_impl\u001b[0;34m(value, dtype, shape, name, verify_shape, allow_broadcast)\u001b[0m\n\u001b[1;32m    278\u001b[0m     \u001b[39mwith\u001b[39;00m trace\u001b[39m.\u001b[39mTrace(\u001b[39m\"\u001b[39m\u001b[39mtf.constant\u001b[39m\u001b[39m\"\u001b[39m):\n\u001b[1;32m    279\u001b[0m       \u001b[39mreturn\u001b[39;00m _constant_eager_impl(ctx, value, dtype, shape, verify_shape)\n\u001b[0;32m--> 280\u001b[0m   \u001b[39mreturn\u001b[39;00m _constant_eager_impl(ctx, value, dtype, shape, verify_shape)\n\u001b[1;32m    282\u001b[0m g \u001b[39m=\u001b[39m ops\u001b[39m.\u001b[39mget_default_graph()\n\u001b[1;32m    283\u001b[0m tensor_value \u001b[39m=\u001b[39m attr_value_pb2\u001b[39m.\u001b[39mAttrValue()\n",
      "File \u001b[0;32m/opt/homebrew/lib/python3.11/site-packages/tensorflow/python/framework/constant_op.py:305\u001b[0m, in \u001b[0;36m_constant_eager_impl\u001b[0;34m(ctx, value, dtype, shape, verify_shape)\u001b[0m\n\u001b[1;32m    303\u001b[0m \u001b[39mdef\u001b[39;00m \u001b[39m_constant_eager_impl\u001b[39m(ctx, value, dtype, shape, verify_shape):\n\u001b[1;32m    304\u001b[0m \u001b[39m  \u001b[39m\u001b[39m\"\"\"Creates a constant on the current device.\"\"\"\u001b[39;00m\n\u001b[0;32m--> 305\u001b[0m   t \u001b[39m=\u001b[39m convert_to_eager_tensor(value, ctx, dtype)\n\u001b[1;32m    306\u001b[0m   \u001b[39mif\u001b[39;00m shape \u001b[39mis\u001b[39;00m \u001b[39mNone\u001b[39;00m:\n\u001b[1;32m    307\u001b[0m     \u001b[39mreturn\u001b[39;00m t\n",
      "File \u001b[0;32m/opt/homebrew/lib/python3.11/site-packages/tensorflow/python/framework/constant_op.py:103\u001b[0m, in \u001b[0;36mconvert_to_eager_tensor\u001b[0;34m(value, ctx, dtype)\u001b[0m\n\u001b[1;32m    101\u001b[0m     dtype \u001b[39m=\u001b[39m dtypes\u001b[39m.\u001b[39mas_dtype(dtype)\u001b[39m.\u001b[39mas_datatype_enum\n\u001b[1;32m    102\u001b[0m ctx\u001b[39m.\u001b[39mensure_initialized()\n\u001b[0;32m--> 103\u001b[0m \u001b[39mreturn\u001b[39;00m ops\u001b[39m.\u001b[39;49mEagerTensor(value, ctx\u001b[39m.\u001b[39;49mdevice_name, dtype)\n",
      "\u001b[0;31mKeyboardInterrupt\u001b[0m: "
     ]
    }
   ],
   "source": [
    "\n",
    "envs = Environment(7)\n",
    "\n",
    "# Create the model\n",
    "Q_theta = create_model(regularization_factor)\n",
    "Q_target = tf.keras.models.clone_model(Q_theta)\n",
    "\n",
    "kabuff = Buffer(100000)\n",
    "\n",
    "STEPS = 0\n",
    "\n",
    "while not CONVERGED and STEPS < MAX_STEPS:\n",
    "    STEPS += 1\n",
    "    \n",
    "    Q_target.set_weights(Q_theta.get_weights())\n",
    "    \n",
    "    epsilon = max(minimum_epsilon, epsilon*epsilon_decay) \n",
    "    for n in range(N):\n",
    "        \n",
    "        kabuff.add_to_buffer(envs.sample(Q_theta, epsilon))\n",
    "        for k in range(K):\n",
    "            #sample s,a,r,s' minibatch from buffer\n",
    "            minibatch = kabuff.sample_minibatch(MINI_BATCH_SIZE)\n",
    "\n",
    "            new_states = [sample[3] for sample in minibatch]\n",
    "            rewards = [sample[2] for sample in minibatch]\n",
    "            actions = [sample[1] for sample in minibatch]\n",
    "            old_states = [sample[0] for sample in minibatch]\n",
    "            terminateds = [sample[4] for sample in minibatch]\n",
    "\n",
    "            new_states = np.array(new_states)\n",
    "            rewards = np.array(rewards)\n",
    "            actions = np.array(actions)\n",
    "            old_states = np.array(old_states)\n",
    "            terminateds = np.array(terminateds)\n",
    "            #everything seems fine\n",
    "\n",
    "            Q_target_values = Q_target(new_states)\n",
    "            Q_theta_values = Q_theta(new_states)\n",
    "            #print(\"new states:\", new_states)\n",
    "            #print(\"Q_target_values\", Q_target_values)\n",
    "            #print(\"----------------------------------------------------------------------\")\n",
    "            #weirdly learns many zeros\n",
    "            max_Q_target_values = []\n",
    "            for target_action_vals, theta_action_vals in zip(Q_target_values, Q_theta_values):\n",
    "                Q_theta_max_index = np.argmax(theta_action_vals)\n",
    "                max_Q_target_value = target_action_vals[Q_theta_max_index]\n",
    "                max_Q_target_values.append(max_Q_target_value)\n",
    "            max_Q_target_values = np.array(max_Q_target_values)\n",
    "            #max_Q_target_values = np.array([max(action_values) for action_values in Q_target_values])\n",
    "            target_q_values = rewards + GAMMA * max_Q_target_values #this calculation works\n",
    "\n",
    "            for i, tqv in enumerate(target_q_values):\n",
    "                if terminateds[i]:\n",
    "                    target_q_values[i] = rewards[i]\n",
    "\n",
    "            with tf.GradientTape() as tape:\n",
    "                predictions = Q_theta(old_states)\n",
    "                #print(predictions)\n",
    "                selected_q_values = tf.gather(predictions, actions, batch_dims=1)\n",
    "                loss_value = tf.reduce_mean(tf.square(selected_q_values-target_q_values))\n",
    "            gradients = tape.gradient(loss_value, Q_theta.trainable_variables)\n",
    "            optimizer.apply_gradients(zip(gradients, Q_theta.trainable_variables))\n",
    "    if STEPS % 10 == 0:\n",
    "        print(\"last loss \" + str(loss_value) + \" in step \" + str(STEPS))"
   ]
  },
  {
   "cell_type": "code",
   "execution_count": 6,
   "metadata": {},
   "outputs": [
    {
     "name": "stdout",
     "output_type": "stream",
     "text": [
      "WARNING:tensorflow:Compiled the loaded model, but the compiled metrics have yet to be built. `model.compile_metrics` will be empty until you train or evaluate the model.\n",
      "INFO:tensorflow:Assets written to: third_try/assets\n"
     ]
    }
   ],
   "source": [
    "#Q_theta.save('third_try')"
   ]
  },
  {
   "cell_type": "code",
   "execution_count": null,
   "metadata": {},
   "outputs": [],
   "source": [
    "Q_theta = keras.models.load_model(\"third_try\")"
   ]
  },
  {
   "cell_type": "code",
   "execution_count": 7,
   "metadata": {},
   "outputs": [],
   "source": [
    "test_env = gym.make('LunarLander-v2', render_mode='human')\n",
    "#test_env = gym.make('CartPole-v1', render_mode='human')\n",
    "obs, inf = test_env.reset()\n"
   ]
  },
  {
   "cell_type": "code",
   "execution_count": 9,
   "metadata": {},
   "outputs": [
    {
     "ename": "",
     "evalue": "",
     "output_type": "error",
     "traceback": [
      "\u001b[1;31mThe Kernel crashed while executing code in the the current cell or a previous cell. Please review the code in the cell(s) to identify a possible cause of the failure. Click <a href='https://aka.ms/vscodeJupyterKernelCrash'>here</a> for more info. View Jupyter <a href='command:jupyter.viewOutput'>log</a> for further details."
     ]
    }
   ],
   "source": [
    "for i in range(1000):\n",
    "    qs = Q_theta(tf.expand_dims(obs, 0))\n",
    "    act = np.argmax(qs)\n",
    "    obs, _, terminated, _, _ = test_env.step(act)\n",
    "    if(terminated):\n",
    "        obs, _ = test_env.reset()"
   ]
  },
  {
   "cell_type": "code",
   "execution_count": null,
   "metadata": {},
   "outputs": [],
   "source": []
  }
 ],
 "metadata": {
  "kernelspec": {
   "display_name": "Python 3 (ipykernel)",
   "language": "python",
   "name": "python3"
  },
  "language_info": {
   "codemirror_mode": {
    "name": "ipython",
    "version": 3
   },
   "file_extension": ".py",
   "mimetype": "text/x-python",
   "name": "python",
   "nbconvert_exporter": "python",
   "pygments_lexer": "ipython3",
   "version": "3.11.2"
  }
 },
 "nbformat": 4,
 "nbformat_minor": 2
}
