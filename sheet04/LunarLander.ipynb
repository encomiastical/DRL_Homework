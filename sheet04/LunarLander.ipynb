{
 "cells": [
  {
   "cell_type": "code",
   "execution_count": null,
   "metadata": {},
   "outputs": [],
   "source": [
    "#!pip install box2d-py\n",
    "#!pip install \"stable-baselines3[extra]>=2.0.0a4\"\n",
    "#!conda install -c conda-forge gcc=12.1.0"
   ]
  },
  {
   "cell_type": "code",
   "execution_count": 1,
   "metadata": {},
   "outputs": [],
   "source": [
    "import gymnasium as gym\n",
    "NUM_ENVS = 5\n",
    "#envs = gym.vector.make('ALE/Breakout-v5', num_envs=NUM_ENVS)#, render_mode='human')\n",
    "envs = gym.vector.make('LunarLander-v2', num_envs=NUM_ENVS)#, render_mode='human')\n"
   ]
  },
  {
   "cell_type": "code",
   "execution_count": 2,
   "metadata": {},
   "outputs": [
    {
     "name": "stderr",
     "output_type": "stream",
     "text": [
      "2023-06-12 16:06:12.697697: I tensorflow/core/platform/cpu_feature_guard.cc:182] This TensorFlow binary is optimized to use available CPU instructions in performance-critical operations.\n",
      "To enable the following instructions: SSE4.1 SSE4.2 AVX AVX2 FMA, in other operations, rebuild TensorFlow with the appropriate compiler flags.\n",
      "2023-06-12 16:06:14.226247: I tensorflow/core/common_runtime/process_util.cc:146] Creating new thread pool with default inter op setting: 2. Tune using inter_op_parallelism_threads for best performance.\n"
     ]
    }
   ],
   "source": [
    "import tensorflow as tf\n",
    "import numpy as np\n",
    "import random\n",
    "\n",
    "# Define the CNN model\n",
    "def create_model():\n",
    "    inputs = tf.keras.Input(shape=(8,))\n",
    "    x = tf.keras.layers.Dense(8, activation=\"relu\")(inputs)\n",
    "    x = tf.keras.layers.Dense(8, activation=\"relu\")(x)\n",
    "    x = tf.keras.layers.Dense(8, activation=\"relu\")(x)\n",
    "    outputs = tf.keras.layers.Dense(4, activation=\"relu\")(x)\n",
    "    model = tf.keras.Model(inputs=inputs, outputs=outputs, name=\"LunarLander\")\n",
    "    return model\n",
    "\n",
    "# Create the model\n",
    "model = create_model()\n",
    "optimizer = tf.keras.optimizers.Adam()\n",
    "# Copy the model\n",
    "target_network = tf.keras.models.clone_model(model)\n",
    "\n"
   ]
  },
  {
   "cell_type": "code",
   "execution_count": 3,
   "metadata": {},
   "outputs": [
    {
     "name": "stdout",
     "output_type": "stream",
     "text": [
      "init obs:\n",
      "[[ 0.00496216  1.4089434   0.5025958  -0.08785639 -0.0057431  -0.11384554\n",
      "   0.          0.        ]\n",
      " [ 0.00420198  1.4172679   0.42560512  0.2821156  -0.00486231 -0.09640589\n",
      "   0.          0.        ]\n",
      " [-0.00745811  1.4037193  -0.75544393 -0.32006347  0.0086489   0.17111933\n",
      "   0.          0.        ]\n",
      " [ 0.00571785  1.4162394   0.57914466  0.23640251 -0.00661882 -0.13118501\n",
      "   0.          0.        ]\n",
      " [-0.00427132  1.4070904  -0.4326521  -0.1702099   0.00495615  0.09800202\n",
      "   0.          0.        ]]\n"
     ]
    },
    {
     "ename": "NameError",
     "evalue": "name 'generate_samples' is not defined",
     "output_type": "error",
     "traceback": [
      "\u001b[0;31m---------------------------------------------------------------------------\u001b[0m",
      "\u001b[0;31mNameError\u001b[0m                                 Traceback (most recent call last)",
      "Cell \u001b[0;32mIn[3], line 34\u001b[0m\n\u001b[1;32m     31\u001b[0m \u001b[39m#next(Erp.generate_samples())\u001b[39;00m\n\u001b[1;32m     33\u001b[0m sig \u001b[39m=\u001b[39m (tf\u001b[39m.\u001b[39mTensorSpec(shape\u001b[39m=\u001b[39m(\u001b[39m8\u001b[39m), dtype \u001b[39m=\u001b[39m tf\u001b[39m.\u001b[39muint8), tf\u001b[39m.\u001b[39mTensorSpec(shape\u001b[39m=\u001b[39m(), dtype \u001b[39m=\u001b[39m tf\u001b[39m.\u001b[39mint32), tf\u001b[39m.\u001b[39mTensorSpec(shape\u001b[39m=\u001b[39m(), dtype \u001b[39m=\u001b[39m tf\u001b[39m.\u001b[39mfloat32), tf\u001b[39m.\u001b[39mTensorSpec(shape\u001b[39m=\u001b[39m(\u001b[39m8\u001b[39m), dtype \u001b[39m=\u001b[39m tf\u001b[39m.\u001b[39muint8))\n\u001b[0;32m---> 34\u001b[0m ds \u001b[39m=\u001b[39m tf\u001b[39m.\u001b[39mdata\u001b[39m.\u001b[39mDataset\u001b[39m.\u001b[39mfrom_generator(generate_samples, output_signature \u001b[39m=\u001b[39m sig)\n\u001b[1;32m     35\u001b[0m ds\u001b[39m.\u001b[39mprefetch(buffer_size\u001b[39m=\u001b[39mNUM_ENVS\u001b[39m*\u001b[39mSAMPLE_SIZE)\u001b[39m.\u001b[39mcache()\u001b[39m.\u001b[39mshuffle(buffer_size \u001b[39m=\u001b[39m NUM_ENVS\u001b[39m*\u001b[39mSAMPLE_SIZE, reshuffle_each_iteration \u001b[39m=\u001b[39m \u001b[39mTrue\u001b[39;00m)\n",
      "\u001b[0;31mNameError\u001b[0m: name 'generate_samples' is not defined"
     ]
    }
   ],
   "source": [
    "SAMPLE_SIZE = 10\n",
    "EPSILON = 0.2\n",
    "\n",
    "class ERP():\n",
    "    def __init__(self):\n",
    "        obs, info = envs.reset()\n",
    "        self.observation = obs\n",
    "        print(\"init obs:\")\n",
    "        print(self.observation)\n",
    "\n",
    "    def generate_samples(self):\n",
    "        # sample s, a, r, s' and add it to replay buffer\n",
    "        for i in range(SAMPLE_SIZE):\n",
    "            print(\"old obs:\")\n",
    "            print(self.observation)\n",
    "            action = np.argmax(model(self.observation), axis=0)\n",
    "            action = [random.choice(range(4)) if random.random() < EPSILON else a for a in action] #epsilon greedy policy\n",
    "            new_observation, reward, terminated, truncated, info = envs.step(action)\n",
    "            old_observation = self.observation\n",
    "            #if terminated.any() or truncated.any(): <- no need in vectorized env\n",
    "            #    observation, info = envs.reset()\n",
    "            # extract individual environments\n",
    "            self.observation = new_observation\n",
    "            print(\"new obs:\")\n",
    "            print(self.observation)\n",
    "            for j in range(NUM_ENVS):\n",
    "                yield (old_observation[j], action[j] , reward[j], new_observation[j])\n",
    "            \n",
    "\n",
    "Erp = ERP()\n",
    "#next(Erp.generate_samples())\n",
    "\n",
    "sig = (tf.TensorSpec(shape=(8), dtype = tf.uint8), tf.TensorSpec(shape=(), dtype = tf.int32), tf.TensorSpec(shape=(), dtype = tf.float32), tf.TensorSpec(shape=(8), dtype = tf.uint8))\n",
    "ds = tf.data.Dataset.from_generator(Erp.generate_samples, output_signature = sig)\n",
    "ds.prefetch(buffer_size=NUM_ENVS*SAMPLE_SIZE).cache().shuffle(buffer_size = NUM_ENVS*SAMPLE_SIZE, reshuffle_each_iteration = True)\n",
    "\n",
    "        "
   ]
  },
  {
   "cell_type": "code",
   "execution_count": null,
   "metadata": {},
   "outputs": [
    {
     "name": "stdout",
     "output_type": "stream",
     "text": [
      "old obs:\n",
      "[[ 0.00281448  1.3939519   0.10158356 -0.23564729 -0.00256966 -0.01017522\n",
      "   0.          0.        ]]\n",
      "new obs:\n",
      "[[ 0.00382519  1.3880495   0.10158485 -0.26233083 -0.00307866 -0.01018112\n",
      "   0.          0.        ]]\n"
     ]
    },
    {
     "data": {
      "text/plain": [
       "(array([ 0.00281448,  1.3939519 ,  0.10158356, -0.23564729, -0.00256966,\n",
       "        -0.01017522,  0.        ,  0.        ], dtype=float32),\n",
       " 0,\n",
       " -1.9311562311576438,\n",
       " array([ 0.00382519,  1.3880495 ,  0.10158485, -0.26233083, -0.00307866,\n",
       "        -0.01018112,  0.        ,  0.        ], dtype=float32))"
      ]
     },
     "execution_count": 6,
     "metadata": {},
     "output_type": "execute_result"
    }
   ],
   "source": [
    "next(Erp.generate_samples())"
   ]
  },
  {
   "cell_type": "code",
   "execution_count": 6,
   "metadata": {},
   "outputs": [
    {
     "name": "stderr",
     "output_type": "stream",
     "text": [
      "2023-06-12 15:30:27.092536: I tensorflow/core/common_runtime/executor.cc:1197] [/device:CPU:0] (DEBUG INFO) Executor start aborting (this does not indicate an error and you can ignore this message): INVALID_ARGUMENT: You must feed a value for placeholder tensor 'Placeholder/_0' with dtype int32\n",
      "\t [[{{node Placeholder/_0}}]]\n",
      "2023-06-12 15:30:27.121381: W tensorflow/core/framework/op_kernel.cc:1818] UNKNOWN: UnboundLocalError: cannot access local variable 'observation' where it is not associated with a value\n",
      "Traceback (most recent call last):\n",
      "\n",
      "  File \"/home/mindset/miniconda3/envs/drl/lib/python3.11/site-packages/tensorflow/python/ops/script_ops.py\", line 267, in __call__\n",
      "    ret = func(*args)\n",
      "          ^^^^^^^^^^^\n",
      "\n",
      "  File \"/home/mindset/miniconda3/envs/drl/lib/python3.11/site-packages/tensorflow/python/autograph/impl/api.py\", line 642, in wrapper\n",
      "    return func(*args, **kwargs)\n",
      "           ^^^^^^^^^^^^^^^^^^^^^\n",
      "\n",
      "  File \"/home/mindset/miniconda3/envs/drl/lib/python3.11/site-packages/tensorflow/python/data/ops/from_generator_op.py\", line 198, in generator_py_func\n",
      "    values = next(generator_state.get_iterator(iterator_id))\n",
      "             ^^^^^^^^^^^^^^^^^^^^^^^^^^^^^^^^^^^^^^^^^^^^^^^\n",
      "\n",
      "  File \"/tmp/ipykernel_12165/887646877.py\", line 7, in generate_samples\n",
      "    action = np.argmax(model(observation), axis=0)\n",
      "                             ^^^^^^^^^^^\n",
      "\n",
      "UnboundLocalError: cannot access local variable 'observation' where it is not associated with a value\n",
      "\n",
      "\n",
      "2023-06-12 15:30:27.121417: I tensorflow/core/common_runtime/executor.cc:1197] [/job:localhost/replica:0/task:0/device:CPU:0] (DEBUG INFO) Executor start aborting (this does not indicate an error and you can ignore this message): UNKNOWN: UnboundLocalError: cannot access local variable 'observation' where it is not associated with a value\n",
      "Traceback (most recent call last):\n",
      "\n",
      "  File \"/home/mindset/miniconda3/envs/drl/lib/python3.11/site-packages/tensorflow/python/ops/script_ops.py\", line 267, in __call__\n",
      "    ret = func(*args)\n",
      "          ^^^^^^^^^^^\n",
      "\n",
      "  File \"/home/mindset/miniconda3/envs/drl/lib/python3.11/site-packages/tensorflow/python/autograph/impl/api.py\", line 642, in wrapper\n",
      "    return func(*args, **kwargs)\n",
      "           ^^^^^^^^^^^^^^^^^^^^^\n",
      "\n",
      "  File \"/home/mindset/miniconda3/envs/drl/lib/python3.11/site-packages/tensorflow/python/data/ops/from_generator_op.py\", line 198, in generator_py_func\n",
      "    values = next(generator_state.get_iterator(iterator_id))\n",
      "             ^^^^^^^^^^^^^^^^^^^^^^^^^^^^^^^^^^^^^^^^^^^^^^^\n",
      "\n",
      "  File \"/tmp/ipykernel_12165/887646877.py\", line 7, in generate_samples\n",
      "    action = np.argmax(model(observation), axis=0)\n",
      "                             ^^^^^^^^^^^\n",
      "\n",
      "UnboundLocalError: cannot access local variable 'observation' where it is not associated with a value\n",
      "\n",
      "\n",
      "\t [[{{node PyFunc}}]]\n"
     ]
    },
    {
     "ename": "UnknownError",
     "evalue": "{{function_node __wrapped__IteratorGetNext_output_types_4_device_/job:localhost/replica:0/task:0/device:CPU:0}} UnboundLocalError: cannot access local variable 'observation' where it is not associated with a value\nTraceback (most recent call last):\n\n  File \"/home/mindset/miniconda3/envs/drl/lib/python3.11/site-packages/tensorflow/python/ops/script_ops.py\", line 267, in __call__\n    ret = func(*args)\n          ^^^^^^^^^^^\n\n  File \"/home/mindset/miniconda3/envs/drl/lib/python3.11/site-packages/tensorflow/python/autograph/impl/api.py\", line 642, in wrapper\n    return func(*args, **kwargs)\n           ^^^^^^^^^^^^^^^^^^^^^\n\n  File \"/home/mindset/miniconda3/envs/drl/lib/python3.11/site-packages/tensorflow/python/data/ops/from_generator_op.py\", line 198, in generator_py_func\n    values = next(generator_state.get_iterator(iterator_id))\n             ^^^^^^^^^^^^^^^^^^^^^^^^^^^^^^^^^^^^^^^^^^^^^^^\n\n  File \"/tmp/ipykernel_12165/887646877.py\", line 7, in generate_samples\n    action = np.argmax(model(observation), axis=0)\n                             ^^^^^^^^^^^\n\nUnboundLocalError: cannot access local variable 'observation' where it is not associated with a value\n\n\n\t [[{{node PyFunc}}]] [Op:IteratorGetNext]",
     "output_type": "error",
     "traceback": [
      "\u001b[0;31m---------------------------------------------------------------------------\u001b[0m",
      "\u001b[0;31mUnknownError\u001b[0m                              Traceback (most recent call last)",
      "Cell \u001b[0;32mIn[6], line 1\u001b[0m\n\u001b[0;32m----> 1\u001b[0m \u001b[39mfor\u001b[39;00m elem \u001b[39min\u001b[39;00m ds:\n\u001b[1;32m      2\u001b[0m     \u001b[39mprint\u001b[39m(elem)\n",
      "File \u001b[0;32m~/miniconda3/envs/drl/lib/python3.11/site-packages/tensorflow/python/data/ops/iterator_ops.py:797\u001b[0m, in \u001b[0;36mOwnedIterator.__next__\u001b[0;34m(self)\u001b[0m\n\u001b[1;32m    795\u001b[0m \u001b[39mdef\u001b[39;00m \u001b[39m__next__\u001b[39m(\u001b[39mself\u001b[39m):\n\u001b[1;32m    796\u001b[0m   \u001b[39mtry\u001b[39;00m:\n\u001b[0;32m--> 797\u001b[0m     \u001b[39mreturn\u001b[39;00m \u001b[39mself\u001b[39;49m\u001b[39m.\u001b[39;49m_next_internal()\n\u001b[1;32m    798\u001b[0m   \u001b[39mexcept\u001b[39;00m errors\u001b[39m.\u001b[39mOutOfRangeError:\n\u001b[1;32m    799\u001b[0m     \u001b[39mraise\u001b[39;00m \u001b[39mStopIteration\u001b[39;00m\n",
      "File \u001b[0;32m~/miniconda3/envs/drl/lib/python3.11/site-packages/tensorflow/python/data/ops/iterator_ops.py:780\u001b[0m, in \u001b[0;36mOwnedIterator._next_internal\u001b[0;34m(self)\u001b[0m\n\u001b[1;32m    777\u001b[0m \u001b[39m# TODO(b/77291417): This runs in sync mode as iterators use an error status\u001b[39;00m\n\u001b[1;32m    778\u001b[0m \u001b[39m# to communicate that there is no more data to iterate over.\u001b[39;00m\n\u001b[1;32m    779\u001b[0m \u001b[39mwith\u001b[39;00m context\u001b[39m.\u001b[39mexecution_mode(context\u001b[39m.\u001b[39mSYNC):\n\u001b[0;32m--> 780\u001b[0m   ret \u001b[39m=\u001b[39m gen_dataset_ops\u001b[39m.\u001b[39;49miterator_get_next(\n\u001b[1;32m    781\u001b[0m       \u001b[39mself\u001b[39;49m\u001b[39m.\u001b[39;49m_iterator_resource,\n\u001b[1;32m    782\u001b[0m       output_types\u001b[39m=\u001b[39;49m\u001b[39mself\u001b[39;49m\u001b[39m.\u001b[39;49m_flat_output_types,\n\u001b[1;32m    783\u001b[0m       output_shapes\u001b[39m=\u001b[39;49m\u001b[39mself\u001b[39;49m\u001b[39m.\u001b[39;49m_flat_output_shapes)\n\u001b[1;32m    785\u001b[0m   \u001b[39mtry\u001b[39;00m:\n\u001b[1;32m    786\u001b[0m     \u001b[39m# Fast path for the case `self._structure` is not a nested structure.\u001b[39;00m\n\u001b[1;32m    787\u001b[0m     \u001b[39mreturn\u001b[39;00m \u001b[39mself\u001b[39m\u001b[39m.\u001b[39m_element_spec\u001b[39m.\u001b[39m_from_compatible_tensor_list(ret)  \u001b[39m# pylint: disable=protected-access\u001b[39;00m\n",
      "File \u001b[0;32m~/miniconda3/envs/drl/lib/python3.11/site-packages/tensorflow/python/ops/gen_dataset_ops.py:3016\u001b[0m, in \u001b[0;36miterator_get_next\u001b[0;34m(iterator, output_types, output_shapes, name)\u001b[0m\n\u001b[1;32m   3014\u001b[0m   \u001b[39mreturn\u001b[39;00m _result\n\u001b[1;32m   3015\u001b[0m \u001b[39mexcept\u001b[39;00m _core\u001b[39m.\u001b[39m_NotOkStatusException \u001b[39mas\u001b[39;00m e:\n\u001b[0;32m-> 3016\u001b[0m   _ops\u001b[39m.\u001b[39;49mraise_from_not_ok_status(e, name)\n\u001b[1;32m   3017\u001b[0m \u001b[39mexcept\u001b[39;00m _core\u001b[39m.\u001b[39m_FallbackException:\n\u001b[1;32m   3018\u001b[0m   \u001b[39mpass\u001b[39;00m\n",
      "File \u001b[0;32m~/miniconda3/envs/drl/lib/python3.11/site-packages/tensorflow/python/framework/ops.py:7262\u001b[0m, in \u001b[0;36mraise_from_not_ok_status\u001b[0;34m(e, name)\u001b[0m\n\u001b[1;32m   7260\u001b[0m \u001b[39mdef\u001b[39;00m \u001b[39mraise_from_not_ok_status\u001b[39m(e, name):\n\u001b[1;32m   7261\u001b[0m   e\u001b[39m.\u001b[39mmessage \u001b[39m+\u001b[39m\u001b[39m=\u001b[39m (\u001b[39m\"\u001b[39m\u001b[39m name: \u001b[39m\u001b[39m\"\u001b[39m \u001b[39m+\u001b[39m name \u001b[39mif\u001b[39;00m name \u001b[39mis\u001b[39;00m \u001b[39mnot\u001b[39;00m \u001b[39mNone\u001b[39;00m \u001b[39melse\u001b[39;00m \u001b[39m\"\u001b[39m\u001b[39m\"\u001b[39m)\n\u001b[0;32m-> 7262\u001b[0m   \u001b[39mraise\u001b[39;00m core\u001b[39m.\u001b[39m_status_to_exception(e) \u001b[39mfrom\u001b[39;00m \u001b[39mNone\u001b[39;00m\n",
      "\u001b[0;31mUnknownError\u001b[0m: {{function_node __wrapped__IteratorGetNext_output_types_4_device_/job:localhost/replica:0/task:0/device:CPU:0}} UnboundLocalError: cannot access local variable 'observation' where it is not associated with a value\nTraceback (most recent call last):\n\n  File \"/home/mindset/miniconda3/envs/drl/lib/python3.11/site-packages/tensorflow/python/ops/script_ops.py\", line 267, in __call__\n    ret = func(*args)\n          ^^^^^^^^^^^\n\n  File \"/home/mindset/miniconda3/envs/drl/lib/python3.11/site-packages/tensorflow/python/autograph/impl/api.py\", line 642, in wrapper\n    return func(*args, **kwargs)\n           ^^^^^^^^^^^^^^^^^^^^^\n\n  File \"/home/mindset/miniconda3/envs/drl/lib/python3.11/site-packages/tensorflow/python/data/ops/from_generator_op.py\", line 198, in generator_py_func\n    values = next(generator_state.get_iterator(iterator_id))\n             ^^^^^^^^^^^^^^^^^^^^^^^^^^^^^^^^^^^^^^^^^^^^^^^\n\n  File \"/tmp/ipykernel_12165/887646877.py\", line 7, in generate_samples\n    action = np.argmax(model(observation), axis=0)\n                             ^^^^^^^^^^^\n\nUnboundLocalError: cannot access local variable 'observation' where it is not associated with a value\n\n\n\t [[{{node PyFunc}}]] [Op:IteratorGetNext]"
     ]
    }
   ],
   "source": [
    "for elem in ds:\n",
    "    print(elem)"
   ]
  },
  {
   "cell_type": "code",
   "execution_count": 5,
   "metadata": {},
   "outputs": [
    {
     "data": {
      "text/plain": [
       "<_FlatMapDataset element_spec=(TensorSpec(shape=(8,), dtype=tf.uint8, name=None), TensorSpec(shape=(), dtype=tf.int32, name=None), TensorSpec(shape=(), dtype=tf.float32, name=None), TensorSpec(shape=(8,), dtype=tf.uint8, name=None))>"
      ]
     },
     "execution_count": 5,
     "metadata": {},
     "output_type": "execute_result"
    }
   ],
   "source": [
    "tf.data.Dataset.sample_from_datasets(datasets, weights=[float(len(data))/float(len(datasets)) for data in datasets], stop_on_empty_dataset=False)"
   ]
  },
  {
   "cell_type": "code",
   "execution_count": null,
   "metadata": {},
   "outputs": [],
   "source": [
    "from collections import deque\n",
    "import numpy as np\n",
    "import random\n",
    "\n",
    "max_steps = 100000\n",
    "N = 10\n",
    "K = 10\n",
    "EPSILON = 0.2\n",
    "MINI_BATCH_SIZE = 10\n",
    "GAMMA = 0.5\n",
    "TAU = 0.9\n",
    "converged = False\n",
    "\n",
    "# Create the replay buffer\n",
    "buffer_size = 10000  # Define the size of the replay buffer\n",
    "buffer = deque(maxlen=buffer_size)\n",
    "\n",
    "observation, info = envs.reset()\n",
    "\n",
    "print(observation.shape)\n",
    "print(model(observation))\n",
    "\n",
    "\n",
    "loss_value = 0\n",
    "\n",
    "\n",
    "while not converged and max_steps > 0:\n",
    "    target_network.set_weights((1 - TAU) * np.array(target_network.get_weights()) + TAU * np.array(model.get_weights())) #polyak averaging\n",
    "    for n in range(N):\n",
    "        \n",
    "        print(f\"n: {n}\", loss_value)\n",
    "\n",
    "\n",
    "        # sample s, a, r, s' and add it to replay buffer\n",
    "        action = np.argmax(model(observation), axis=0)\n",
    "        action = [random.choice(range(4)) if random.random() < EPSILON else a for a in action]\n",
    "        new_observation, reward, terminated, truncated, info = envs.step(action)\n",
    "        if terminated.any() or truncated.any():\n",
    "            observation, info = envs.reset()\n",
    "        # extract individual environments\n",
    "        for j in range(NUM_ENVS):\n",
    "            buffer.append((observation[j], action[j] , reward[j], new_observation[j]))\n",
    "        observation = new_observation\n",
    "\n",
    "\n",
    "\n",
    "        for k in range(K):\n",
    "            # sample minibatch from batch\n",
    "            mini_batch = random.sample(buffer, MINI_BATCH_SIZE if MINI_BATCH_SIZE<=len(buffer) else len(buffer))\n",
    "            mb_observations = []\n",
    "            mb_actions = []\n",
    "            mb_rewards = []\n",
    "            mb_new_observations = []\n",
    "            for o, a, r, no in mini_batch:\n",
    "                mb_observations.append(o)\n",
    "                mb_actions.append(a)\n",
    "                mb_rewards.append(r)\n",
    "                mb_new_observations.append(no)\n",
    "            # Convert lists to numpy arrays or TensorFlow tensors\n",
    "            #print(\"actions\")\n",
    "            #print(mb_actions)\n",
    "            mb_observations = np.array(mb_observations)\n",
    "            mb_actions = np.array(mb_actions)\n",
    "            mb_rewards = np.array(mb_rewards)\n",
    "            mb_new_observations = np.array(mb_new_observations)\n",
    "\n",
    "            #print(\"test\")\n",
    "            #print(mb_observations.shape)\n",
    "            #print(model(mb_observations))\n",
    "            # obtain target Q-values (labels)\n",
    "            target_q_values = GAMMA * np.max(target_network(mb_new_observations), axis=1) + mb_rewards\n",
    "            #print(\"Targets\")\n",
    "            #print(target_q_values)\n",
    "            # Perform forward and backward pass\n",
    "            with tf.GradientTape() as tape:\n",
    "                predictions = model(mb_observations)\n",
    "                #print(\"Predictions\")\n",
    "                #print(predictions)\n",
    "                selected_q_values = tf.gather(predictions, mb_actions, batch_dims=1)\n",
    "                #print(\"Selected\")\n",
    "                #print(selected_q_values)\n",
    "                loss_value = tf.reduce_mean(tf.square(target_q_values - selected_q_values))\n",
    "            gradients = tape.gradient(loss_value, model.trainable_variables)\n",
    "            optimizer.apply_gradients(zip(gradients, model.trainable_variables))\n",
    "            \n",
    "    max_steps -= 1\n",
    "\n",
    "\n",
    "\n",
    "\n",
    "#envs.close()"
   ]
  },
  {
   "cell_type": "code",
   "execution_count": 5,
   "metadata": {},
   "outputs": [
    {
     "data": {
      "text/plain": [
       "<tf.Tensor: shape=(3,), dtype=int32, numpy=array([2, 4, 9], dtype=int32)>"
      ]
     },
     "execution_count": 5,
     "metadata": {},
     "output_type": "execute_result"
    }
   ],
   "source": [
    "tf.gather([[1,2,3],[4,5,6],[7,8,9]], [1,0,2], batch_dims=1)"
   ]
  },
  {
   "cell_type": "code",
   "execution_count": null,
   "metadata": {},
   "outputs": [],
   "source": []
  }
 ],
 "metadata": {
  "kernelspec": {
   "display_name": "Python 3 (ipykernel)",
   "language": "python",
   "name": "python3"
  },
  "language_info": {
   "codemirror_mode": {
    "name": "ipython",
    "version": 3
   },
   "file_extension": ".py",
   "mimetype": "text/x-python",
   "name": "python",
   "nbconvert_exporter": "python",
   "pygments_lexer": "ipython3",
   "version": "3.11.3"
  }
 },
 "nbformat": 4,
 "nbformat_minor": 2
}
