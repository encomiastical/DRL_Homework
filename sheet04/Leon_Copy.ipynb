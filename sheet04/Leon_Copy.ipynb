{
 "cells": [
  {
   "cell_type": "code",
   "execution_count": 1,
   "metadata": {},
   "outputs": [],
   "source": [
    "import os\n",
    "os.environ['TF_CPP_MIN_LOG_LEVEL'] = '3'"
   ]
  },
  {
   "cell_type": "code",
   "execution_count": 2,
   "metadata": {},
   "outputs": [],
   "source": [
    "import gymnasium as gym\n",
    "import tensorflow as tf\n",
    "import numpy as np\n",
    "import random\n"
   ]
  },
  {
   "cell_type": "code",
   "execution_count": 3,
   "metadata": {},
   "outputs": [],
   "source": [
    "class Buffer:\n",
    "    def __init__(self, max_size, NUM_ENVS, observation_preprocessing_function, EPSILON = 0.2,):\n",
    "        self.buffer = []\n",
    "        self.max_size = max_size\n",
    "        self.num_envs = NUM_ENVS\n",
    "        self.envs = envs = gym.vector.make('LunarLander-v2', num_envs=NUM_ENVS)#, render_mode='human')\n",
    "        self.current_state, _ = self.envs.reset()\n",
    "        self.epsilon = 0.2\n",
    "        self.observation_preprocessing_function = observation_preprocessing_function\n",
    "        self.unroll_steps = 5\n",
    "\n",
    "        self.data = []\n",
    "\n",
    "    def fill_with_samples(self, model):\n",
    "        states_list = []\n",
    "        actions_list = []\n",
    "        rewards_list = []\n",
    "        subsequent_states_list = []\n",
    "        termintateds_list = []\n",
    "\n",
    "\n",
    "        for i in range(self.unroll_steps):\n",
    "            observations = self.observation_preprocessing_function(self.current_state) # ???\n",
    "            q_values = model(observations) #get q values for current state\n",
    "            action = np.argmax(q_values, axis=1) #get action that maximizes q-value #potential error?\n",
    "            action = [random.choice(range(4)) if random.random() < self.epsilon else a for a in action] #choose epsilon greedy\n",
    "            new_observation, reward, terminated, truncated, info = self.envs.step(action)\n",
    "\n",
    "            states_list.append(self.current_state)\n",
    "            actions_list.append(action)\n",
    "            rewards_list.append(reward)\n",
    "            subsequent_states_list.append(new_observation)\n",
    "            termintateds_list.append(terminated)\n",
    "\n",
    "            self.current_state = new_observation\n",
    "\n",
    "\n",
    "        def data_generator():\n",
    "            for states_batch, actions_batch, rewards_batch, subsequent_states_batch, terminateds_batch in zip(states_list, actions_list, rewards_list, subsequent_states_list, termintateds_list):\n",
    "                for game in range(self.num_envs):\n",
    "                    state = states_batch[game, :]\n",
    "                    action = actions_batch[game]\n",
    "                    reward = rewards_batch[game]\n",
    "                    subsequent_state = subsequent_states_batch[game, :]\n",
    "                    terminated = terminateds_batch[game]\n",
    "                    yield (state, action, reward, subsequent_state, terminated)\n",
    "\n",
    "\n",
    "        sig = (tf.TensorSpec(shape=(8), dtype = tf.float32), tf.TensorSpec(shape=(), dtype = tf.int32), tf.TensorSpec(shape=(), dtype = tf.float32), tf.TensorSpec(shape=(8), dtype = tf.float32), tf.TensorSpec(shape=(), dtype = tf.bool))\n",
    "        new_samples_dataset = tf.data.Dataset.from_generator(data_generator, output_signature = sig)\n",
    "        #print(new_samples_dataset)\n",
    "        #r = lambda _state, _action, _reward, _nextstate, _terminated: self.observation_preprocessing_function(_state), _action, _reward, self.observation_preprocessing_function(_nextstate), _terminated\n",
    "        #new_samples_dataset = new_samples_dataset.map(r)\n",
    "        #new_samples_dataset = new_samples_dataset.prefetch(buffer_size = self.unroll_steps*self.num_envs).cache().shuffle(buffer_size = self.unroll_steps*self.num_envs, reshuffle_each_iteration=True)\n",
    "        new_samples_dataset = new_samples_dataset.cache().shuffle(buffer_size = self.unroll_steps*self.num_envs, reshuffle_each_iteration=True)\n",
    "\n",
    "\n",
    "        for elem in new_samples_dataset:\n",
    "            continue\n",
    "\n",
    "        self.data.append(new_samples_dataset)\n",
    "\n",
    "        datapoints_in_data = len(self.data)*self.unroll_steps*self.num_envs\n",
    "        if datapoints_in_data > self.max_size:\n",
    "            self.data.pop(0)\n",
    "\n",
    "    def create_dataset(self):\n",
    "        erp_dataset = tf.data.Dataset.sample_from_datasets(self.data, stop_on_empty_dataset=False)\n",
    "        #if erp_dataset.cardinality().numpy() < 2:\n",
    "            # Add another sample from the datasets\n",
    "        #    additional_sample = tf.data.Dataset.sample_from_datasets(self.data, stop_on_empty_dataset=False)\n",
    "        #    erp_dataset = erp_dataset.concatenate(additional_sample)\n",
    "\n",
    "        return erp_dataset\n",
    "        "
   ]
  },
  {
   "cell_type": "code",
   "execution_count": 4,
   "metadata": {},
   "outputs": [],
   "source": [
    "def observation_preprocessing_function(observation):\n",
    "    return observation"
   ]
  },
  {
   "cell_type": "code",
   "execution_count": 5,
   "metadata": {},
   "outputs": [],
   "source": [
    "def create_model():\n",
    "    inputs = tf.keras.Input(shape=(8,))\n",
    "    x = tf.keras.layers.Dense(32, activation=\"relu\")(inputs)\n",
    "    x = tf.keras.layers.Dense(32, activation=\"relu\")(x)\n",
    "    outputs = tf.keras.layers.Dense(4, activation=\"relu\")(x)\n",
    "    model = tf.keras.Model(inputs=inputs, outputs=outputs, name=\"LunarLander\")\n",
    "    return model"
   ]
  },
  {
   "cell_type": "code",
   "execution_count": 6,
   "metadata": {},
   "outputs": [],
   "source": [
    "def train_dqn(train_dqn_network, target_dqn, dataset_, optimizer, num_training_steps, gamma):\n",
    "    def training_step(q_target, observations, actions):\n",
    "        with tf.GradientTape() as tape:\n",
    "            predictions = train_dqn_network(observations)\n",
    "            #print(predictions)\n",
    "            selected_q_values = tf.gather(predictions, actions, batch_dims=1)\n",
    "            loss_value = tf.reduce_mean(tf.square(q_target - selected_q_values))\n",
    "        gradients = tape.gradient(loss_value, train_dqn_network.trainable_variables)\n",
    "        optimizer.apply_gradients(zip(gradients, train_dqn_network.trainable_variables))\n",
    "        return loss_value.numpy()\n",
    "    \n",
    "\n",
    "    losses = []\n",
    "    q_values = []\n",
    "    #print(\"dataset in train function:\", dataset_)\n",
    "    for i, state_transition in enumerate(dataset_):\n",
    "        state, action, reward, subsequent_state, terminated = state_transition\n",
    "        #print(tf.expand_dims(subsequent_state, 0))\n",
    "        q_vals = target_dqn(tf.expand_dims(subsequent_state, 0))\n",
    "        q_values.append(q_vals.numpy())\n",
    "        max_q_values = tf.reduce_max(q_vals, axis = 1)\n",
    "        use_subsequent_state = tf.where(terminated, tf.zeros_like(max_q_values, dtype=tf.float32), tf.ones_like(max_q_values, dtype=tf.float32))\n",
    "        q_target = reward + (gamma*max_q_values*use_subsequent_state)\n",
    "        loss = training_step(q_target, tf.expand_dims(state, 0), tf.expand_dims(action,0))\n",
    "        losses.append(loss)\n",
    "        if i>=num_training_steps:\n",
    "            break\n",
    "    return np.mean(losses), np.mean(q_values)"
   ]
  },
  {
   "cell_type": "code",
   "execution_count": 7,
   "metadata": {},
   "outputs": [],
   "source": [
    "def polyak_averaging_weights(source_network, target_network, polyak_averaging_factor):\n",
    "    source_network_weights = source_network.get_weights()\n",
    "    target_network_weights = target_network.get_weights()\n",
    "    averaged_weights = []\n",
    "    for source_network_weight, target_network_weight in zip(source_network_weights, target_network_weights):\n",
    "        fraction_kept_weights = polyak_averaging_factor * target_network_weight\n",
    "        fraction_updated_weights = (1-polyak_averaging_factor) * source_network_weight\n",
    "        average_weight = fraction_kept_weights * fraction_updated_weights\n",
    "        averaged_weights.append(average_weight)\n",
    "    target_network.set_weights(averaged_weights)\n",
    "    "
   ]
  },
  {
   "cell_type": "code",
   "execution_count": 8,
   "metadata": {},
   "outputs": [],
   "source": [
    "def dqn():\n",
    "    BUFFER_MAX_SIZE = 100000\n",
    "    NUM_ENVS = 5\n",
    "    K_STEPS_PER_ITER = 4\n",
    "    NUM_TRAINING_ITERS = 10000\n",
    "    TEST_EVERY_N_STEPS = 100\n",
    "    POLYAK_AVERAGING_FACTOR = 0.02\n",
    "    \n",
    "    erp = Buffer(BUFFER_MAX_SIZE, NUM_ENVS, observation_preprocessing_function)\n",
    "    dqn_agent = create_model()\n",
    "    target_network = create_model()\n",
    "    dqn_agent(tf.random.uniform(shape=(1,8))) #??\n",
    "\n",
    "    \n",
    "    dqn_optimizer = tf.keras.optimizers.Adam(learning_rate = 0.001)\n",
    "    GAMMA = 0.98\n",
    "\n",
    "\n",
    "    return_tracker = []\n",
    "    dqn_prediction_error = []\n",
    "    average_q_values = []\n",
    "\n",
    "    for step in range(NUM_TRAINING_ITERS):\n",
    "        erp.fill_with_samples(dqn_agent)\n",
    "        dataset = erp.create_dataset()\n",
    "        #print(\"dataset\", dataset)\n",
    "        avg_loss, avg_q_vals = train_dqn(dqn_agent, target_network, dataset, dqn_optimizer, K_STEPS_PER_ITER, GAMMA)\n",
    "        polyak_averaging_weights(dqn_agent, target_network, POLYAK_AVERAGING_FACTOR)\n",
    "\n",
    "        if step % TEST_EVERY_N_STEPS == 0:\n",
    "            #dqn_prediciton_error.append(avg_loss)\n",
    "            #average_q_values.append(avg_q_vals)\n",
    "            print(\"avg_loss\", avg_loss)\n",
    "            print(\"avg_q_vals\", avg_q_vals)\n"
   ]
  },
  {
   "cell_type": "code",
   "execution_count": 9,
   "metadata": {},
   "outputs": [
    {
     "name": "stdout",
     "output_type": "stream",
     "text": [
      "avg_loss 4.158622\n",
      "avg_q_vals 0.1865729\n",
      "avg_loss 8.293436\n",
      "avg_q_vals 0.0\n",
      "avg_loss 5.7291045\n",
      "avg_q_vals 0.0\n",
      "avg_loss 5.6686063\n",
      "avg_q_vals 0.0\n"
     ]
    }
   ],
   "source": [
    "dqn()"
   ]
  },
  {
   "cell_type": "code",
   "execution_count": null,
   "metadata": {},
   "outputs": [],
   "source": []
  }
 ],
 "metadata": {
  "kernelspec": {
   "display_name": "Python 3 (ipykernel)",
   "language": "python",
   "name": "python3"
  },
  "language_info": {
   "codemirror_mode": {
    "name": "ipython",
    "version": 3
   },
   "file_extension": ".py",
   "mimetype": "text/x-python",
   "name": "python",
   "nbconvert_exporter": "python",
   "pygments_lexer": "ipython3",
   "version": "3.11.3"
  }
 },
 "nbformat": 4,
 "nbformat_minor": 2
}
