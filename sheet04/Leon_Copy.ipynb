{
 "cells": [
  {
   "cell_type": "code",
   "execution_count": 1,
   "metadata": {},
   "outputs": [],
   "source": [
    "import os\n",
    "os.environ['TF_CPP_MIN_LOG_LEVEL'] = '3'"
   ]
  },
  {
   "cell_type": "code",
   "execution_count": 2,
   "metadata": {},
   "outputs": [],
   "source": [
    "import gymnasium as gym\n",
    "import tensorflow as tf\n",
    "import numpy as np\n",
    "import random\n"
   ]
  },
  {
   "cell_type": "code",
   "execution_count": 3,
   "metadata": {},
   "outputs": [],
   "source": [
    "class Buffer:\n",
    "    def __init__(self, max_size, NUM_ENVS, observation_preprocessing_function, EPSILON = 0.2,):\n",
    "        self.buffer = []\n",
    "        self.max_size = max_size\n",
    "        self.num_envs = NUM_ENVS\n",
    "        self.envs = envs = gym.vector.make('LunarLander-v2', num_envs=NUM_ENVS)#, render_mode='human')\n",
    "        self.current_state, _ = self.envs.reset()\n",
    "        self.epsilon = 0.2\n",
    "        self.observation_preprocessing_function = observation_preprocessing_function\n",
    "        self.unroll_steps = 5\n",
    "\n",
    "        self.data = []\n",
    "\n",
    "    def fill_with_samples(self, model):\n",
    "        states_list = []\n",
    "        actions_list = []\n",
    "        rewards_list = []\n",
    "        subsequent_states_list = []\n",
    "        termintateds_list = []\n",
    "\n",
    "\n",
    "        for i in range(self.unroll_steps):\n",
    "            observations = self.observation_preprocessing_function(self.current_state) # ???\n",
    "            q_values = model(observations) #get q values for current state\n",
    "            action = np.argmax(q_values, axis=1) #get action that maximizes q-value #potential error?\n",
    "            action = [random.choice(range(4)) if random.random() < self.epsilon else a for a in action] #choose epsilon greedy\n",
    "            new_observation, reward, terminated, truncated, info = self.envs.step(action)\n",
    "\n",
    "            states_list.append(self.current_state)\n",
    "            actions_list.append(action)\n",
    "            rewards_list.append(reward)\n",
    "            subsequent_states_list.append(new_observation)\n",
    "            termintateds_list.append(terminated)\n",
    "\n",
    "            self.current_state = new_observation\n",
    "\n",
    "\n",
    "        def data_generator():\n",
    "            for states_batch, actions_batch, rewards_batch, subsequent_states_batch, terminateds_batch in zip(states_list, actions_list, rewards_list, subsequent_states_list, termintateds_list):\n",
    "                for game in range(self.num_envs):\n",
    "                    state = states_batch[game, :]\n",
    "                    action = actions_batch[game]\n",
    "                    reward = rewards_batch[game]\n",
    "                    subsequent_state = subsequent_states_batch[game, :]\n",
    "                    terminated = terminateds_batch[game]\n",
    "                    yield (state, action, reward, subsequent_state, terminated)\n",
    "\n",
    "\n",
    "        sig = (tf.TensorSpec(shape=(8), dtype = tf.float32), tf.TensorSpec(shape=(), dtype = tf.int32), tf.TensorSpec(shape=(), dtype = tf.float32), tf.TensorSpec(shape=(8), dtype = tf.float32), tf.TensorSpec(shape=(), dtype = tf.bool))\n",
    "        new_samples_dataset = tf.data.Dataset.from_generator(data_generator, output_signature = sig)\n",
    "        #print(new_samples_dataset)\n",
    "        #r = lambda _state, _action, _reward, _nextstate, _terminated: self.observation_preprocessing_function(_state), _action, _reward, self.observation_preprocessing_function(_nextstate), _terminated\n",
    "        #new_samples_dataset = new_samples_dataset.map(r)\n",
    "        #new_samples_dataset = new_samples_dataset.prefetch(buffer_size = self.unroll_steps*self.num_envs).cache().shuffle(buffer_size = self.unroll_steps*self.num_envs, reshuffle_each_iteration=True)\n",
    "        new_samples_dataset = new_samples_dataset.cache().shuffle(buffer_size = self.unroll_steps*self.num_envs, reshuffle_each_iteration=True)\n",
    "\n",
    "\n",
    "        for elem in new_samples_dataset:\n",
    "            continue\n",
    "\n",
    "        self.data.append(new_samples_dataset)\n",
    "\n",
    "        datapoints_in_data = len(self.data)*self.unroll_steps*self.num_envs\n",
    "        if datapoints_in_data > self.max_size:\n",
    "            self.data.pop(0)\n",
    "\n",
    "    def create_dataset(self):\n",
    "        erp_dataset = tf.data.Dataset.sample_from_datasets(self.data, stop_on_empty_dataset=False)\n",
    "        #if erp_dataset.cardinality().numpy() < 2:\n",
    "            # Add another sample from the datasets\n",
    "        #    additional_sample = tf.data.Dataset.sample_from_datasets(self.data, stop_on_empty_dataset=False)\n",
    "        #    erp_dataset = erp_dataset.concatenate(additional_sample)\n",
    "\n",
    "        return erp_dataset\n",
    "        "
   ]
  },
  {
   "cell_type": "code",
   "execution_count": 4,
   "metadata": {},
   "outputs": [],
   "source": [
    "def observation_preprocessing_function(observation):\n",
    "    return observation"
   ]
  },
  {
   "cell_type": "code",
   "execution_count": 5,
   "metadata": {},
   "outputs": [],
   "source": [
    "def create_model():\n",
    "    inputs = tf.keras.Input(shape=(8,))\n",
    "    x = tf.keras.layers.Dense(100, activation=\"relu\")(inputs)\n",
    "    x = tf.keras.layers.Dense(50, activation=\"relu\")(x)\n",
    "    x = tf.keras.layers.Dense(32, activation=\"relu\")(x)\n",
    "    outputs = tf.keras.layers.Dense(4, activation=\"relu\")(x)\n",
    "    model = tf.keras.Model(inputs=inputs, outputs=outputs, name=\"LunarLander\")\n",
    "    return model"
   ]
  },
  {
   "cell_type": "code",
   "execution_count": 6,
   "metadata": {},
   "outputs": [],
   "source": [
    "def train_dqn(train_dqn_network, target_dqn, dataset_, optimizer, num_training_steps, gamma):\n",
    "    def training_step(q_target, observations, actions):\n",
    "        with tf.GradientTape() as tape:\n",
    "            predictions = train_dqn_network(observations)\n",
    "            #print(predictions)\n",
    "            selected_q_values = tf.gather(predictions, actions, batch_dims=1)\n",
    "            loss_value = tf.reduce_mean(tf.square(q_target - selected_q_values))\n",
    "        gradients = tape.gradient(loss_value, train_dqn_network.trainable_variables)\n",
    "        optimizer.apply_gradients(zip(gradients, train_dqn_network.trainable_variables))\n",
    "        return loss_value.numpy()\n",
    "    \n",
    "\n",
    "    losses = []\n",
    "    q_values = []\n",
    "    #print(\"dataset in train function:\", dataset_)\n",
    "    for i, state_transition in enumerate(dataset_):\n",
    "        state, action, reward, subsequent_state, terminated = state_transition\n",
    "        #print(tf.expand_dims(subsequent_state, 0))\n",
    "        q_vals = target_dqn(tf.expand_dims(subsequent_state, 0))\n",
    "        q_values.append(q_vals.numpy())\n",
    "        max_q_values = tf.reduce_max(q_vals, axis = 1)\n",
    "        use_subsequent_state = tf.where(terminated, tf.zeros_like(max_q_values, dtype=tf.float32), tf.ones_like(max_q_values, dtype=tf.float32))\n",
    "        q_target = reward + (gamma*max_q_values*use_subsequent_state)\n",
    "        loss = training_step(q_target, tf.expand_dims(state, 0), tf.expand_dims(action,0))\n",
    "        losses.append(loss)\n",
    "        if i>=num_training_steps:\n",
    "            break\n",
    "    return np.mean(losses), np.mean(q_values)"
   ]
  },
  {
   "cell_type": "code",
   "execution_count": 7,
   "metadata": {},
   "outputs": [],
   "source": [
    "def polyak_averaging_weights(source_network, target_network, polyak_averaging_factor):\n",
    "    source_network_weights = source_network.get_weights()\n",
    "    target_network_weights = target_network.get_weights()\n",
    "    averaged_weights = []\n",
    "    for source_network_weight, target_network_weight in zip(source_network_weights, target_network_weights):\n",
    "        fraction_kept_weights = polyak_averaging_factor * target_network_weight\n",
    "        fraction_updated_weights = (1-polyak_averaging_factor) * source_network_weight\n",
    "        average_weight = fraction_kept_weights * fraction_updated_weights\n",
    "        averaged_weights.append(average_weight)\n",
    "    target_network.set_weights(averaged_weights)\n",
    "    "
   ]
  },
  {
   "cell_type": "code",
   "execution_count": 8,
   "metadata": {},
   "outputs": [],
   "source": [
    "def dqn():\n",
    "    BUFFER_MAX_SIZE = 100000\n",
    "    NUM_ENVS = 5\n",
    "    K_STEPS_PER_ITER = 4\n",
    "    NUM_TRAINING_ITERS = 4000\n",
    "    TEST_EVERY_N_STEPS = 100\n",
    "    POLYAK_AVERAGING_FACTOR = 0.02\n",
    "    \n",
    "    erp = Buffer(BUFFER_MAX_SIZE, NUM_ENVS, observation_preprocessing_function)\n",
    "    dqn_agent = create_model()\n",
    "    target_network = create_model()\n",
    "    dqn_agent(tf.random.uniform(shape=(1,8))) #??\n",
    "\n",
    "    \n",
    "    dqn_optimizer = tf.keras.optimizers.Adam(learning_rate = 0.001)\n",
    "    GAMMA = 0.98\n",
    "\n",
    "\n",
    "    return_tracker = []\n",
    "    dqn_prediction_error = []\n",
    "    average_q_values = []\n",
    "\n",
    "    for step in range(NUM_TRAINING_ITERS):\n",
    "        erp.fill_with_samples(dqn_agent)\n",
    "        dataset = erp.create_dataset()\n",
    "        #print(\"dataset\", dataset)\n",
    "        avg_loss, avg_q_vals = train_dqn(dqn_agent, target_network, dataset, dqn_optimizer, K_STEPS_PER_ITER, GAMMA)\n",
    "        polyak_averaging_weights(dqn_agent, target_network, POLYAK_AVERAGING_FACTOR)\n",
    "\n",
    "        if step % TEST_EVERY_N_STEPS == 0:\n",
    "            #dqn_prediciton_error.append(avg_loss)\n",
    "            #average_q_values.append(avg_q_vals)\n",
    "            #print(\"avg_loss\", avg_loss)\n",
    "            #print(\"avg_q_vals\", avg_q_vals)\n",
    "            print(step)\n",
    "            dqn_agent.save('some_other_model')\n",
    "    return dqn_agent\n"
   ]
  },
  {
   "cell_type": "code",
   "execution_count": 9,
   "metadata": {},
   "outputs": [
    {
     "name": "stdout",
     "output_type": "stream",
     "text": [
      "0\n",
      "WARNING:tensorflow:Compiled the loaded model, but the compiled metrics have yet to be built. `model.compile_metrics` will be empty until you train or evaluate the model.\n",
      "INFO:tensorflow:Assets written to: some_other_model/assets\n",
      "100\n",
      "WARNING:tensorflow:Compiled the loaded model, but the compiled metrics have yet to be built. `model.compile_metrics` will be empty until you train or evaluate the model.\n",
      "INFO:tensorflow:Assets written to: some_other_model/assets\n",
      "200\n",
      "WARNING:tensorflow:Compiled the loaded model, but the compiled metrics have yet to be built. `model.compile_metrics` will be empty until you train or evaluate the model.\n",
      "INFO:tensorflow:Assets written to: some_other_model/assets\n",
      "300\n",
      "WARNING:tensorflow:Compiled the loaded model, but the compiled metrics have yet to be built. `model.compile_metrics` will be empty until you train or evaluate the model.\n",
      "INFO:tensorflow:Assets written to: some_other_model/assets\n",
      "400\n",
      "WARNING:tensorflow:Compiled the loaded model, but the compiled metrics have yet to be built. `model.compile_metrics` will be empty until you train or evaluate the model.\n",
      "INFO:tensorflow:Assets written to: some_other_model/assets\n",
      "500\n",
      "WARNING:tensorflow:Compiled the loaded model, but the compiled metrics have yet to be built. `model.compile_metrics` will be empty until you train or evaluate the model.\n",
      "INFO:tensorflow:Assets written to: some_other_model/assets\n",
      "600\n",
      "WARNING:tensorflow:Compiled the loaded model, but the compiled metrics have yet to be built. `model.compile_metrics` will be empty until you train or evaluate the model.\n",
      "INFO:tensorflow:Assets written to: some_other_model/assets\n",
      "700\n",
      "WARNING:tensorflow:Compiled the loaded model, but the compiled metrics have yet to be built. `model.compile_metrics` will be empty until you train or evaluate the model.\n",
      "INFO:tensorflow:Assets written to: some_other_model/assets\n",
      "800\n",
      "WARNING:tensorflow:Compiled the loaded model, but the compiled metrics have yet to be built. `model.compile_metrics` will be empty until you train or evaluate the model.\n",
      "INFO:tensorflow:Assets written to: some_other_model/assets\n",
      "900\n",
      "WARNING:tensorflow:Compiled the loaded model, but the compiled metrics have yet to be built. `model.compile_metrics` will be empty until you train or evaluate the model.\n",
      "INFO:tensorflow:Assets written to: some_other_model/assets\n",
      "1000\n",
      "WARNING:tensorflow:Compiled the loaded model, but the compiled metrics have yet to be built. `model.compile_metrics` will be empty until you train or evaluate the model.\n",
      "INFO:tensorflow:Assets written to: some_other_model/assets\n",
      "1100\n",
      "WARNING:tensorflow:Compiled the loaded model, but the compiled metrics have yet to be built. `model.compile_metrics` will be empty until you train or evaluate the model.\n",
      "INFO:tensorflow:Assets written to: some_other_model/assets\n",
      "1200\n",
      "WARNING:tensorflow:Compiled the loaded model, but the compiled metrics have yet to be built. `model.compile_metrics` will be empty until you train or evaluate the model.\n",
      "INFO:tensorflow:Assets written to: some_other_model/assets\n",
      "1300\n",
      "WARNING:tensorflow:Compiled the loaded model, but the compiled metrics have yet to be built. `model.compile_metrics` will be empty until you train or evaluate the model.\n",
      "INFO:tensorflow:Assets written to: some_other_model/assets\n",
      "1400\n",
      "WARNING:tensorflow:Compiled the loaded model, but the compiled metrics have yet to be built. `model.compile_metrics` will be empty until you train or evaluate the model.\n",
      "INFO:tensorflow:Assets written to: some_other_model/assets\n"
     ]
    },
    {
     "ename": "KeyboardInterrupt",
     "evalue": "",
     "output_type": "error",
     "traceback": [
      "\u001b[0;31m---------------------------------------------------------------------------\u001b[0m",
      "\u001b[0;31mKeyboardInterrupt\u001b[0m                         Traceback (most recent call last)",
      "Cell \u001b[0;32mIn[9], line 1\u001b[0m\n\u001b[0;32m----> 1\u001b[0m Q_theta \u001b[39m=\u001b[39m dqn()\n",
      "Cell \u001b[0;32mIn[8], line 27\u001b[0m, in \u001b[0;36mdqn\u001b[0;34m()\u001b[0m\n\u001b[1;32m     25\u001b[0m dataset \u001b[39m=\u001b[39m erp\u001b[39m.\u001b[39mcreate_dataset()\n\u001b[1;32m     26\u001b[0m \u001b[39m#print(\"dataset\", dataset)\u001b[39;00m\n\u001b[0;32m---> 27\u001b[0m avg_loss, avg_q_vals \u001b[39m=\u001b[39m train_dqn(dqn_agent, target_network, dataset, dqn_optimizer, K_STEPS_PER_ITER, GAMMA)\n\u001b[1;32m     28\u001b[0m polyak_averaging_weights(dqn_agent, target_network, POLYAK_AVERAGING_FACTOR)\n\u001b[1;32m     30\u001b[0m \u001b[39mif\u001b[39;00m step \u001b[39m%\u001b[39m TEST_EVERY_N_STEPS \u001b[39m==\u001b[39m \u001b[39m0\u001b[39m:\n\u001b[1;32m     31\u001b[0m     \u001b[39m#dqn_prediciton_error.append(avg_loss)\u001b[39;00m\n\u001b[1;32m     32\u001b[0m     \u001b[39m#average_q_values.append(avg_q_vals)\u001b[39;00m\n\u001b[1;32m     33\u001b[0m     \u001b[39m#print(\"avg_loss\", avg_loss)\u001b[39;00m\n\u001b[1;32m     34\u001b[0m     \u001b[39m#print(\"avg_q_vals\", avg_q_vals)\u001b[39;00m\n",
      "Cell \u001b[0;32mIn[6], line 16\u001b[0m, in \u001b[0;36mtrain_dqn\u001b[0;34m(train_dqn_network, target_dqn, dataset_, optimizer, num_training_steps, gamma)\u001b[0m\n\u001b[1;32m     14\u001b[0m q_values \u001b[39m=\u001b[39m []\n\u001b[1;32m     15\u001b[0m \u001b[39m#print(\"dataset in train function:\", dataset_)\u001b[39;00m\n\u001b[0;32m---> 16\u001b[0m \u001b[39mfor\u001b[39;00m i, state_transition \u001b[39min\u001b[39;00m \u001b[39menumerate\u001b[39m(dataset_):\n\u001b[1;32m     17\u001b[0m     state, action, reward, subsequent_state, terminated \u001b[39m=\u001b[39m state_transition\n\u001b[1;32m     18\u001b[0m     \u001b[39m#print(tf.expand_dims(subsequent_state, 0))\u001b[39;00m\n",
      "File \u001b[0;32m~/miniconda3/envs/drl/lib/python3.11/site-packages/tensorflow/python/data/ops/dataset_ops.py:505\u001b[0m, in \u001b[0;36mDatasetV2.__iter__\u001b[0;34m(self)\u001b[0m\n\u001b[1;32m    503\u001b[0m \u001b[39mif\u001b[39;00m context\u001b[39m.\u001b[39mexecuting_eagerly() \u001b[39mor\u001b[39;00m ops\u001b[39m.\u001b[39minside_function():\n\u001b[1;32m    504\u001b[0m   \u001b[39mwith\u001b[39;00m ops\u001b[39m.\u001b[39mcolocate_with(\u001b[39mself\u001b[39m\u001b[39m.\u001b[39m_variant_tensor):\n\u001b[0;32m--> 505\u001b[0m     \u001b[39mreturn\u001b[39;00m iterator_ops\u001b[39m.\u001b[39;49mOwnedIterator(\u001b[39mself\u001b[39;49m)\n\u001b[1;32m    506\u001b[0m \u001b[39melse\u001b[39;00m:\n\u001b[1;32m    507\u001b[0m   \u001b[39mraise\u001b[39;00m \u001b[39mRuntimeError\u001b[39;00m(\u001b[39m\"\u001b[39m\u001b[39m`tf.data.Dataset` only supports Python-style \u001b[39m\u001b[39m\"\u001b[39m\n\u001b[1;32m    508\u001b[0m                      \u001b[39m\"\u001b[39m\u001b[39miteration in eager mode or within tf.function.\u001b[39m\u001b[39m\"\u001b[39m)\n",
      "File \u001b[0;32m~/miniconda3/envs/drl/lib/python3.11/site-packages/tensorflow/python/data/ops/iterator_ops.py:713\u001b[0m, in \u001b[0;36mOwnedIterator.__init__\u001b[0;34m(self, dataset, components, element_spec)\u001b[0m\n\u001b[1;32m    709\u001b[0m   \u001b[39mif\u001b[39;00m (components \u001b[39mis\u001b[39;00m \u001b[39mnot\u001b[39;00m \u001b[39mNone\u001b[39;00m \u001b[39mor\u001b[39;00m element_spec \u001b[39mis\u001b[39;00m \u001b[39mnot\u001b[39;00m \u001b[39mNone\u001b[39;00m):\n\u001b[1;32m    710\u001b[0m     \u001b[39mraise\u001b[39;00m \u001b[39mValueError\u001b[39;00m(\n\u001b[1;32m    711\u001b[0m         \u001b[39m\"\u001b[39m\u001b[39mWhen `dataset` is provided, `element_spec` and `components` must \u001b[39m\u001b[39m\"\u001b[39m\n\u001b[1;32m    712\u001b[0m         \u001b[39m\"\u001b[39m\u001b[39mnot be specified.\u001b[39m\u001b[39m\"\u001b[39m)\n\u001b[0;32m--> 713\u001b[0m   \u001b[39mself\u001b[39;49m\u001b[39m.\u001b[39;49m_create_iterator(dataset)\n\u001b[1;32m    715\u001b[0m \u001b[39mself\u001b[39m\u001b[39m.\u001b[39m_get_next_call_count \u001b[39m=\u001b[39m \u001b[39m0\u001b[39m\n",
      "File \u001b[0;32m~/miniconda3/envs/drl/lib/python3.11/site-packages/tensorflow/python/data/ops/iterator_ops.py:752\u001b[0m, in \u001b[0;36mOwnedIterator._create_iterator\u001b[0;34m(self, dataset)\u001b[0m\n\u001b[1;32m    749\u001b[0m   \u001b[39massert\u001b[39;00m \u001b[39mlen\u001b[39m(fulltype\u001b[39m.\u001b[39margs[\u001b[39m0\u001b[39m]\u001b[39m.\u001b[39margs[\u001b[39m0\u001b[39m]\u001b[39m.\u001b[39margs) \u001b[39m==\u001b[39m \u001b[39mlen\u001b[39m(\n\u001b[1;32m    750\u001b[0m       \u001b[39mself\u001b[39m\u001b[39m.\u001b[39m_flat_output_types)\n\u001b[1;32m    751\u001b[0m   \u001b[39mself\u001b[39m\u001b[39m.\u001b[39m_iterator_resource\u001b[39m.\u001b[39mop\u001b[39m.\u001b[39mexperimental_set_type(fulltype)\n\u001b[0;32m--> 752\u001b[0m gen_dataset_ops\u001b[39m.\u001b[39;49mmake_iterator(ds_variant, \u001b[39mself\u001b[39;49m\u001b[39m.\u001b[39;49m_iterator_resource)\n",
      "File \u001b[0;32m~/miniconda3/envs/drl/lib/python3.11/site-packages/tensorflow/python/ops/gen_dataset_ops.py:3408\u001b[0m, in \u001b[0;36mmake_iterator\u001b[0;34m(dataset, iterator, name)\u001b[0m\n\u001b[1;32m   3406\u001b[0m \u001b[39mif\u001b[39;00m tld\u001b[39m.\u001b[39mis_eager:\n\u001b[1;32m   3407\u001b[0m   \u001b[39mtry\u001b[39;00m:\n\u001b[0;32m-> 3408\u001b[0m     _result \u001b[39m=\u001b[39m pywrap_tfe\u001b[39m.\u001b[39;49mTFE_Py_FastPathExecute(\n\u001b[1;32m   3409\u001b[0m       _ctx, \u001b[39m\"\u001b[39;49m\u001b[39mMakeIterator\u001b[39;49m\u001b[39m\"\u001b[39;49m, name, dataset, iterator)\n\u001b[1;32m   3410\u001b[0m     \u001b[39mreturn\u001b[39;00m _result\n\u001b[1;32m   3411\u001b[0m   \u001b[39mexcept\u001b[39;00m _core\u001b[39m.\u001b[39m_NotOkStatusException \u001b[39mas\u001b[39;00m e:\n",
      "\u001b[0;31mKeyboardInterrupt\u001b[0m: "
     ]
    }
   ],
   "source": [
    "Q_theta = dqn() #this just learns zeros"
   ]
  },
  {
   "cell_type": "code",
   "execution_count": 4,
   "metadata": {},
   "outputs": [
    {
     "name": "stdout",
     "output_type": "stream",
     "text": [
      "WARNING:tensorflow:No training configuration found in save file, so the model was *not* compiled. Compile it manually.\n"
     ]
    }
   ],
   "source": [
    "Q_theta = tf.keras.models.load_model(\"not_working_model\")"
   ]
  },
  {
   "cell_type": "code",
   "execution_count": 5,
   "metadata": {},
   "outputs": [],
   "source": [
    "test_env = gym.make('LunarLander-v2', render_mode='human')\n",
    "obs, inf = test_env.reset()"
   ]
  },
  {
   "cell_type": "code",
   "execution_count": 7,
   "metadata": {},
   "outputs": [
    {
     "name": "stdout",
     "output_type": "stream",
     "text": [
      "tf.Tensor([[0. 0. 0. 0.]], shape=(1, 4), dtype=float32)\n"
     ]
    },
    {
     "ename": "",
     "evalue": "",
     "output_type": "error",
     "traceback": [
      "\u001b[1;31mThe Kernel crashed while executing code in the the current cell or a previous cell. Please review the code in the cell(s) to identify a possible cause of the failure. Click <a href='https://aka.ms/vscodeJupyterKernelCrash'>here</a> for more info. View Jupyter <a href='command:jupyter.viewOutput'>log</a> for further details."
     ]
    }
   ],
   "source": [
    "for i in range(1):\n",
    "    qs = Q_theta(tf.expand_dims(obs, 0))\n",
    "    print(qs)\n",
    "    act = np.argmax(qs)\n",
    "    obs, _, terminated, _, _ = test_env.step(act)\n",
    "    if(terminated):\n",
    "        obs, _ = test_env.reset()"
   ]
  },
  {
   "cell_type": "code",
   "execution_count": null,
   "metadata": {},
   "outputs": [],
   "source": []
  }
 ],
 "metadata": {
  "kernelspec": {
   "display_name": "Python 3 (ipykernel)",
   "language": "python",
   "name": "python3"
  },
  "language_info": {
   "codemirror_mode": {
    "name": "ipython",
    "version": 3
   },
   "file_extension": ".py",
   "mimetype": "text/x-python",
   "name": "python",
   "nbconvert_exporter": "python",
   "pygments_lexer": "ipython3",
   "version": "3.11.3"
  }
 },
 "nbformat": 4,
 "nbformat_minor": 2
}
