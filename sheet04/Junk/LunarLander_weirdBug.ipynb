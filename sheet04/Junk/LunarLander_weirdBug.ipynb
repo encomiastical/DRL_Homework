{
 "cells": [
  {
   "cell_type": "code",
   "execution_count": 1,
   "metadata": {},
   "outputs": [],
   "source": [
    "import gymnasium as gym\n",
    "#envs = gym.vector.make('LunarLander-v2', num_envs=NUM_ENVS)#, render_mode='human')\n",
    "#envs = gym.vector.make('LunarLander-v2', num_envs=NUM_ENVS, render_mode='human')\n"
   ]
  },
  {
   "cell_type": "code",
   "execution_count": 2,
   "metadata": {},
   "outputs": [
    {
     "name": "stderr",
     "output_type": "stream",
     "text": [
      "2023-06-14 11:42:06.949829: I tensorflow/core/platform/cpu_feature_guard.cc:182] This TensorFlow binary is optimized to use available CPU instructions in performance-critical operations.\n",
      "To enable the following instructions: SSE4.1 SSE4.2 AVX AVX2 FMA, in other operations, rebuild TensorFlow with the appropriate compiler flags.\n",
      "2023-06-14 11:42:08.507802: I tensorflow/core/common_runtime/process_util.cc:146] Creating new thread pool with default inter op setting: 2. Tune using inter_op_parallelism_threads for best performance.\n"
     ]
    }
   ],
   "source": [
    "import tensorflow as tf\n",
    "import numpy as np\n",
    "import random\n",
    "\n",
    "# Define the CNN model\n",
    "def create_model():\n",
    "    inputs = tf.keras.Input(shape=(8,))\n",
    "    x = tf.keras.layers.Dense(32, activation=\"relu\")(inputs)\n",
    "    x = tf.keras.layers.Dense(32, activation=\"relu\")(x)\n",
    "    outputs = tf.keras.layers.Dense(4, activation=\"relu\")(x)\n",
    "    model = tf.keras.Model(inputs=inputs, outputs=outputs, name=\"LunarLander\")\n",
    "    return model\n",
    "\n",
    "optimizer = tf.keras.optimizers.Adam(learning_rate = 0.01)\n",
    "\n"
   ]
  },
  {
   "cell_type": "code",
   "execution_count": 3,
   "metadata": {},
   "outputs": [],
   "source": [
    "import random\n",
    "\n",
    "class Environment:\n",
    "    def __init__(self, NUM_ENVS, EPSILON = 0.2):\n",
    "        self.num_envs = NUM_ENVS\n",
    "        self.envs = envs = gym.vector.make('LunarLander-v2', num_envs=NUM_ENVS)#, render_mode='human')\n",
    "        self.current_state, _ = self.envs.reset()\n",
    "        self.epsilon = 0.2\n",
    "\n",
    "    def sample(self, model):\n",
    "        q_values = model(self.current_state) #get q values for current state\n",
    "        action = np.argmax(q_values, axis=1) #get action that maximizes q-value #potential error?\n",
    "        action = [random.choice(range(4)) if random.random() < self.epsilon else a for a in action] #choose epsilon greedy\n",
    "        new_observation, reward, terminated, truncated, info = self.envs.step(action)\n",
    "        old_observation = self.current_state\n",
    "\n",
    "        self.current_state = new_observation\n",
    "        return (old_observation, action, reward, new_observation)\n"
   ]
  },
  {
   "cell_type": "code",
   "execution_count": 4,
   "metadata": {},
   "outputs": [],
   "source": [
    "class Buffer:\n",
    "    def __init__(self, max_size):\n",
    "        self.buffer = []\n",
    "        self.max_size = max_size\n",
    "\n",
    "    def add_to_buffer(self, samples):\n",
    "        #unpack the different environments\n",
    "        for j in range(len(samples[0])):\n",
    "            self.buffer.append(np.array([samples[0][j], samples[1][j] , samples[2][j], samples[3][j]]))\n",
    "        if len(self.buffer) > self.max_size:\n",
    "            self.buffer = self.buffer[-self.max_size:]\n",
    "\n",
    "    def sample_minibatch(self, batch_size):\n",
    "        return np.array(random.sample(self.buffer, min(len(self.buffer), batch_size)))\n",
    "        "
   ]
  },
  {
   "cell_type": "code",
   "execution_count": 7,
   "metadata": {},
   "outputs": [],
   "source": [
    "TAU = 0.01\n",
    "N = 5\n",
    "K = 3\n",
    "MINI_BATCH_SIZE = 4\n",
    "CONVERGED = False\n",
    "MAX_STEPS = 1000\n",
    "GAMMA = 0.4\n"
   ]
  },
  {
   "cell_type": "code",
   "execution_count": 8,
   "metadata": {},
   "outputs": [
    {
     "name": "stdout",
     "output_type": "stream",
     "text": [
      " in step 100\n",
      " in step 200\n",
      " in step 300\n",
      " in step 400\n",
      " in step 500\n",
      " in step 600\n",
      " in step 700\n",
      " in step 800\n",
      " in step 900\n",
      " in step 1000\n"
     ]
    }
   ],
   "source": [
    "envs = Environment(5)\n",
    "\n",
    "# Create the model\n",
    "Q_theta = create_model()\n",
    "\n",
    "# Copy the model\n",
    "#Q_target = tf.keras.models.clone_model(Q_theta)\n",
    "\n",
    "kabuff = Buffer(50000)\n",
    "\n",
    "STEPS = 0\n",
    "while not CONVERGED and STEPS < MAX_STEPS:\n",
    "    STEPS += 1\n",
    "    \n",
    "    #Q_target.set_weights((1 - TAU) * np.array(Q_target.get_weights()) + TAU * np.array(Q_theta.get_weights())) #polyak averaging\n",
    "    for n in range(N):\n",
    "        a = envs.sample(Q_theta)\n",
    "        #kabuff.add_to_buffer([[1],[2],[3],[4]])\n",
    "        kabuff.add_to_buffer(a)\n",
    "        #for k in range(K):\n",
    "            #sample s,a,r,s' minibatch from buffer\n",
    "        #    minibatch = kabuff.sample_minibatch(MINI_BATCH_SIZE)\n",
    "\n",
    "            #new_states = minibatch[:,3]\n",
    "            #rewards = minibatch[:,2]\n",
    "            #actions = minibatch[:,1]\n",
    "            #old_states = minibatch[:,0]\n",
    "\n",
    "            #new_states = np.array([list(new_states)])[0]\n",
    "            #old_states = np.array([list(old_states)])[0]\n",
    "            #actions = np.array([list(actions)])[0]\n",
    "\n",
    "            #print(new_states.shape)\n",
    "\n",
    "            #Q_target_values = Q_target(new_states)\n",
    "            #max_Q_target_values = np.array([max(action_values) for action_values in Q_target_values])\n",
    "            #target_q_values = rewards + GAMMA * max_Q_target_values\n",
    "\n",
    "            #with tf.GradientTape() as tape:\n",
    "            #    predictions = Q_theta(old_states)\n",
    "                #print(predictions)\n",
    "            #    selected_q_values = tf.gather(predictions, actions, batch_dims=1)\n",
    "            #    loss_value = tf.reduce_mean(tf.square(target_q_values - selected_q_values))\n",
    "            #gradients = tape.gradient(loss_value, Q_theta.trainable_variables)\n",
    "            #optimizer.apply_gradients(zip(gradients, Q_theta.trainable_variables))\n",
    "    if STEPS % 100 == 0:\n",
    "        print(\" in step \" + str(STEPS))"
   ]
  },
  {
   "cell_type": "code",
   "execution_count": 7,
   "metadata": {},
   "outputs": [
    {
     "name": "stdout",
     "output_type": "stream",
     "text": [
      "WARNING:tensorflow:Compiled the loaded model, but the compiled metrics have yet to be built. `model.compile_metrics` will be empty until you train or evaluate the model.\n",
      "INFO:tensorflow:Assets written to: some_model/assets\n"
     ]
    }
   ],
   "source": [
    "Q_theta.save('some_model')"
   ]
  },
  {
   "cell_type": "code",
   "execution_count": null,
   "metadata": {},
   "outputs": [],
   "source": [
    "Q_theta = tf.keras.models.load_model(\"some_model\")\n"
   ]
  },
  {
   "cell_type": "code",
   "execution_count": 9,
   "metadata": {},
   "outputs": [],
   "source": [
    "test_env = gym.make('LunarLander-v2', render_mode='human')\n",
    "obs, inf = test_env.reset()\n"
   ]
  },
  {
   "cell_type": "code",
   "execution_count": 22,
   "metadata": {},
   "outputs": [
    {
     "ename": "",
     "evalue": "",
     "output_type": "error",
     "traceback": [
      "\u001b[1;31mThe Kernel crashed while executing code in the the current cell or a previous cell. Please review the code in the cell(s) to identify a possible cause of the failure. Click <a href='https://aka.ms/vscodeJupyterKernelCrash'>here</a> for more info. View Jupyter <a href='command:jupyter.viewOutput'>log</a> for further details."
     ]
    }
   ],
   "source": [
    "for i in range(1000):\n",
    "    qs = Q_theta(tf.expand_dims(obs, 0))\n",
    "    act = np.argmax(qs)\n",
    "    obs, _, terminated, _, _ = test_env.step(act)\n",
    "    if(terminated):\n",
    "        obs, _ = test_env.reset()"
   ]
  },
  {
   "cell_type": "code",
   "execution_count": null,
   "metadata": {},
   "outputs": [],
   "source": []
  }
 ],
 "metadata": {
  "kernelspec": {
   "display_name": "Python 3 (ipykernel)",
   "language": "python",
   "name": "python3"
  },
  "language_info": {
   "codemirror_mode": {
    "name": "ipython",
    "version": 3
   },
   "file_extension": ".py",
   "mimetype": "text/x-python",
   "name": "python",
   "nbconvert_exporter": "python",
   "pygments_lexer": "ipython3",
   "version": "3.11.3"
  }
 },
 "nbformat": 4,
 "nbformat_minor": 2
}
